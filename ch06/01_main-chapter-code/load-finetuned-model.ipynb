{
 "cells": [
  {
   "cell_type": "markdown",
   "id": "1545a16b-bc8d-4e49-b9a6-db6631e7483d",
   "metadata": {
    "id": "1545a16b-bc8d-4e49-b9a6-db6631e7483d"
   },
   "source": [
    "<table style=\"width:100%\">\n",
    "<tr>\n",
    "<td style=\"vertical-align:middle; text-align:left;\">\n",
    "<font size=\"2\">\n",
    "Supplementary code for the <a href=\"http://mng.bz/orYv\">Build a Large Language Model From Scratch</a> book by <a href=\"https://sebastianraschka.com\">Sebastian Raschka</a><br>\n",
    "<br>Code repository: <a href=\"https://github.com/rasbt/LLMs-from-scratch\">https://github.com/rasbt/LLMs-from-scratch</a>\n",
    "</font>\n",
    "</td>\n",
    "<td style=\"vertical-align:middle; text-align:left;\">\n",
    "<a href=\"http://mng.bz/orYv\"><img src=\"https://sebastianraschka.com/images/LLMs-from-scratch-images/cover-small.webp\" width=\"100px\"></a>\n",
    "</td>\n",
    "</tr>\n",
    "</table>"
   ]
  },
  {
   "cell_type": "markdown",
   "id": "f3f83194-82b9-4478-9550-5ad793467bd0",
   "metadata": {
    "id": "f3f83194-82b9-4478-9550-5ad793467bd0"
   },
   "source": [
    "# Load And Use Finetuned Model\n",
    "# 加载和使用微调模型"
   ]
  },
  {
   "cell_type": "markdown",
   "id": "466b564e-4fd5-4d76-a3a1-63f9f0993b7e",
   "metadata": {
    "id": "466b564e-4fd5-4d76-a3a1-63f9f0993b7e"
   },
   "source": [
    "This notebook contains minimal code to load the finetuned model that was created and saved in chapter 6 via [ch06.ipynb](ch06.ipynb).\n",
    "本笔记本包含最小代码，用于加载在第6章通过[ch06.ipynb](ch06.ipynb)创建和保存的微调模型。"
   ]
  },
  {
   "cell_type": "code",
   "execution_count": 1,
   "id": "fd80e5f5-0f79-4a6c-bf31-2026e7d30e52",
   "metadata": {
    "colab": {
     "base_uri": "https://localhost:8080/"
    },
    "id": "fd80e5f5-0f79-4a6c-bf31-2026e7d30e52",
    "outputId": "9eeefb8e-a7eb-4d62-cf78-c797b3ed4e2e"
   },
   "outputs": [
    {
     "name": "stdout",
     "output_type": "stream",
     "text": [
      "tiktoken version: 0.7.0\n",
      "torch version: 2.4.0\n"
     ]
    }
   ],
   "source": [
    "from importlib.metadata import version\n",
    "\n",
    "pkgs = [\n",
    "    \"tiktoken\",    # Tokenizer\n",
    "    \"torch\",       # Deep learning library\n",
    "]\n",
    "for p in pkgs:\n",
    "    print(f\"{p} version: {version(p)}\")"
   ]
  },
  {
   "cell_type": "code",
   "execution_count": 2,
   "id": "ed86d6b7-f32d-4601-b585-a2ea3dbf7201",
   "metadata": {
    "id": "ed86d6b7-f32d-4601-b585-a2ea3dbf7201"
   },
   "outputs": [],
   "source": [
    "# 导入Path类用于处理文件路径\n",
    "from pathlib import Path\n",
    "\n",
    "# 定义微调模型的保存路径\n",
    "finetuned_model_path = Path(\"review_classifier.pth\")\n",
    "# 检查模型文件是否存在\n",
    "if not finetuned_model_path.exists():\n",
    "    print(\n",
    "        f\"Could not find '{finetuned_model_path}'.\\n\"\n",
    "        \"Run the `ch06.ipynb` notebook to finetune and save the finetuned model.\"\n",
    "    )"
   ]
  },
  {
   "cell_type": "code",
   "execution_count": 3,
   "id": "fb02584a-5e31-45d5-8377-794876907bc6",
   "metadata": {
    "id": "fb02584a-5e31-45d5-8377-794876907bc6"
   },
   "outputs": [],
   "source": [
    "# 从前面章节导入GPT模型\n",
    "from previous_chapters import GPTModel\n",
    "\n",
    "\n",
    "# 基础配置字典\n",
    "BASE_CONFIG = {\n",
    "    \"vocab_size\": 50257,     # 词汇表大小\n",
    "    \"context_length\": 1024,  # 上下文长度\n",
    "    \"drop_rate\": 0.0,        # Dropout比率\n",
    "    \"qkv_bias\": True         # 查询-键-值偏置项\n",
    "}\n",
    "\n",
    "# 不同规模GPT2模型的配置\n",
    "model_configs = {\n",
    "    \"gpt2-small (124M)\": {\"emb_dim\": 768, \"n_layers\": 12, \"n_heads\": 12},    # 小型GPT2,1.24亿参数\n",
    "    \"gpt2-medium (355M)\": {\"emb_dim\": 1024, \"n_layers\": 24, \"n_heads\": 16},  # 中型GPT2,3.55亿参数\n",
    "    \"gpt2-large (774M)\": {\"emb_dim\": 1280, \"n_layers\": 36, \"n_heads\": 20},   # 大型GPT2,7.74亿参数\n",
    "    \"gpt2-xl (1558M)\": {\"emb_dim\": 1600, \"n_layers\": 48, \"n_heads\": 25},     # 超大型GPT2,15.58亿参数\n",
    "}\n",
    "\n",
    "# 选择要使用的模型规模\n",
    "CHOOSE_MODEL = \"gpt2-small (124M)\"\n",
    "\n",
    "# 更新基础配置\n",
    "BASE_CONFIG.update(model_configs[CHOOSE_MODEL])\n",
    "\n",
    "# 初始化基础模型\n",
    "model = GPTModel(BASE_CONFIG)"
   ]
  },
  {
   "cell_type": "code",
   "execution_count": 4,
   "id": "f1ccf2b7-176e-4cfd-af7a-53fb76010b94",
   "metadata": {
    "id": "f1ccf2b7-176e-4cfd-af7a-53fb76010b94"
   },
   "outputs": [],
   "source": [
    "# 导入PyTorch库\n",
    "import torch\n",
    "\n",
    "# 将模型转换为分类器(参考ch06.ipynb第6.5节)\n",
    "num_classes = 2  # 定义分类类别数(垃圾/非垃圾评论)\n",
    "# 创建线性分类层,输入维度为模型嵌入维度,输出维度为类别数\n",
    "model.out_head = torch.nn.Linear(in_features=BASE_CONFIG[\"emb_dim\"], out_features=num_classes)\n",
    "\n",
    "# 加载预训练权重\n",
    "# 根据是否有GPU选择设备\n",
    "device = torch.device(\"cuda\" if torch.cuda.is_available() else \"cpu\")\n",
    "# 加载模型权重到指定设备\n",
    "model.load_state_dict(torch.load(\"review_classifier.pth\", map_location=device, weights_only=True))\n",
    "# 将模型移至指定设备\n",
    "model.to(device)\n",
    "# 将模型设置为评估模式\n",
    "model.eval();"
   ]
  },
  {
   "cell_type": "code",
   "execution_count": 5,
   "id": "a1fd174e-9555-46c5-8780-19b0aa4f26e5",
   "metadata": {
    "id": "a1fd174e-9555-46c5-8780-19b0aa4f26e5"
   },
   "outputs": [],
   "source": [
    "# 导入tiktoken库用于分词\n",
    "import tiktoken\n",
    "\n",
    "# 获取GPT-2的分词器\n",
    "tokenizer = tiktoken.get_encoding(\"gpt2\")"
   ]
  },
  {
   "cell_type": "code",
   "execution_count": 6,
   "id": "2a4c0129-efe5-46e9-bb90-ba08d407c1a2",
   "metadata": {
    "id": "2a4c0129-efe5-46e9-bb90-ba08d407c1a2"
   },
   "outputs": [],
   "source": [
    "# 此函数在ch06.ipynb中实现\n",
    "def classify_review(text, model, tokenizer, device, max_length=None, pad_token_id=50256):\n",
    "    # 将模型设置为评估模式\n",
    "    model.eval()\n",
    "\n",
    "    # 准备模型输入:使用分词器对文本进行编码\n",
    "    input_ids = tokenizer.encode(text)\n",
    "    # 获取模型支持的最大上下文长度\n",
    "    supported_context_length = model.pos_emb.weight.shape[0]\n",
    "\n",
    "    # 如果序列太长则截断\n",
    "    input_ids = input_ids[:min(max_length, supported_context_length)]\n",
    "\n",
    "    # 用pad_token_id填充序列到指定长度\n",
    "    input_ids += [pad_token_id] * (max_length - len(input_ids))\n",
    "    # 转换为tensor并添加batch维度\n",
    "    input_tensor = torch.tensor(input_ids, device=device).unsqueeze(0)\n",
    "\n",
    "    # 模型推理:不计算梯度\n",
    "    with torch.no_grad():\n",
    "        # 获取最后一个token的logits输出\n",
    "        logits = model(input_tensor.to(device))[:, -1, :]\n",
    "    # 获取预测标签\n",
    "    predicted_label = torch.argmax(logits, dim=-1).item()\n",
    "\n",
    "    # 返回分类结果:1表示垃圾文本,0表示正常文本\n",
    "    return \"spam\" if predicted_label == 1 else \"not spam\""
   ]
  },
  {
   "cell_type": "code",
   "execution_count": 7,
   "id": "1e26862c-10b5-4a0f-9dd6-b6ddbad2fc3f",
   "metadata": {
    "colab": {
     "base_uri": "https://localhost:8080/"
    },
    "id": "1e26862c-10b5-4a0f-9dd6-b6ddbad2fc3f",
    "outputId": "28eb2c02-0e38-4356-b2a3-2bf6accb5316"
   },
   "outputs": [
    {
     "name": "stdout",
     "output_type": "stream",
     "text": [
      "spam\n"
     ]
    }
   ],
   "source": [
    "# 定义一个垃圾短信样本文本\n",
    "text_1 = (\n",
    "    \"You are a winner you have been specially\"\n",
    "    \" selected to receive $1000 cash or a $2000 award.\"\n",
    ")\n",
    "\n",
    "# 使用分类模型对文本进行分类,并打印结果\n",
    "print(classify_review(\n",
    "    text_1, model, tokenizer, device, max_length=120\n",
    "))"
   ]
  },
  {
   "cell_type": "code",
   "execution_count": 8,
   "id": "78472e05-cb4e-4ec4-82e8-23777aa90cf8",
   "metadata": {
    "colab": {
     "base_uri": "https://localhost:8080/"
    },
    "id": "78472e05-cb4e-4ec4-82e8-23777aa90cf8",
    "outputId": "0cd3cd62-f407-45f3-fa4f-51ff665355eb"
   },
   "outputs": [
    {
     "name": "stdout",
     "output_type": "stream",
     "text": [
      "not spam\n"
     ]
    }
   ],
   "source": [
    "# 定义一个正常短信样本文本\n",
    "text_2 = (\n",
    "    \"Hey, just wanted to check if we're still on\"\n",
    "    \" for dinner tonight? Let me know!\"\n",
    ")\n",
    "\n",
    "# 使用分类模型对文本进行分类,并打印结果 \n",
    "print(classify_review(\n",
    "    text_2, model, tokenizer, device, max_length=120\n",
    "))"
   ]
  }
 ],
 "metadata": {
  "accelerator": "GPU",
  "colab": {
   "gpuType": "L4",
   "provenance": []
  },
  "kernelspec": {
   "display_name": "Python 3 (ipykernel)",
   "language": "python",
   "name": "python3"
  },
  "language_info": {
   "codemirror_mode": {
    "name": "ipython",
    "version": 3
   },
   "file_extension": ".py",
   "mimetype": "text/x-python",
   "name": "python",
   "nbconvert_exporter": "python",
   "pygments_lexer": "ipython3",
   "version": "3.10.15"
  }
 },
 "nbformat": 4,
 "nbformat_minor": 5
}
