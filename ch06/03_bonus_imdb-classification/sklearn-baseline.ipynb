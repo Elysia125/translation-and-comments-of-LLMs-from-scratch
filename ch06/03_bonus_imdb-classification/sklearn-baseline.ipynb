{
 "cells": [
  {
   "cell_type": "markdown",
   "id": "8968a681-2db1-4840-bb73-7d6c95986825",
   "metadata": {},
   "source": [
    "<table style=\"width:100%\">\n",
    "<tr>\n",
    "<td style=\"vertical-align:middle; text-align:left;\">\n",
    "<font size=\"2\">\n",
    "Supplementary code for the <a href=\"http://mng.bz/orYv\">Build a Large Language Model From Scratch</a> book by <a href=\"https://sebastianraschka.com\">Sebastian Raschka</a><br>\n",
    "<br>Code repository: <a href=\"https://github.com/rasbt/LLMs-from-scratch\">https://github.com/rasbt/LLMs-from-scratch</a>\n",
    "</font>\n",
    "</td>\n",
    "<td style=\"vertical-align:middle; text-align:left;\">\n",
    "<a href=\"http://mng.bz/orYv\"><img src=\"https://sebastianraschka.com/images/LLMs-from-scratch-images/cover-small.webp\" width=\"100px\"></a>\n",
    "</td>\n",
    "</tr>\n",
    "</table>"
   ]
  },
  {
   "cell_type": "markdown",
   "id": "8b6e1cdd-b14e-4368-bdbb-9bf7ab821791",
   "metadata": {},
   "source": [
    "# Scikit-learn Logistic Regression Model\n",
    "# Scikit-learn 逻辑回归模型"
   ]
  },
  {
   "cell_type": "code",
   "execution_count": 1,
   "id": "c2a72242-6197-4bef-aa05-696a152350d5",
   "metadata": {},
   "outputs": [
    {
     "name": "stdout",
     "output_type": "stream",
     "text": [
      "100% | 80.23 MB | 4.37 MB/s | 18.38 sec elapsed"
     ]
    }
   ],
   "source": [
    "!python download-prepare-dataset.py"
   ]
  },
  {
   "cell_type": "code",
   "execution_count": 14,
   "id": "69f32433-e19c-4066-b806-8f30b408107f",
   "metadata": {},
   "outputs": [],
   "source": [
    "# 导入pandas库用于数据处理\n",
    "import pandas as pd\n",
    "\n",
    "# 读取训练集数据\n",
    "train_df = pd.read_csv(\"train.csv\")\n",
    "# 读取验证集数据 \n",
    "val_df = pd.read_csv(\"validation.csv\")\n",
    "# 读取测试集数据\n",
    "test_df = pd.read_csv(\"test.csv\")"
   ]
  },
  {
   "cell_type": "code",
   "execution_count": 16,
   "id": "0808b212-fe91-48d9-80b8-55519f8835d5",
   "metadata": {},
   "outputs": [
    {
     "data": {
      "text/html": [
       "<div>\n",
       "<style scoped>\n",
       "    .dataframe tbody tr th:only-of-type {\n",
       "        vertical-align: middle;\n",
       "    }\n",
       "\n",
       "    .dataframe tbody tr th {\n",
       "        vertical-align: top;\n",
       "    }\n",
       "\n",
       "    .dataframe thead th {\n",
       "        text-align: right;\n",
       "    }\n",
       "</style>\n",
       "<table border=\"1\" class=\"dataframe\">\n",
       "  <thead>\n",
       "    <tr style=\"text-align: right;\">\n",
       "      <th></th>\n",
       "      <th>text</th>\n",
       "      <th>label</th>\n",
       "    </tr>\n",
       "  </thead>\n",
       "  <tbody>\n",
       "    <tr>\n",
       "      <th>0</th>\n",
       "      <td>The only reason I saw \"Shakedown\" was that it ...</td>\n",
       "      <td>0</td>\n",
       "    </tr>\n",
       "    <tr>\n",
       "      <th>1</th>\n",
       "      <td>This is absolute drivel, designed to shock and...</td>\n",
       "      <td>0</td>\n",
       "    </tr>\n",
       "    <tr>\n",
       "      <th>2</th>\n",
       "      <td>Lots of scenes and dialogue are flat-out goofy...</td>\n",
       "      <td>1</td>\n",
       "    </tr>\n",
       "    <tr>\n",
       "      <th>3</th>\n",
       "      <td>** and 1/2 stars out of **** Lifeforce is one ...</td>\n",
       "      <td>1</td>\n",
       "    </tr>\n",
       "    <tr>\n",
       "      <th>4</th>\n",
       "      <td>I learned a thing: you have to take this film ...</td>\n",
       "      <td>1</td>\n",
       "    </tr>\n",
       "  </tbody>\n",
       "</table>\n",
       "</div>"
      ],
      "text/plain": [
       "                                                text  label\n",
       "0  The only reason I saw \"Shakedown\" was that it ...      0\n",
       "1  This is absolute drivel, designed to shock and...      0\n",
       "2  Lots of scenes and dialogue are flat-out goofy...      1\n",
       "3  ** and 1/2 stars out of **** Lifeforce is one ...      1\n",
       "4  I learned a thing: you have to take this film ...      1"
      ]
     },
     "execution_count": 16,
     "metadata": {},
     "output_type": "execute_result"
    }
   ],
   "source": [
    "# 显示训练数据集的前5行样本\n",
    "train_df.head()"
   ]
  },
  {
   "cell_type": "markdown",
   "id": "fae87bc1-14ca-4f89-8e12-49f77b0ec00d",
   "metadata": {},
   "source": [
    "## Scikit-learn baseline\n",
    "## Scikit-learn 基准模型"
   ]
  },
  {
   "cell_type": "code",
   "execution_count": 17,
   "id": "180318b7-de18-4b05-b84a-ba97c72b9d8e",
   "metadata": {},
   "outputs": [],
   "source": [
    "# 从sklearn导入CountVectorizer用于文本特征提取\n",
    "from sklearn.feature_extraction.text import CountVectorizer\n",
    "# 从sklearn导入LogisticRegression用于逻辑回归分类\n",
    "from sklearn.linear_model import LogisticRegression\n",
    "# 从sklearn导入accuracy_score用于计算准确率\n",
    "from sklearn.metrics import accuracy_score"
   ]
  },
  {
   "cell_type": "code",
   "execution_count": 20,
   "id": "25090b7c-f516-4be2-8083-3a7187fe4635",
   "metadata": {},
   "outputs": [],
   "source": [
    "# 创建CountVectorizer对象用于文本特征提取\n",
    "vectorizer = CountVectorizer()\n",
    "\n",
    "# 对训练集文本进行特征提取和转换\n",
    "X_train = vectorizer.fit_transform(train_df[\"text\"])\n",
    "# 使用训练好的vectorizer对验证集文本进行转换\n",
    "X_val = vectorizer.transform(val_df[\"text\"]) \n",
    "# 使用训练好的vectorizer对测试集文本进行转换\n",
    "X_test = vectorizer.transform(test_df[\"text\"])\n",
    "\n",
    "# 获取训练集、验证集和测试集的标签\n",
    "y_train, y_val, y_test = train_df[\"label\"], val_df[\"label\"], test_df[\"label\"]"
   ]
  },
  {
   "cell_type": "code",
   "execution_count": 22,
   "id": "0247de3a-88f0-4b9c-becd-157baf3acf49",
   "metadata": {},
   "outputs": [],
   "source": [
    "# 定义评估函数,接收模型和训练、验证、测试数据集作为参数\n",
    "def eval(model, X_train, y_train, X_val, y_val, X_test, y_test):\n",
    "    # 使用模型对训练集进行预测\n",
    "    y_pred_train = model.predict(X_train)\n",
    "    # 使用模型对验证集进行预测\n",
    "    y_pred_val = model.predict(X_val)\n",
    "    # 使用模型对测试集进行预测\n",
    "    y_pred_test = model.predict(X_test)\n",
    "    \n",
    "    # 计算训练集的准确率\n",
    "    accuracy_train = accuracy_score(y_train, y_pred_train)\n",
    "    # 计算训练集的平衡准确率\n",
    "    balanced_accuracy_train = balanced_accuracy_score(y_train, y_pred_train)\n",
    "    \n",
    "    # 计算验证集的准确率\n",
    "    accuracy_val = accuracy_score(y_val, y_pred_val)\n",
    "    # 计算验证集的平衡准确率\n",
    "    balanced_accuracy_val = balanced_accuracy_score(y_val, y_pred_val)\n",
    "\n",
    "    # 计算测试集的准确率\n",
    "    accuracy_test = accuracy_score(y_test, y_pred_test)\n",
    "    # 计算测试集的平衡准确率\n",
    "    balanced_accuracy_test = balanced_accuracy_score(y_test, y_pred_test)\n",
    "    \n",
    "    # 打印训练集准确率\n",
    "    print(f\"Training Accuracy: {accuracy_train*100:.2f}%\")\n",
    "    # 打印验证集准确率\n",
    "    print(f\"Validation Accuracy: {accuracy_val*100:.2f}%\")\n",
    "    # 打印测试集准确率\n",
    "    print(f\"Test Accuracy: {accuracy_test*100:.2f}%\")"
   ]
  },
  {
   "cell_type": "code",
   "execution_count": 23,
   "id": "c29c6dfc-f72d-40ab-8cb5-783aad1a15ab",
   "metadata": {},
   "outputs": [
    {
     "name": "stdout",
     "output_type": "stream",
     "text": [
      "Training Accuracy: 50.01%\n",
      "Validation Accuracy: 50.14%\n",
      "Test Accuracy: 49.91%\n"
     ]
    }
   ],
   "source": [
    "# 从sklearn导入DummyClassifier用于创建基准分类器\n",
    "from sklearn.dummy import DummyClassifier\n",
    "\n",
    "# 创建一个DummyClassifier实例,使用\"预测最频繁类别\"的策略\n",
    "dummy_clf = DummyClassifier(strategy=\"most_frequent\") \n",
    "\n",
    "# 使用训练数据拟合分类器\n",
    "dummy_clf.fit(X_train, y_train)\n",
    "\n",
    "# 评估分类器在训练集、验证集和测试集上的性能\n",
    "eval(dummy_clf, X_train, y_train, X_val, y_val, X_test, y_test)"
   ]
  },
  {
   "cell_type": "code",
   "execution_count": 24,
   "id": "088a8a3a-3b74-4d10-a51b-cb662569ae39",
   "metadata": {},
   "outputs": [
    {
     "name": "stdout",
     "output_type": "stream",
     "text": [
      "Training Accuracy: 99.80%\n",
      "Validation Accuracy: 88.62%\n",
      "Test Accuracy: 88.85%\n"
     ]
    }
   ],
   "source": [
    "# 创建逻辑回归模型,设置最大迭代次数为1000\n",
    "model = LogisticRegression(max_iter=1000)\n",
    "# 使用训练数据拟合模型\n",
    "model.fit(X_train, y_train)\n",
    "# 评估模型在训练集、验证集和测试集上的性能\n",
    "eval(model, X_train, y_train, X_val, y_val, X_test, y_test)"
   ]
  }
 ],
 "metadata": {
  "kernelspec": {
   "display_name": "Python 3 (ipykernel)",
   "language": "python",
   "name": "python3"
  },
  "language_info": {
   "codemirror_mode": {
    "name": "ipython",
    "version": 3
   },
   "file_extension": ".py",
   "mimetype": "text/x-python",
   "name": "python",
   "nbconvert_exporter": "python",
   "pygments_lexer": "ipython3",
   "version": "3.10.15"
  }
 },
 "nbformat": 4,
 "nbformat_minor": 5
}
