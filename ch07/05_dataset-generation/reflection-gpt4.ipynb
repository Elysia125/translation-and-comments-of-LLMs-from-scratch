{
 "cells": [
  {
   "cell_type": "markdown",
   "id": "136a4efe-fb99-4311-8679-e0a5b6282755",
   "metadata": {},
   "source": [
    "<table style=\"width:100%\">\n",
    "<tr>\n",
    "<td style=\"vertical-align:middle; text-align:left;\">\n",
    "<font size=\"2\">\n",
    "Supplementary code for the <a href=\"http://mng.bz/orYv\">Build a Large Language Model From Scratch</a> book by <a href=\"https://sebastianraschka.com\">Sebastian Raschka</a><br>\n",
    "<br>Code repository: <a href=\"https://github.com/rasbt/LLMs-from-scratch\">https://github.com/rasbt/LLMs-from-scratch</a>\n",
    "</font>\n",
    "</td>\n",
    "<td style=\"vertical-align:middle; text-align:left;\">\n",
    "<a href=\"http://mng.bz/orYv\"><img src=\"https://sebastianraschka.com/images/LLMs-from-scratch-images/cover-small.webp\" width=\"100px\"></a>\n",
    "</td>\n",
    "</tr>\n",
    "</table>"
   ]
  },
  {
   "cell_type": "markdown",
   "id": "b1910a06-e8a3-40ac-8201-ff70615b1ba4",
   "metadata": {
    "tags": []
   },
   "source": [
    "# Improving Instruction-Data Via Reflection-Tuning Using GPT-4\n",
    "# 使用 GPT-4 通过反思调优改进指令数据"
   ]
  },
  {
   "cell_type": "markdown",
   "id": "a128651b-f326-4232-a994-42f38b7ed520",
   "metadata": {},
   "source": [
    "- This notebook uses OpenAI's GPT-4 API to implement the dataset refinement process from the [Reflection-Tuning: Data Recycling Improves LLM Instruction-Tuning](https://arxiv.org/abs/2310.11716) paper\n",
    "- 本笔记本使用OpenAI的GPT-4 API来实现来自[Reflection-Tuning: 数据回收改进LLM指令调优](https://arxiv.org/abs/2310.11716)论文的数据集优化过程\n",
    "\n",
    "![](https://sebastianraschka.com/images/LLMs-from-scratch-images/bonus/reflection-tuning/reflection-tuning.webp)\n",
    "\n",
    "- In the original paper, the researchers refined the [Alpaca](https://huggingface.co/datasets/tatsu-lab/alpaca) and [WizardLM](https://huggingface.co/datasets/WizardLMTeam/WizardLM_evol_instruct_70k) instruction-finetuning datasets; in this notebook, we refine the [instruction-dataset used in chapter 7](https://github.com/rasbt/LLMs-from-scratch/blob/main/ch07/01_main-chapter-code/instruction-data.json) (however, since it has the same format as Alpaca, the same code works with the Alpaca dataset as well)\n",
    "- 在原论文中，研究人员优化了[Alpaca](https://huggingface.co/datasets/tatsu-lab/alpaca)和[WizardLM](https://huggingface.co/datasets/WizardLMTeam/WizardLM_evol_instruct_70k)指令微调数据集；在本笔记本中，我们优化[第7章使用的指令数据集](https://github.com/rasbt/LLMs-from-scratch/blob/main/ch07/01_main-chapter-code/instruction-data.json)（由于它与Alpaca具有相同的格式，因此相同的代码也适用于Alpaca数据集）\n",
    "\n",
    "- The expected dataset format is as follows:\n",
    "\n",
    "```python\n",
    "    {\n",
    "        \"instruction\": \"Edit the following sentence for grammar.\",\n",
    "        \"input\": \"He go to the park every day.\",\n",
    "        \"output\": \"He goes to the park every day.\"\n",
    "    },\n",
    "    {\n",
    "        \"instruction\": \"Convert 45 kilometers to meters.\",\n",
    "        \"input\": \"\",\n",
    "        \"output\": \"45 kilometers is 45000 meters.\"\n",
    "    },\n",
    "```"
   ]
  },
  {
   "cell_type": "markdown",
   "id": "86ac82b4-e3d5-4ed5-8f46-6c97a9313463",
   "metadata": {},
   "source": [
    "> Please note that this notebook reproduces the approach from the paper in which the authors used the GPT API to enhance existing datasets. However, it's important to be aware that GPT API-generated data may not be used to develop models that compete with OpenAI, as specified in the [OpenAI Terms of Use](https://openai.com/policies/row-terms-of-use/): \"What you cannot do... Use Output to develop models that compete with OpenAI.\"\n",
    "> 请注意，本笔记本复现了论文中作者使用 GPT API 增强现有数据集的方法。但是，请务必注意，根据 [OpenAI 使用条款](https://openai.com/policies/row-terms-of-use/) 规定，GPT API 生成的数据不能用于开发与 OpenAI 竞争的模型：\"禁止事项...使用输出开发与 OpenAI 竞争的模型。\"\n",
    "\n",
    "You can find a relevant discussion [here](https://www.reddit.com/r/LocalLLaMA/comments/17vbg1f/does_openai_tos_prohibit_generating_datasets_for/)).\n",
    "你可以在[这里](https://www.reddit.com/r/LocalLLaMA/comments/17vbg1f/does_openai_tos_prohibit_generating_datasets_for/))找到相关讨论。"
   ]
  },
  {
   "cell_type": "code",
   "execution_count": 1,
   "id": "267ba0d1-b884-42df-85bd-0be746fd47a5",
   "metadata": {},
   "outputs": [],
   "source": [
    "# pip install -r requirements-extra.txt"
   ]
  },
  {
   "cell_type": "code",
   "execution_count": 2,
   "id": "63610acc-db94-437f-8d38-e99dca0299cb",
   "metadata": {},
   "outputs": [
    {
     "name": "stdout",
     "output_type": "stream",
     "text": [
      "openai version: 1.30.3\n",
      "tqdm version: 4.66.4\n"
     ]
    }
   ],
   "source": [
    "from importlib.metadata import version\n",
    "\n",
    "pkgs = [\n",
    "    \"openai\",  # OpenAI API\n",
    "    \"tqdm\",    # Progress bar\n",
    "]\n",
    "\n",
    "for p in pkgs:\n",
    "    print(f\"{p} version: {version(p)}\")"
   ]
  },
  {
   "cell_type": "markdown",
   "id": "8bcdcb34-ac75-4f4f-9505-3ce0666c42d5",
   "metadata": {},
   "source": [
    "## Test OpenAI API\n",
    "## 测试 OpenAI API"
   ]
  },
  {
   "cell_type": "markdown",
   "id": "9558a522-650d-401a-84fc-9fd7b1f39da7",
   "metadata": {},
   "source": [
    "- First, let's test if the OpenAI API is correctly set up\n",
    "- 首先，让我们测试OpenAI API是否正确设置\n",
    "- If you don't have an account yet, you need to create one at https://platform.openai.com/\n",
    "- 如果你还没有账号，需要在 https://platform.openai.com/ 创建一个\n",
    "- Note that you will also have to transfer some funds to your account as the GPT-4 API is not free (see https://platform.openai.com/settings/organization/billing/overview)\n",
    "- 请注意，由于GPT-4 API不是免费的，你还需要向账户转入资金（参见 https://platform.openai.com/settings/organization/billing/overview）\n",
    "- Running the code exactly as it appears in this notebook costs about \\$0.03 (3 cents) with GPT-4o-mini as of this writing\n",
    "- 按照本笔记本中的代码运行，使用GPT-4o-mini目前大约需要花费0.03美元（3美分）\n",
    "- Applying the two methodologies above to all 1100 entries in the chapter 7 instruction dataset costs about \\$0.60 (60 cents)\n",
    "- 将上述两种方法应用于第7章指令数据集的所有1100个条目，大约需要花费0.60美元（60美分）"
   ]
  },
  {
   "cell_type": "markdown",
   "id": "89343a84-0ddc-42fc-bf50-298a342b93c0",
   "metadata": {},
   "source": [
    "- First, we need to provide our OpenAI API secret key, which can be found at https://platform.openai.com/api-keys\n",
    "- 首先，我们需要提供 OpenAI API 密钥，可以在 https://platform.openai.com/api-keys 找到\n",
    "- Make sure not to share this key with anyone\n",
    "- 请确保不要与任何人分享此密钥\n",
    "- Add this secret key (`\"sk-...\"`) to the `config.json` file in this folder\n",
    "- 将此密钥 (`\"sk-...\"`) 添加到此文件夹中的 `config.json` 文件中"
   ]
  },
  {
   "cell_type": "code",
   "execution_count": 3,
   "id": "65b0ba76-1fb1-4306-a7c2-8f3bb637ccdb",
   "metadata": {},
   "outputs": [],
   "source": [
    "# 导入所需的库\n",
    "import json\n",
    "from openai import OpenAI\n",
    "\n",
    "# 从 JSON 文件加载 API 密钥\n",
    "# 确保将 \"sk-...\" 替换为从 https://platform.openai.com/api-keys 获取的实际 API 密钥\n",
    "with open(\"config.json\", \"r\") as config_file:\n",
    "    config = json.load(config_file)\n",
    "    api_key = config[\"OPENAI_API_KEY\"]\n",
    "\n",
    "# 初始化 OpenAI 客户端\n",
    "client = OpenAI(api_key=api_key)"
   ]
  },
  {
   "cell_type": "markdown",
   "id": "16642a48-1cab-40d2-af08-ab8c2fbf5876",
   "metadata": {},
   "source": [
    "- First, let's try the API with a simple example to make sure it works as intended:\n",
    "- 首先，让我们用一个简单的例子来测试API，确保它能按预期工作："
   ]
  },
  {
   "cell_type": "code",
   "execution_count": 4,
   "id": "08e9ef2e-e816-4283-840e-43625791ad33",
   "metadata": {},
   "outputs": [
    {
     "data": {
      "text/plain": [
       "'hello world'"
      ]
     },
     "execution_count": 4,
     "metadata": {},
     "output_type": "execute_result"
    }
   ],
   "source": [
    "# 定义一个函数来运行ChatGPT API调用\n",
    "def run_chatgpt(prompt, client, model=\"gpt-4o-mini\", system_prompt=None):\n",
    "    # 定义一个空的消息列表用于存储对话内容\n",
    "    messages = []\n",
    "    \n",
    "    # 如果提供了系统提示词，将其添加到消息列表中\n",
    "    if system_prompt:\n",
    "        messages.append({\"role\": \"system\", \"content\": system_prompt})\n",
    "    \n",
    "    # 将用户的提示词添加到消息列表中\n",
    "    messages.append({\"role\": \"user\", \"content\": prompt})\n",
    "\n",
    "    # 调用OpenAI API创建聊天完成\n",
    "    response = client.chat.completions.create(\n",
    "        model=model,        # 使用指定的模型\n",
    "        messages=messages,  # 传入消息列表\n",
    "        temperature=0.0,    # 设置温度为0以获得确定性输出\n",
    "        seed=123,          # 设置随机种子以保证可重复性\n",
    "    )\n",
    "    \n",
    "    # 返回模型的响应文本\n",
    "    return response.choices[0].message.content\n",
    "\n",
    "\n",
    "# 定义测试用的提示词\n",
    "prompt = f\"Respond with 'hello world' if you got this message.\"\n",
    "# 调用函数测试API\n",
    "run_chatgpt(prompt, client)"
   ]
  },
  {
   "cell_type": "markdown",
   "id": "162a4739-6f03-4092-a5c2-f57a0b6a4c4d",
   "metadata": {},
   "source": [
    "## Load JSON Entries\n",
    "## 加载 JSON 条目"
   ]
  },
  {
   "cell_type": "markdown",
   "id": "ca011a8b-20c5-4101-979e-9b5fccf62f8a",
   "metadata": {},
   "source": [
    "- Next, let's load and process the instruction dataset\n",
    "- 接下来,让我们加载和处理指令数据集\n",
    "- Here, we assume that we saved the test dataset and the model responses as a JSON file that we can load as follows:\n",
    "- 在这里,我们假设已经将测试数据集和模型响应保存为JSON文件,我们可以按如下方式加载:"
   ]
  },
  {
   "cell_type": "code",
   "execution_count": 5,
   "id": "8b2d393a-aa92-4190-9d44-44326a6f699b",
   "metadata": {},
   "outputs": [
    {
     "name": "stdout",
     "output_type": "stream",
     "text": [
      "Number of entries: 1100\n"
     ]
    }
   ],
   "source": [
    "# 导入pathlib库中的Path类用于处理文件路径\n",
    "from pathlib import Path\n",
    "\n",
    "\n",
    "# 使用Path构建JSON文件的路径\n",
    "json_file = Path(\"..\") / \"01_main-chapter-code\" / \"instruction-data.json\"\n",
    "\n",
    "# 打开并读取JSON文件的内容\n",
    "with open(json_file, \"r\") as file:\n",
    "    json_data = json.load(file)\n",
    "\n",
    "# 打印数据集中的条目数量\n",
    "print(\"Number of entries:\", len(json_data))"
   ]
  },
  {
   "cell_type": "markdown",
   "id": "b6c9751b-59b7-43fe-acc7-14e8daf2fa66",
   "metadata": {},
   "source": [
    "- Let's print one of the dataset entries to see its structure:\n",
    "- 让我们打印一个数据集条目来查看其结构:"
   ]
  },
  {
   "cell_type": "code",
   "execution_count": 6,
   "id": "ce187422-a4e6-4f3c-b0d1-b03257f5bcdd",
   "metadata": {},
   "outputs": [
    {
     "name": "stdout",
     "output_type": "stream",
     "text": [
      "{'instruction': 'Evaluate the following phrase by transforming it into the '\n",
      "                'spelling given.',\n",
      " 'input': 'freind --> friend',\n",
      " 'output': 'The spelling of the given phrase \"freind\" is incorrect, the '\n",
      "           'correct spelling is \"friend\".'}\n"
     ]
    }
   ],
   "source": [
    "# 从pprint模块导入pp函数并重命名为pprint\n",
    "from pprint import pp as pprint\n",
    "\n",
    "# 使用pprint函数打印json_data中的第一个条目\n",
    "pprint(json_data[0])"
   ]
  },
  {
   "cell_type": "markdown",
   "id": "3fce41e0-433f-49aa-82b7-a9d1a1d41604",
   "metadata": {
    "tags": []
   },
   "source": [
    "## Improve Instructions\n",
    "## 改进指令"
   ]
  },
  {
   "cell_type": "markdown",
   "id": "05a9fc6e-1c1b-49fc-90c4-fdf66467035e",
   "metadata": {},
   "source": [
    "- The Reflection-Tuning authors shared two approaches: (1) improving the instructions and (2) improving the responses\n",
    "- Reflection-Tuning 作者分享了两种方法:(1)改进指令和(2)改进响应\n",
    "\n",
    "- Let's begin by improving the instructions in a given dataset  \n",
    "- 让我们从改进给定数据集中的指令开始\n",
    "\n",
    "- Below is a small utility function from the [Reflection-Tuning repository](https://github.com/tianyi-lab/Reflection_Tuning/blob/main/reflection_code/reflect_response.py) to format the inputs to the GPT-4 model for this dataset refinement\n",
    "- 下面是来自 [Reflection-Tuning 仓库](https://github.com/tianyi-lab/Reflection_Tuning/blob/main/reflection_code/reflect_response.py) 的一个小工具函数,用于格式化输入到 GPT-4 模型以进行数据集优化"
   ]
  },
  {
   "cell_type": "code",
   "execution_count": 7,
   "id": "76d28ada-9e1a-4818-8a49-82be44141533",
   "metadata": {},
   "outputs": [],
   "source": [
    "def instr_prompt_no_input(ins, outp):\n",
    "    \"\"\"\n",
    "    生成用于评估指令质量的提示模板\n",
    "    \n",
    "    参数:\n",
    "        ins: 原始指令文本\n",
    "        outp: 原始回答文本\n",
    "        \n",
    "    返回:\n",
    "        sys_prompt: 系统提示语\n",
    "        prompt: 完整的提示模板\n",
    "    \"\"\"\n",
    "    # 定义系统提示语,说明助手的角色\n",
    "    sys_prompt = \"You are a helpful, precise but picky assistant for checking the quality of a given instruction.\"\n",
    "    \n",
    "    # 定义提示模板的基本结构\n",
    "    prompt_template = \"[Instruction]\\n{ins}\\n\\n[The Start of Answer]\\n{outp}\\n\\n[The End of Answer]\\n\\n[System]\\n{criteria}\\n\\n\"\n",
    "    \n",
    "    # 定义评估标准,包含三个主要部分:\n",
    "    # 1. 分析指令的不足之处\n",
    "    # 2. 生成新的更好的指令\n",
    "    # 3. 回答新生成的指令\n",
    "    criteria = \"We would like you to answer several questions related to the quality of a given instruction. \\n\" + \\\n",
    "                \"1. Why this instruction is not good? First analyse the instruction based on Complexity of the Topic, Level of Detail Required, Knowledge Required, Ambiguity of the Instruction and Logical Reasoning or Problem-Solving Involved. \\n\" + \\\n",
    "                \"Then analyse why this answer is not good for the given instruction? Analyse based on the Helpfulness, Relevance, Accuracy and Level of Details. \\n\" + \\\n",
    "                \"Finally analyse why this bad instruction lead to a bad answer. \" +\\\n",
    "                \"2. Based on the reason you provided, generate a new and complete instruction which is complex and difficult to answer directly. \" + \\\n",
    "                \"Make sure the new instruction is relevent but independent to the original instruction, which can be answered without knowing the original instruction, put the new instruction in the format of [New Instruction] your instruction [End]\" +\\\n",
    "                \"3. Answer the newly generated instruction as detailed as possible, in the format of [New Answer] your answer [End] \\n\"\n",
    "    \n",
    "    # 使用format方法填充模板\n",
    "    prompt = prompt_template.format(\n",
    "        ins=ins, outp=outp, criteria=criteria\n",
    "    )\n",
    "    \n",
    "    return sys_prompt, prompt"
   ]
  },
  {
   "cell_type": "markdown",
   "id": "74dd8a16-3f96-4662-b8c3-97dced794c6c",
   "metadata": {},
   "source": [
    "- To see how it works, consider the dataset entry, `json_data[2]`\n",
    "- 为了看看它是如何工作的，让我们来看看数据集条目 `json_data[2]`"
   ]
  },
  {
   "cell_type": "code",
   "execution_count": 8,
   "id": "203807bf-9a76-4e12-b801-b4ae518f30a2",
   "metadata": {},
   "outputs": [
    {
     "name": "stdout",
     "output_type": "stream",
     "text": [
      "{'instruction': 'Convert 45 kilometers to meters.',\n",
      " 'input': '',\n",
      " 'output': '45 kilometers is 45000 meters.'}\n"
     ]
    }
   ],
   "source": [
    "# 打印json_data中的第三个条目\n",
    "pprint(json_data[2])"
   ]
  },
  {
   "cell_type": "markdown",
   "id": "9572a1aa-532a-4a76-9fa3-3b59d996ba13",
   "metadata": {},
   "source": [
    "- We can refine the instruction as follows, using `instr_prompt_no_input` function defined above:\n",
    "- 我们可以使用上面定义的 `instr_prompt_no_input` 函数来优化指令,具体如下:"
   ]
  },
  {
   "cell_type": "code",
   "execution_count": null,
   "id": "4a7a0a76-cc22-4bda-ae26-4b2540afb4cf",
   "metadata": {},
   "outputs": [
    {
     "name": "stdout",
     "output_type": "stream",
     "text": [
      "1. **Analysis of the Instruction:**\n",
      "\n",
      "   - **Complexity of the Topic:** The topic of converting kilometers to meters is relatively simple and straightforward, as it involves basic unit conversion.\n",
      "   - **Level of Detail Required:** The instruction does not require much detail; it simply asks for a conversion without any additional context or explanation.\n",
      "   - **Knowledge Required:** Basic knowledge of metric units and their conversions is required, which is common knowledge.\n",
      "   - **Ambiguity of the Instruction:** The instruction is clear and unambiguous; it specifies exactly what needs to be converted.\n",
      "   - **Logical Reasoning or Problem-Solving Involved:** There is minimal logical reasoning involved, as the conversion factor (1 kilometer = 1000 meters) is a standard fact.\n",
      "\n",
      "   **Analysis of the Answer:**\n",
      "\n",
      "   - **Helpfulness:** The answer is helpful in that it provides the correct conversion.\n",
      "   - **Relevance:** The answer is relevant to the instruction, as it directly addresses the conversion requested.\n",
      "   - **Accuracy:** The answer is accurate; 45 kilometers does indeed equal 45,000 meters.\n",
      "   - **Level of Details:** The answer lacks detail. It does not explain the conversion process or provide any context, which could be beneficial for someone unfamiliar with metric conversions.\n",
      "\n",
      "   **Why the Bad Instruction Leads to a Bad Answer:** While the instruction itself is not bad, the simplicity of the task may lead to a lack of depth in the answer. The answer could have been improved by including an explanation of the conversion process, which would enhance understanding.\n",
      "\n",
      "2. **New Instruction:**\n",
      "   [New Instruction] Explain the significance of the metric system in global trade and provide examples of how unit conversions can impact international business transactions. [End]\n",
      "\n",
      "3. **New Answer:**\n",
      "   [New Answer] The metric system, also known as the International System of Units (SI), is a decimal-based system of measurement that is used globally. Its significance in global trade lies in its standardization, which facilitates international communication and commerce. \n",
      "\n",
      "   One of the primary advantages of the metric system is that it is universally recognized, which reduces confusion and errors in measurement. For example, when a company in the United States imports goods from Europe, the specifications for those goods are often provided in metric units. If the U.S. company is accustomed to using imperial units (like inches or pounds), they must convert these measurements to ensure compatibility. \n",
      "\n",
      "   Unit conversions can significantly impact international business transactions. For instance, if a manufacturer orders 100 kilograms of a product but mistakenly interprets it as 100 pounds, they will receive a much smaller quantity than intended, leading to production delays and financial losses. \n",
      "\n",
      "   Additionally, in industries such as pharmaceuticals, precise measurements are critical. A dosage specified in milligrams must be accurately converted to ensure patient safety. \n",
      "\n",
      "   In summary, the metric system's role in global trade is crucial for maintaining consistency and accuracy in measurements, which ultimately supports efficient and effective international business operations. [End]\n"
     ]
    }
   ],
   "source": [
    "# 从数据集中获取第3个样本\n",
    "entry = json_data[2]\n",
    "\n",
    "# 使用instr_prompt_no_input函数生成系统提示和完整提示\n",
    "system_prompt, prompt = instr_prompt_no_input(ins=entry[\"instruction\"], outp=entry[\"output\"])\n",
    "\n",
    "# 调用ChatGPT API获取输出结果\n",
    "output = run_chatgpt(prompt=prompt, client=client, system_prompt=system_prompt)\n",
    "\n",
    "# 打印输出结果\n",
    "print(output)"
   ]
  },
  {
   "cell_type": "markdown",
   "id": "5fdc4575-caae-45cc-bf9c-fde9322cf3df",
   "metadata": {},
   "source": [
    "- The response is very verbose, which is useful for analysis purposes; also, it helps the GPT-4 model to make improvements via the chain-of-thought prompting approach\n",
    "- 响应非常冗长，这对分析目的很有用；同时，它也帮助GPT-4模型通过思维链提示方法进行改进\n",
    "\n",
    "- However, to construct the improved dataset, we are actually only interested in new instructions and outputs, not the analyses\n",
    "- 然而，为了构建改进的数据集，我们实际上只对新的指令和输出感兴趣，而不是分析过程\n",
    "\n",
    "- We can use the following utility code from the [Reflection-Tuning repository](https://github.com/tianyi-lab/Reflection_Tuning/blob/main/reflection_code/reflect_response.py) to extract the model's improved instructions and outputs\n",
    "- 我们可以使用来自[Reflection-Tuning仓库](https://github.com/tianyi-lab/Reflection_Tuning/blob/main/reflection_code/reflect_response.py)的以下实用代码来提取模型改进后的指令和输出"
   ]
  },
  {
   "cell_type": "code",
   "execution_count": null,
   "id": "bb38d406-69a5-448a-8d20-bd48c47eb485",
   "metadata": {},
   "outputs": [],
   "source": [
    "# 导入正则表达式模块\n",
    "import re\n",
    "\n",
    "# 从文本中提取指令部分的函数\n",
    "def extract_ins(text, no_input=True):\n",
    "    # 检查文本中是否包含[New Instruction]标记\n",
    "    if '[New Instruction]' in text:\n",
    "        # 如果包含,使用对应的正则表达式模式\n",
    "        pattern = r'(\\[New Instruction\\])(.*?)(\\[End\\]|\\[New Answer\\]|New Answer:)'\n",
    "    else:\n",
    "        # 否则使用另一个正则表达式模式\n",
    "        pattern = r'(New Instruction:)(.*?)(\\[End\\]|\\[New Answer\\]|New Answer:)'\n",
    "    # 使用正则表达式查找所有匹配项\n",
    "    segments = re.findall(pattern, text, re.DOTALL)\n",
    "    # 如果没有找到匹配项,返回空字符串\n",
    "    if len(segments) == 0:\n",
    "        seg_ins = ''\n",
    "    else:\n",
    "        # 否则获取第一个匹配项的第二个分组并去除首尾空白\n",
    "        seg_ins = segments[0][1].strip()\n",
    "    # 如果文本以\"\\n\\n3.\"结尾,去除这部分\n",
    "    if seg_ins.endswith(\"\\n\\n3.\"):\n",
    "        seg_ins = seg_ins[:-4]\n",
    "    return seg_ins\n",
    "\n",
    "# 从文本中提取输出部分的函数\n",
    "def extract_oup(text, no_input=True):\n",
    "    # 检查文本中是否包含[New Answer]标记\n",
    "    if '[New Answer]' in text:\n",
    "        # 如果包含,使用对应的正则表达式模式\n",
    "        pattern = r'(\\[New Answer\\])(.*?)(\\[End\\]|$)'\n",
    "    else:\n",
    "        # 否则使用另一个正则表达式模式\n",
    "        pattern = r'(New Answer:)(.*?)(\\[End\\]|$)'\n",
    "        # 注释掉的备选模式\n",
    "        # pattern = r'(\\[New Answer\\]|New Answer:)(.*?)(\\[End\\]|$)'\n",
    "    # 使用正则表达式查找所有匹配项\n",
    "    segments = re.findall(pattern, text, re.DOTALL)\n",
    "    # 如果没有找到匹配项,返回空字符串\n",
    "    if len(segments) == 0:\n",
    "        seg_oup = ''\n",
    "    else:\n",
    "        # 否则获取第一个匹配项的第二个分组并去除首尾空白\n",
    "        seg_oup = segments[0][1].strip()\n",
    "    return seg_oup\n",
    "\n",
    "# 提取完整指令(包含输入和输出)的函数\n",
    "def extract_instruction(text):\n",
    "    # 如果输入文本为空,返回空列表\n",
    "    if text == '':\n",
    "        return []\n",
    "    # 提取指令部分\n",
    "    seg_ins = extract_ins(text, no_input=True)\n",
    "    # 提取输出部分\n",
    "    seg_oup = extract_oup(text, no_input=True)\n",
    "    # 返回包含指令和输出的列表\n",
    "    return [seg_ins, seg_oup]"
   ]
  },
  {
   "cell_type": "markdown",
   "id": "5eaacf01-6f00-4fa6-9f2c-cf688d58237a",
   "metadata": {},
   "source": [
    "- Let's use these utility functions to extract the improved instruction and response from the lengthy GPT-4 output generated earlier:\n",
    "- 让我们使用这些工具函数从之前生成的冗长的GPT-4输出中提取改进后的指令和响应:"
   ]
  },
  {
   "cell_type": "code",
   "execution_count": null,
   "id": "9699b79b-959e-492e-9fad-f7e451d56777",
   "metadata": {},
   "outputs": [],
   "source": [
    "# 从GPT-4输出中提取改进后的指令和回答\n",
    "new_instr, new_outp = extract_instruction(output)"
   ]
  },
  {
   "cell_type": "code",
   "execution_count": null,
   "id": "2cad89ee-9c63-42c8-a113-a98b13a1fbe2",
   "metadata": {},
   "outputs": [
    {
     "name": "stdout",
     "output_type": "stream",
     "text": [
      "Explain the significance of the metric system in global trade and provide examples of how unit conversions can impact international business transactions.\n"
     ]
    }
   ],
   "source": [
    "# 打印提取出的新指令\n",
    "print(new_instr)"
   ]
  },
  {
   "cell_type": "code",
   "execution_count": null,
   "id": "3bcf3fb6-f572-44ea-aea6-17f64288fd62",
   "metadata": {},
   "outputs": [
    {
     "name": "stdout",
     "output_type": "stream",
     "text": [
      "The metric system, also known as the International System of Units (SI), is a decimal-based system of measurement that is used globally. Its significance in global trade lies in its standardization, which facilitates international communication and commerce. \n",
      "\n",
      "   One of the primary advantages of the metric system is that it is universally recognized, which reduces confusion and errors in measurement. For example, when a company in the United States imports goods from Europe, the specifications for those goods are often provided in metric units. If the U.S. company is accustomed to using imperial units (like inches or pounds), they must convert these measurements to ensure compatibility. \n",
      "\n",
      "   Unit conversions can significantly impact international business transactions. For instance, if a manufacturer orders 100 kilograms of a product but mistakenly interprets it as 100 pounds, they will receive a much smaller quantity than intended, leading to production delays and financial losses. \n",
      "\n",
      "   Additionally, in industries such as pharmaceuticals, precise measurements are critical. A dosage specified in milligrams must be accurately converted to ensure patient safety. \n",
      "\n",
      "   In summary, the metric system's role in global trade is crucial for maintaining consistency and accuracy in measurements, which ultimately supports efficient and effective international business operations.\n"
     ]
    }
   ],
   "source": [
    "# 打印从GPT-4输出中提取的改进后的回答\n",
    "print(new_outp)"
   ]
  },
  {
   "cell_type": "markdown",
   "id": "5dec63dc-eaf1-4bcf-87ab-c63b2924cc67",
   "metadata": {},
   "source": [
    "- Note that the instruction-refinement is currently only implemented for dataset entries that don't have an `\"input\"` field\n",
    "- 请注意,指令优化目前仅针对没有\"input\"字段的数据集条目实现"
   ]
  },
  {
   "cell_type": "markdown",
   "id": "978b1559-61c9-4ab9-a353-4962e4ec6d38",
   "metadata": {},
   "source": [
    "## Improve Responses\n",
    "## 改进回答"
   ]
  },
  {
   "cell_type": "markdown",
   "id": "fcf0331b-6024-4bba-89a9-a088b14a1046",
   "metadata": {},
   "source": [
    "- In a similar fashion, we can also apply the Reflection-Tuning refinement process specifically to the dataset responses (i.e., \"output\" fields)\n",
    "- 类似地,我们也可以专门针对数据集的响应(即\"output\"字段)应用Reflection-Tuning优化流程\n",
    "- Below are two small utility functions from the [Reflection-Tuning repository](https://github.com/tianyi-lab/Reflection_Tuning/blob/main/reflection_code/reflect_response.py) to format the inputs to the GPT-4 model for dataset refinement\n",
    "- 以下是来自[Reflection-Tuning仓库](https://github.com/tianyi-lab/Reflection_Tuning/blob/main/reflection_code/reflect_response.py)的两个小工具函数,用于格式化输入到GPT-4模型以进行数据集优化"
   ]
  },
  {
   "cell_type": "code",
   "execution_count": null,
   "id": "5f78806c-abc1-4f38-afc9-9582bb48b668",
   "metadata": {},
   "outputs": [],
   "source": [
    "# 生成不带输入的响应提示的函数\n",
    "def res_gen_prompt_no_input(ins, outp):\n",
    "\n",
    "    # 定义系统提示,说明助手的角色是帮助检查回答质量\n",
    "    sys_prompt = \"You are a helpful, precise but picky assistant for checking the quality of the answer to a given instruction.\"\n",
    "    # 定义提示模板,包含指令、答案和系统部分\n",
    "    prompt_template = \"[Instruction]\\n{ins}\\n\\n[The Start of Answer]\\n{outp}\\n\\n[The End of Answer]\\n\\n[System]\\n{criteria}\\n\\n\"\n",
    "    # 定义评估标准,包括分析答案质量和生成更好答案的要求\n",
    "    criteria = \"We would like you to answer several questions related to the quality of the answer to the given instruction. \\n\" + \\\n",
    "                \"1. Why this answer is not good for the given instruction? Analyse based on the Helpfulness, Relevance, Accuracy and Level of Details. \\n\" + \\\n",
    "                \"2. Based on the reason you provided, generate a better answer, new and complete, as detailed as possible, in the format of [Better Answer] your answer [End] \\n\" \n",
    "    # 使用提供的参数格式化提示模板\n",
    "    prompt = prompt_template.format(\n",
    "        ins=ins, outp=outp, criteria=criteria\n",
    "    )\n",
    "    # 返回系统提示和格式化后的提示\n",
    "    return sys_prompt, prompt\n",
    "\n",
    "\n",
    "# 生成带输入的响应提示的函数\n",
    "def res_gen_prompt_input(ins, inp, outp):\n",
    "\n",
    "    # 定义系统提示,说明助手的角色是帮助检查带输入的回答质量\n",
    "    sys_prompt = \"You are a helpful and precise assistant for checking the quality of the answer to a given instruction and its input.\"\n",
    "    # 定义提示模板,包含指令、输入、答案和系统部分\n",
    "    prompt_template = \"[Instruction]\\n{ins}\\n\\n[The Start of Input]\\n{inp}\\n\\n[The End of Input]\\n\\n[The Start of Answer]\\n{outp}\\n\\n[The End of Answer]\\n\\n[System]\\n{criteria}\\n\\n\"\n",
    "    # 定义评估标准,包括分析答案质量和生成更好答案的要求\n",
    "    criteria = \"We would like you to answer several questions related to the quality of the answer to the given instruction and corresponding input. \\n\" + \\\n",
    "                \"1. Why this answer is not good for the given instruction and corresponding input? Analyse based on the Helpfulness, Relevance, Accuracy and Level of Details. \\n\" + \\\n",
    "                \"2. Based on the reason you provided, generate a better answer, new and complete, as detailed as possible, in the format of [Better Answer] your answer [End] \\n\" \n",
    "    # 使用提供的参数格式化提示模板\n",
    "    prompt = prompt_template.format(\n",
    "        ins=ins, inp=inp, outp=outp, criteria=criteria\n",
    "    )\n",
    "    # 返回系统提示和格式化后的提示\n",
    "    return sys_prompt, prompt"
   ]
  },
  {
   "cell_type": "markdown",
   "id": "39a55283-7d51-4136-ba60-f799d49f4098",
   "metadata": {},
   "source": [
    "- Again, let's apply it to one of the dataset entries to see how it works, generating the improved response:\n",
    "- 让我们再次将其应用于其中一个数据集条目,看看它是如何工作的,生成改进后的回答:"
   ]
  },
  {
   "cell_type": "code",
   "execution_count": 15,
   "id": "126c4aa3-687c-4328-b174-84f1078cac72",
   "metadata": {},
   "outputs": [
    {
     "name": "stdout",
     "output_type": "stream",
     "text": [
      "1. The answer provided is not good for the given instruction for several reasons:\n",
      "\n",
      "- **Helpfulness**: While the answer does provide the correct conversion, it lacks any explanation or context. A more helpful answer would include a brief explanation of the conversion process, which would aid understanding.\n",
      "\n",
      "- **Relevance**: The answer is relevant in that it addresses the instruction to convert kilometers to meters, but it could be more relevant by including the conversion factor used (1 kilometer = 1000 meters).\n",
      "\n",
      "- **Accuracy**: The answer is accurate in terms of the numerical conversion (45 kilometers = 45000 meters). However, it could be misleading if the reader does not understand how the conversion was derived.\n",
      "\n",
      "- **Level of Details**: The answer is very brief and lacks detail. A more detailed response would include the conversion factor and a step-by-step explanation of how the conversion is performed.\n",
      "\n",
      "2. [Better Answer] To convert kilometers to meters, you can use the conversion factor that 1 kilometer is equal to 1000 meters. Therefore, to convert 45 kilometers to meters, you multiply 45 by 1000. \n",
      "\n",
      "So, 45 kilometers × 1000 meters/kilometer = 45000 meters. \n",
      "\n",
      "Thus, 45 kilometers is equal to 45000 meters. [End]\n"
     ]
    }
   ],
   "source": [
    "# 获取数据集中的第3个条目\n",
    "entry = json_data[2]\n",
    "\n",
    "# 使用没有输入字段的提示模板生成系统提示和用户提示\n",
    "system_prompt, prompt = res_gen_prompt_no_input(ins=entry[\"instruction\"], outp=entry[\"output\"])\n",
    "\n",
    "# 调用ChatGPT API获取改进的回答\n",
    "output = run_chatgpt(prompt=prompt, client=client, system_prompt=system_prompt)\n",
    "\n",
    "# 打印ChatGPT的输出结果\n",
    "print(output)"
   ]
  },
  {
   "cell_type": "markdown",
   "id": "c206abe9-5a64-4532-90d5-661d63670531",
   "metadata": {},
   "source": [
    "- 如上所示,响应包含了对原始响应的分析;我们可以使用以下来自[Reflection-Tuning仓库](https://github.com/tianyi-lab/Reflection_Tuning/blob/main/reflection_code/reflect_response.py)的工具函数来提取新的响应\n",
    "- As we can see above, the response includes an analysis of the original response; we can extract the new response using the following utility function from the [Reflection-Tuning repository](https://github.com/tianyi-lab/Reflection_Tuning/blob/main/reflection_code/reflect_response.py)"
   ]
  },
  {
   "cell_type": "code",
   "execution_count": 16,
   "id": "164cb816-f7dd-4399-a0be-300f4518cf8c",
   "metadata": {},
   "outputs": [],
   "source": [
    "# 定义一个函数用于从文本中提取回答内容\n",
    "def extract_response(text):\n",
    "    # 如果文本中包含多个\"Better Answer\"标记\n",
    "    if text.count('[Better Answer]') >= 2:\n",
    "        # 定义正则表达式模式来匹配多个回答片段\n",
    "        pattern = r'\\[(Better Answer)\\](.*?)(\\[End\\]|\\[Better Answer\\]|$)'\n",
    "        # 使用正则表达式查找所有匹配的片段\n",
    "        segments = re.findall(pattern, text, re.DOTALL)\n",
    "    else:\n",
    "        # 如果只有一个\"Better Answer\"标记\n",
    "        # 定义正则表达式模式来匹配单个回答片段\n",
    "        pattern = r'\\[(Better Answer)\\](.*?)(\\[End\\]|End|$)'\n",
    "        # 使用正则表达式查找匹配的片段\n",
    "        segments = re.findall(pattern, text, re.DOTALL)\n",
    "    # 返回所有找到的回答内容(去除首尾空白)\n",
    "    return [segment[1].strip() for segment in segments]"
   ]
  },
  {
   "cell_type": "code",
   "execution_count": 17,
   "id": "95174f90-dc02-483d-a335-8b448d1b1e22",
   "metadata": {},
   "outputs": [
    {
     "name": "stdout",
     "output_type": "stream",
     "text": [
      "To convert kilometers to meters, you can use the conversion factor that 1 kilometer is equal to 1000 meters. Therefore, to convert 45 kilometers to meters, you multiply 45 by 1000. \n",
      "\n",
      "So, 45 kilometers × 1000 meters/kilometer = 45000 meters. \n",
      "\n",
      "Thus, 45 kilometers is equal to 45000 meters.\n"
     ]
    }
   ],
   "source": [
    "# 从输出中提取第一个改进后的回答\n",
    "response = extract_response(output)[0]\n",
    "# 打印改进后的回答\n",
    "print(response)"
   ]
  },
  {
   "cell_type": "markdown",
   "id": "cdf583fb-7e18-4b84-89dc-1c5d162c67ea",
   "metadata": {},
   "source": [
    "## Improving the Dataset\n",
    "## 改进数据集"
   ]
  },
  {
   "cell_type": "markdown",
   "id": "142dfaa7-429f-4eb0-b74d-ff327f79547a",
   "metadata": {},
   "source": [
    "- 现在,让我们将指令反思和响应反思技术应用到实际数据集\n",
    "- Now, let's apply the instruction-reflection and response-reflection techniques to the actual dataset\n",
    "- 注意:这里我们仅将其应用于一个小型数据子集用于演示目的;如果要应用到整个数据集,需要更改\n",
    "- Note: we only apply it to a small data subset here for demo purposes; to apply it to the whole dataset, change\n",
    "\n",
    "```python\n",
    "data_to_process = json_data[:3]\n",
    "```\n",
    "\n",
    "to\n",
    "\n",
    "```python\n",
    "data_to_process = json_data\n",
    "```"
   ]
  },
  {
   "cell_type": "markdown",
   "id": "5deb631a-cde5-4f5c-8eae-0065b4723abb",
   "metadata": {},
   "source": [
    "### Reflect instructions\n",
    "### 反思指令"
   ]
  },
  {
   "cell_type": "markdown",
   "id": "d4cc4fb6-9c95-4999-ba1f-c333e701d779",
   "metadata": {},
   "source": [
    "- The following code applies the Reflection-Tuning methodology for dataset refinement to the instructions in the original dataset\n",
    "- 以下代码将反思调优方法应用于原始数据集中的指令进行优化"
   ]
  },
  {
   "cell_type": "code",
   "execution_count": 18,
   "id": "9a4564aa-2d3e-46a8-a339-295c5ff177b6",
   "metadata": {},
   "outputs": [],
   "source": [
    "# 仅处理前3条数据用于演示\n",
    "data_to_process = json_data[:3]"
   ]
  },
  {
   "cell_type": "code",
   "execution_count": 19,
   "id": "3552bdfb-7511-42ac-a9ec-da672e2a5468",
   "metadata": {},
   "outputs": [],
   "source": [
    "# 导入tqdm库用于显示进度条\n",
    "from tqdm import tqdm\n",
    "\n",
    "\n",
    "# 定义反思指令的函数,接收json数据和client作为参数\n",
    "def reflect_instructions(json_data, client):\n",
    "    # 初始化新的json数据列表\n",
    "    new_json_data = [] \n",
    "    \n",
    "    # 使用tqdm遍历json数据条目并显示进度\n",
    "    for entry in tqdm(json_data):\n",
    "        \n",
    "        # 如果条目没有输入内容\n",
    "        if not entry[\"input\"]:\n",
    "            # 根据指令和输出生成系统提示和用户提示\n",
    "            system_prompt, prompt = instr_prompt_no_input(ins=entry[\"instruction\"], outp=entry[\"output\"])\n",
    "            # 调用ChatGPT获取输出\n",
    "            output = run_chatgpt(prompt=prompt, client=client, system_prompt=system_prompt)\n",
    "            # 从输出中提取新的指令和输出\n",
    "            new_instr, new_outp = extract_instruction(output)\n",
    "            # 创建新的数据条目\n",
    "            new_entry = {\"instruction\": new_instr, \"input\": \"\", \"output\": new_outp}\n",
    "            # 将新条目添加到结果列表\n",
    "            new_json_data.append(new_entry)\n",
    "        else:\n",
    "            # 如果有输入内容,直接添加原条目\n",
    "            new_json_data.append(entry)\n",
    "\n",
    "    # 返回处理后的新数据\n",
    "    return new_json_data"
   ]
  },
  {
   "cell_type": "code",
   "execution_count": 20,
   "id": "d897eda7-ebd6-4a09-a3ae-8d05a2f234dd",
   "metadata": {},
   "outputs": [
    {
     "name": "stderr",
     "output_type": "stream",
     "text": [
      "100%|█████████████████████████████████████████████| 3/3 [00:06<00:00,  2.17s/it]\n"
     ]
    }
   ],
   "source": [
    "# 只处理前3条数据进行测试\n",
    "data_to_process = json_data[:3]\n",
    "\n",
    "# 对指令数据进行反思优化,生成新的数据集\n",
    "new_json_data = reflect_instructions(data_to_process, client)"
   ]
  },
  {
   "cell_type": "code",
   "execution_count": 21,
   "id": "d1a677a2-d590-4ffb-a202-5fe79a317d4b",
   "metadata": {},
   "outputs": [
    {
     "name": "stdout",
     "output_type": "stream",
     "text": [
      "{'instruction': 'Evaluate the following phrase by transforming it into the '\n",
      "                'spelling given.',\n",
      " 'input': 'freind --> friend',\n",
      " 'output': 'The spelling of the given phrase \"freind\" is incorrect, the '\n",
      "           'correct spelling is \"friend\".'}\n",
      "\n",
      "\n",
      "\n",
      "{'instruction': 'Edit the following sentence for grammar.',\n",
      " 'input': 'He go to the park every day.',\n",
      " 'output': 'He goes to the park every day.'}\n",
      "\n",
      "\n",
      "\n",
      "{'instruction': 'Explain the significance of understanding metric conversions '\n",
      "                'in scientific research, and provide an example of how a '\n",
      "                'miscalculation in unit conversion could impact experimental '\n",
      "                'results.',\n",
      " 'input': '',\n",
      " 'output': 'Understanding metric conversions is crucial in scientific research '\n",
      "           'because accurate measurements are fundamental to the validity of '\n",
      "           'experimental results. The metric system is widely used in '\n",
      "           'scientific disciplines due to its ease of use and universal '\n",
      "           'acceptance, allowing researchers from different countries to '\n",
      "           'communicate their findings effectively.\\n'\n",
      "           '\\n'\n",
      "           '   For example, consider a scenario in a chemistry experiment '\n",
      "           'where a researcher needs to prepare a solution with a specific '\n",
      "           'concentration. If the researcher intends to prepare a 1 molar (1 '\n",
      "           'M) solution of sodium chloride (NaCl) in 1 liter of water, they '\n",
      "           'must accurately measure the mass of NaCl required. The molar mass '\n",
      "           'of NaCl is approximately 58.44 grams per mole. Therefore, to '\n",
      "           'prepare 1 liter of a 1 M solution, the researcher needs to '\n",
      "           'dissolve 58.44 grams of NaCl in water.\\n'\n",
      "           '\\n'\n",
      "           '   However, if the researcher mistakenly converts the volume from '\n",
      "           'liters to milliliters and uses 1 mL instead of 1 L, they would '\n",
      "           'only need 0.05844 grams of NaCl. This significant error in unit '\n",
      "           'conversion would lead to a solution that is 1,000 times more '\n",
      "           'concentrated than intended. Such a miscalculation could result in '\n",
      "           'erroneous experimental outcomes, potentially leading to incorrect '\n",
      "           'conclusions about the behavior of the solution in reactions or '\n",
      "           'biological systems. This example highlights the importance of '\n",
      "           'precise unit conversions in ensuring the accuracy and reliability '\n",
      "           'of scientific research.'}\n",
      "\n",
      "\n",
      "\n"
     ]
    }
   ],
   "source": [
    "# 遍历前3个数据项并打印\n",
    "# 使用pprint进行格式化输出\n",
    "# 每个数据项之间添加两个空行\n",
    "for i in new_json_data[:3]:\n",
    "    pprint(i)\n",
    "    print(\"\\n\\n\")"
   ]
  },
  {
   "cell_type": "markdown",
   "id": "17840244-a7f9-47e4-8551-671fdedfc856",
   "metadata": {},
   "source": [
    "- Let's save the new dataset:\n",
    "- 让我们保存新的数据集："
   ]
  },
  {
   "cell_type": "code",
   "execution_count": 22,
   "id": "f9710e60-6c3a-42ab-ab66-24005db2e19f",
   "metadata": {},
   "outputs": [],
   "source": [
    "# 将处理后的数据保存到JSON文件中\n",
    "# 使用indent=4进行格式化输出，提高可读性\n",
    "with open(\"instruction-reflected.json\", \"w\") as file:\n",
    "    json.dump(new_json_data, file, indent=4)"
   ]
  },
  {
   "cell_type": "markdown",
   "id": "3a081ff5-7aa7-4651-934a-34ce56b7ee5e",
   "metadata": {},
   "source": [
    "### Reflect responses\n",
    "### 反思响应"
   ]
  },
  {
   "cell_type": "markdown",
   "id": "c9020aee-c4f1-4490-b6a0-26741a9dea05",
   "metadata": {},
   "source": [
    "- Let's now do the same for the response-reflection:\n",
    "- 现在让我们对响应内容做同样的反思处理："
   ]
  },
  {
   "cell_type": "code",
   "execution_count": 23,
   "id": "835da869-965a-4a4c-9799-56dbcd559d83",
   "metadata": {},
   "outputs": [],
   "source": [
    "# 只处理前3条数据进行测试\n",
    "data_to_process = json_data[:3]"
   ]
  },
  {
   "cell_type": "code",
   "execution_count": 24,
   "id": "38f436b6-1b6c-45e7-a538-a47021607ea5",
   "metadata": {},
   "outputs": [],
   "source": [
    "# 定义一个函数用于反思和改进响应内容\n",
    "def reflect_responses(json_data, client):\n",
    "    # 初始化一个空列表用于存储新的数据\n",
    "    new_json_data = [] \n",
    "    \n",
    "    # 使用tqdm显示进度条,遍历输入的json数据\n",
    "    for entry in tqdm(json_data):\n",
    "        \n",
    "        # 如果数据项没有input字段\n",
    "        if not entry[\"input\"]:\n",
    "            # 使用无输入的提示模板生成system_prompt和prompt\n",
    "            system_prompt, prompt = res_gen_prompt_no_input(ins=entry[\"instruction\"], outp=entry[\"output\"])\n",
    "            # 调用ChatGPT API获取输出\n",
    "            output = run_chatgpt(prompt=prompt, client=client, system_prompt=system_prompt)\n",
    "            # 从输出中提取响应内容\n",
    "            new_response = extract_response(output)\n",
    "\n",
    "            # 如果没有提取到新响应,使用原始输出\n",
    "            if not len(new_response):\n",
    "                new_response = entry[\"output\"]\n",
    "                      \n",
    "            # 创建新的数据项,包含原始指令、空输入和新响应\n",
    "            new_entry = {\"instruction\": entry[\"instruction\"], \"input\": \"\", \"output\": new_response[0]}\n",
    "            # 将新数据项添加到结果列表中\n",
    "            new_json_data.append(new_entry)\n",
    "\n",
    "        # 如果数据项有input字段\n",
    "        else:\n",
    "            # 使用带输入的提示模板生成system_prompt和prompt\n",
    "            system_prompt, prompt = res_gen_prompt_input(ins=entry[\"instruction\"], inp=entry[\"input\"], outp=entry[\"output\"])\n",
    "            # 调用ChatGPT API获取输出\n",
    "            output = run_chatgpt(prompt=prompt, client=client, system_prompt=system_prompt)\n",
    "            # 从输出中提取响应内容\n",
    "            new_response = extract_response(output)\n",
    "\n",
    "            # 如果没有提取到新响应,使用原始输出\n",
    "            if not len(new_response):\n",
    "                new_response = entry[\"output\"]\n",
    "\n",
    "            # 创建新的数据项,包含原始指令、输入和新响应\n",
    "            new_entry = {\"instruction\": entry[\"instruction\"], \"input\": entry[\"input\"], \"output\": new_response[0]}\n",
    "            # 将新数据项添加到结果列表中\n",
    "            new_json_data.append(new_entry)\n",
    "\n",
    "    # 返回包含所有新数据项的列表\n",
    "    return new_json_data"
   ]
  },
  {
   "cell_type": "code",
   "execution_count": 25,
   "id": "0168fb7e-bef4-43e1-967d-f294909b6883",
   "metadata": {},
   "outputs": [
    {
     "name": "stderr",
     "output_type": "stream",
     "text": [
      "100%|█████████████████████████████████████████████| 3/3 [00:07<00:00,  2.40s/it]\n"
     ]
    }
   ],
   "source": [
    "# 调用reflect_responses函数处理数据,生成改进后的响应\n",
    "# 参数:\n",
    "# - data_to_process: 要处理的原始数据\n",
    "# - client: ChatGPT API客户端\n",
    "# 返回包含改进响应的新数据集\n",
    "new_json_data = reflect_responses(data_to_process, client)"
   ]
  },
  {
   "cell_type": "code",
   "execution_count": 26,
   "id": "1a0949dc-70f3-4adb-9d0a-7f387c0702c7",
   "metadata": {},
   "outputs": [
    {
     "name": "stdout",
     "output_type": "stream",
     "text": [
      "{'instruction': 'Evaluate the following phrase by transforming it into the '\n",
      "                'spelling given.',\n",
      " 'input': 'freind --> friend',\n",
      " 'output': 'The input phrase \"freind\" contains a spelling error. The correct '\n",
      "           'transformation of the word is as follows: \"freind\" should be '\n",
      "           'corrected to \"friend.\" Therefore, the correct spelling is '\n",
      "           '\"friend.\"'}\n",
      "\n",
      "\n",
      "\n",
      "{'instruction': 'Edit the following sentence for grammar.',\n",
      " 'input': 'He go to the park every day.',\n",
      " 'output': 'The original sentence \"He go to the park every day\" contains a '\n",
      "           'grammatical error in the verb form. The correct form should be \"He '\n",
      "           'goes to the park every day.\" This is because the subject \"He\" is '\n",
      "           'third person singular, and in English, the verb \"to go\" changes to '\n",
      "           '\"goes\" when used with third person singular subjects. Therefore, '\n",
      "           'the corrected sentence is grammatically accurate and maintains the '\n",
      "           'original meaning.'}\n",
      "\n",
      "\n",
      "\n",
      "{'instruction': 'Convert 45 kilometers to meters.',\n",
      " 'input': '',\n",
      " 'output': 'To convert kilometers to meters, you can use the conversion factor '\n",
      "           'that 1 kilometer is equal to 1,000 meters. Therefore, to convert '\n",
      "           '45 kilometers to meters, you multiply 45 by 1,000. \\n'\n",
      "           '\\n'\n",
      "           'So, 45 kilometers is equal to 45,000 meters (45 km × 1,000 m/km = '\n",
      "           '45,000 m). \\n'\n",
      "           '\\n'\n",
      "           'This conversion is useful in various contexts, such as distance '\n",
      "           'measurement in travel or scientific calculations.'}\n",
      "\n",
      "\n",
      "\n"
     ]
    }
   ],
   "source": [
    "# 遍历前3个数据项并打印\n",
    "for i in new_json_data[:3]:\n",
    "    # 使用pprint美化打印每个数据项\n",
    "    pprint(i)\n",
    "    # 打印两个空行作为分隔\n",
    "    print(\"\\n\\n\")"
   ]
  },
  {
   "cell_type": "markdown",
   "id": "9603159d-e9fa-42cd-a5ab-b528e534e103",
   "metadata": {},
   "source": [
    "- Let's save the new dataset:\n",
    "- 让我们保存新的数据集："
   ]
  },
  {
   "cell_type": "code",
   "execution_count": 27,
   "id": "9e763966-6a43-4706-879d-1f413a85ec03",
   "metadata": {},
   "outputs": [],
   "source": [
    "# 将新的数据集保存到JSON文件中\n",
    "# 使用indent=4进行格式化输出,使文件更易读\n",
    "with open(\"response-reflected.json\", \"w\") as file:\n",
    "    json.dump(new_json_data, file, indent=4)"
   ]
  },
  {
   "cell_type": "markdown",
   "id": "52dc19b4-926b-4497-8370-496efd970366",
   "metadata": {},
   "source": [
    "## Creating Improved Instruction Data\n",
    "## 创建改进的指令数据"
   ]
  },
  {
   "cell_type": "markdown",
   "id": "269d66e6-92b6-4586-923c-967f29d2d976",
   "metadata": {},
   "source": [
    "- Applying the two methodologies above to all 1100 entries in the chapter 7 instruction dataset costs about \\$0.60 (60 cents)\n",
    "- 将上述两种方法应用于第7章指令数据集中的所有1100个条目的成本约为0.60美元(60美分)\n",
    "- To avoid bloating the GitHub repository with dataset files, the resulting dataset files are available from Google Drive:\n",
    "- 为了避免数据集文件使GitHub仓库变得臃肿，生成的数据集文件可从Google Drive获取：\n",
    "  - [instruction-reflected.json](https://drive.google.com/file/d/1c1QnuTdt9nP1u51vBn4_b05mWR_ZNGBv/view?usp=sharing)\n",
    "  - [response-reflected.json](https://drive.google.com/file/d/1RNckTZ2ELcdUoJtaylao6NvyZPMtNv1v/view?usp=sharing)"
   ]
  }
 ],
 "metadata": {
  "kernelspec": {
   "display_name": "Python 3 (ipykernel)",
   "language": "python",
   "name": "python3"
  },
  "language_info": {
   "codemirror_mode": {
    "name": "ipython",
    "version": 3
   },
   "file_extension": ".py",
   "mimetype": "text/x-python",
   "name": "python",
   "nbconvert_exporter": "python",
   "pygments_lexer": "ipython3",
   "version": "3.10.6"
  }
 },
 "nbformat": 4,
 "nbformat_minor": 5
}
