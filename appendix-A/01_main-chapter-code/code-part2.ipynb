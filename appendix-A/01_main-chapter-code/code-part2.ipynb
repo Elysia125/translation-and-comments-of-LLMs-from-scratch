{
 "cells": [
  {
   "cell_type": "markdown",
   "metadata": {
    "id": "AAAnDw04iAm4"
   },
   "source": [
    "<table style=\"width:100%\">\n",
    "<tr>\n",
    "<td style=\"vertical-align:middle; text-align:left;\">\n",
    "<font size=\"2\">\n",
    "Supplementary code for the <a href=\"http://mng.bz/orYv\">Build a Large Language Model From Scratch</a> book by <a href=\"https://sebastianraschka.com\">Sebastian Raschka</a><br>\n",
    "<br>Code repository: <a href=\"https://github.com/rasbt/LLMs-from-scratch\">https://github.com/rasbt/LLMs-from-scratch</a>\n",
    "</font>\n",
    "</td>\n",
    "<td style=\"vertical-align:middle; text-align:left;\">\n",
    "<a href=\"http://mng.bz/orYv\"><img src=\"https://sebastianraschka.com/images/LLMs-from-scratch-images/cover-small.webp\" width=\"100px\"></a>\n",
    "</td>\n",
    "</tr>\n",
    "</table>\n"
   ]
  },
  {
   "cell_type": "markdown",
   "metadata": {
    "id": "O9i6kzBsZVaZ"
   },
   "source": [
    "# Appendix A: Introduction to PyTorch (Part 2)\n",
    "# 附录 A: PyTorch 入门（第 2 部分）"
   ]
  },
  {
   "cell_type": "markdown",
   "metadata": {
    "id": "ppbG5d-NZezH"
   },
   "source": [
    "## A.9 Optimizing training performance with GPUs\n",
    "## A.9 使用 GPU 优化训练性能"
   ]
  },
  {
   "cell_type": "markdown",
   "metadata": {
    "id": "6jH0J_DPZhbn"
   },
   "source": [
    "### A.9.1 PyTorch computations on GPU devices\n",
    "### A.9.1 在 GPU 设备上进行 PyTorch 计算"
   ]
  },
  {
   "cell_type": "code",
   "execution_count": 1,
   "metadata": {
    "colab": {
     "base_uri": "https://localhost:8080/"
    },
    "id": "RM7kGhwMF_nO",
    "outputId": "b1872617-aacd-46fa-e5f3-f130fd81b246"
   },
   "outputs": [
    {
     "name": "stdout",
     "output_type": "stream",
     "text": [
      "2.4.0+cu121\n"
     ]
    }
   ],
   "source": [
    "# 导入 PyTorch 库\n",
    "import torch\n",
    "\n",
    "# 打印 PyTorch 版本号\n",
    "print(torch.__version__)"
   ]
  },
  {
   "cell_type": "code",
   "execution_count": 2,
   "metadata": {
    "colab": {
     "base_uri": "https://localhost:8080/"
    },
    "id": "OXLCKXhiUkZt",
    "outputId": "e9ca3c58-d92c-4c8b-a9c9-cd7fcc1fedb4"
   },
   "outputs": [
    {
     "name": "stdout",
     "output_type": "stream",
     "text": [
      "True\n"
     ]
    }
   ],
   "source": [
    "# 检查是否有可用的 CUDA GPU 设备\n",
    "print(torch.cuda.is_available())"
   ]
  },
  {
   "cell_type": "code",
   "execution_count": 3,
   "metadata": {
    "colab": {
     "base_uri": "https://localhost:8080/"
    },
    "id": "MTTlfh53Va-T",
    "outputId": "bae76cb5-d1d3-441f-a7c5-93a161e2e86a"
   },
   "outputs": [
    {
     "name": "stdout",
     "output_type": "stream",
     "text": [
      "tensor([5., 7., 9.])\n"
     ]
    }
   ],
   "source": [
    "# 创建第一个张量，包含浮点数 1,2,3\n",
    "tensor_1 = torch.tensor([1., 2., 3.])\n",
    "# 创建第二个张量，包含浮点数 4,5,6 \n",
    "tensor_2 = torch.tensor([4., 5., 6.])\n",
    "\n",
    "# 打印两个张量相加的结果\n",
    "print(tensor_1 + tensor_2)"
   ]
  },
  {
   "cell_type": "code",
   "execution_count": 4,
   "metadata": {
    "colab": {
     "base_uri": "https://localhost:8080/"
    },
    "id": "Z4LwTNw7Vmmb",
    "outputId": "9ad97923-bc8e-4c49-88bf-48dc1de56804"
   },
   "outputs": [
    {
     "name": "stdout",
     "output_type": "stream",
     "text": [
      "tensor([5., 7., 9.], device='cuda:0')\n"
     ]
    }
   ],
   "source": [
    "# 将 tensor_1 移动到 CUDA GPU 设备上\n",
    "tensor_1 = tensor_1.to(\"cuda\")\n",
    "# 将 tensor_2 移动到 CUDA GPU 设备上\n",
    "tensor_2 = tensor_2.to(\"cuda\")\n",
    "\n",
    "# 打印在 GPU 上相加的结果\n",
    "print(tensor_1 + tensor_2)"
   ]
  },
  {
   "cell_type": "code",
   "execution_count": 5,
   "metadata": {
    "colab": {
     "base_uri": "https://localhost:8080/",
     "height": 158
    },
    "id": "tKT6URN1Vuft",
    "outputId": "8396eb18-47c8-47a1-c1b6-8bcb9480fb52"
   },
   "outputs": [
    {
     "ename": "RuntimeError",
     "evalue": "Expected all tensors to be on the same device, but found at least two devices, cuda:0 and cpu!",
     "output_type": "error",
     "traceback": [
      "\u001b[0;31m---------------------------------------------------------------------------\u001b[0m",
      "\u001b[0;31mRuntimeError\u001b[0m                              Traceback (most recent call last)",
      "\u001b[0;32m/tmp/ipykernel_2321/2079609735.py\u001b[0m in \u001b[0;36m<cell line: 2>\u001b[0;34m()\u001b[0m\n\u001b[1;32m      1\u001b[0m \u001b[0mtensor_1\u001b[0m \u001b[0;34m=\u001b[0m \u001b[0mtensor_1\u001b[0m\u001b[0;34m.\u001b[0m\u001b[0mto\u001b[0m\u001b[0;34m(\u001b[0m\u001b[0;34m\"cpu\"\u001b[0m\u001b[0;34m)\u001b[0m\u001b[0;34m\u001b[0m\u001b[0;34m\u001b[0m\u001b[0m\n\u001b[0;32m----> 2\u001b[0;31m \u001b[0mprint\u001b[0m\u001b[0;34m(\u001b[0m\u001b[0mtensor_1\u001b[0m \u001b[0;34m+\u001b[0m \u001b[0mtensor_2\u001b[0m\u001b[0;34m)\u001b[0m\u001b[0;34m\u001b[0m\u001b[0;34m\u001b[0m\u001b[0m\n\u001b[0m",
      "\u001b[0;31mRuntimeError\u001b[0m: Expected all tensors to be on the same device, but found at least two devices, cuda:0 and cpu!"
     ]
    }
   ],
   "source": [
    "# 将 tensor_1 移动到 CPU 设备上\n",
    "tensor_1 = tensor_1.to(\"cpu\")\n",
    "# 尝试将一个在 CPU 上的张量和一个在 GPU 上的张量相加\n",
    "# 这会导致错误，因为不能在不同设备上的张量之间进行运算\n",
    "print(tensor_1 + tensor_2)"
   ]
  },
  {
   "cell_type": "markdown",
   "metadata": {
    "id": "c8j1cWDcWAMf"
   },
   "source": [
    "### A.9.2 Single-GPU training\n",
    "### A.9.2 单GPU训练"
   ]
  },
  {
   "cell_type": "code",
   "execution_count": 6,
   "metadata": {
    "id": "GyY59cjieitv"
   },
   "outputs": [],
   "source": [
    "# 创建训练数据特征矩阵，包含5个样本，每个样本有2个特征\n",
    "X_train = torch.tensor([\n",
    "    [-1.2, 3.1],   # 第1个样本：特征1为-1.2，特征2为3.1\n",
    "    [-0.9, 2.9],   # 第2个样本：特征1为-0.9，特征2为2.9 \n",
    "    [-0.5, 2.6],   # 第3个样本：特征1为-0.5，特征2为2.6\n",
    "    [2.3, -1.1],   # 第4个样本：特征1为2.3，特征2为-1.1\n",
    "    [2.7, -1.5]    # 第5个样本：特征1为2.7，特征2为-1.5\n",
    "])\n",
    "\n",
    "# 创建训练数据标签向量，0表示第一类，1表示第二类\n",
    "y_train = torch.tensor([0, 0, 0, 1, 1])\n",
    "\n",
    "# 创建测试数据特征矩阵，包含2个样本，每个样本有2个特征\n",
    "X_test = torch.tensor([\n",
    "    [-0.8, 2.8],   # 第1个测试样本：特征1为-0.8，特征2为2.8\n",
    "    [2.6, -1.6],   # 第2个测试样本：特征1为2.6，特征2为-1.6\n",
    "])\n",
    "\n",
    "# 创建测试数据标签向量\n",
    "y_test = torch.tensor([0, 1])"
   ]
  },
  {
   "cell_type": "code",
   "execution_count": 7,
   "metadata": {
    "id": "v41gKqEJempa"
   },
   "outputs": [],
   "source": [
    "# 导入PyTorch的Dataset类，用于创建自定义数据集\n",
    "from torch.utils.data import Dataset\n",
    "\n",
    "\n",
    "# 创建一个玩具数据集类，继承自Dataset\n",
    "class ToyDataset(Dataset):\n",
    "    def __init__(self, X, y):\n",
    "        # 初始化函数，接收特征矩阵X和标签向量y\n",
    "        self.features = X  # 存储特征数据\n",
    "        self.labels = y    # 存储标签数据\n",
    "\n",
    "    def __getitem__(self, index):\n",
    "        # 获取单个样本的方法，返回对应索引的特征和标签\n",
    "        one_x = self.features[index]  # 获取一个样本的特征\n",
    "        one_y = self.labels[index]    # 获取一个样本的标签\n",
    "        return one_x, one_y\n",
    "\n",
    "    def __len__(self):\n",
    "        # 返回数据集的样本数量\n",
    "        return self.labels.shape[0]\n",
    "\n",
    "# 创建训练数据集实例\n",
    "train_ds = ToyDataset(X_train, y_train)\n",
    "# 创建测试数据集实例\n",
    "test_ds = ToyDataset(X_test, y_test)"
   ]
  },
  {
   "cell_type": "code",
   "execution_count": 8,
   "metadata": {
    "id": "UPGVRuylep8Y"
   },
   "outputs": [],
   "source": [
    "# 导入PyTorch的DataLoader类，用于创建数据加载器\n",
    "from torch.utils.data import DataLoader\n",
    "\n",
    "# 设置随机种子以确保结果可重复\n",
    "torch.manual_seed(123)\n",
    "\n",
    "# 创建训练数据加载器\n",
    "train_loader = DataLoader(\n",
    "    dataset=train_ds,      # 使用之前创建的训练数据集\n",
    "    batch_size=2,          # 每个批次包含2个样本\n",
    "    shuffle=True,          # 随机打乱数据\n",
    "    num_workers=1,         # 使用1个工作进程加载数据\n",
    "    drop_last=True         # 丢弃最后一个不完整的批次\n",
    ")\n",
    "\n",
    "# 创建测试数据加载器\n",
    "test_loader = DataLoader(\n",
    "    dataset=test_ds,       # 使用之前创建的测试数据集\n",
    "    batch_size=2,          # 每个批次包含2个样本\n",
    "    shuffle=False,         # 不打乱测试数据的顺序\n",
    "    num_workers=1          # 使用1个工作进程加载数据\n",
    ")"
   ]
  },
  {
   "cell_type": "code",
   "execution_count": 9,
   "metadata": {
    "id": "drhg6IXofAXh"
   },
   "outputs": [],
   "source": [
    "class NeuralNetwork(torch.nn.Module):\n",
    "    def __init__(self, num_inputs, num_outputs):\n",
    "        # 继承父类的初始化方法\n",
    "        super().__init__()\n",
    "\n",
    "        # 定义神经网络的层结构\n",
    "        self.layers = torch.nn.Sequential(\n",
    "\n",
    "            # 第一个隐藏层\n",
    "            # 输入维度为num_inputs，输出维度为30\n",
    "            torch.nn.Linear(num_inputs, 30),\n",
    "            # ReLU激活函数\n",
    "            torch.nn.ReLU(),\n",
    "\n",
    "            # 第二个隐藏层\n",
    "            # 输入维度为30，输出维度为20\n",
    "            torch.nn.Linear(30, 20),\n",
    "            # ReLU激活函数\n",
    "            torch.nn.ReLU(),\n",
    "\n",
    "            # 输出层\n",
    "            # 输入维度为20，输出维度为num_outputs\n",
    "            torch.nn.Linear(20, num_outputs),\n",
    "        )\n",
    "\n",
    "    def forward(self, x):\n",
    "        # 前向传播函数\n",
    "        # 输入x通过网络层得到logits输出\n",
    "        logits = self.layers(x)\n",
    "        return logits"
   ]
  },
  {
   "cell_type": "code",
   "execution_count": 10,
   "metadata": {
    "colab": {
     "base_uri": "https://localhost:8080/"
    },
    "id": "7jaS5sqPWCY0",
    "outputId": "8a5cd93d-671c-4abf-d5cd-97845f300ffd"
   },
   "outputs": [
    {
     "name": "stdout",
     "output_type": "stream",
     "text": [
      "Epoch: 001/003 | Batch 000/002 | Train/Val Loss: 0.75\n",
      "Epoch: 001/003 | Batch 001/002 | Train/Val Loss: 0.65\n",
      "Epoch: 002/003 | Batch 000/002 | Train/Val Loss: 0.44\n",
      "Epoch: 002/003 | Batch 001/002 | Train/Val Loss: 0.13\n",
      "Epoch: 003/003 | Batch 000/002 | Train/Val Loss: 0.03\n",
      "Epoch: 003/003 | Batch 001/002 | Train/Val Loss: 0.00\n"
     ]
    }
   ],
   "source": [
    "# 导入PyTorch的函数式模块，用于损失函数等操作\n",
    "import torch.nn.functional as F\n",
    "\n",
    "\n",
    "# 设置随机种子以确保结果可重现\n",
    "torch.manual_seed(123)\n",
    "# 创建神经网络模型实例，输入维度为2，输出维度为2\n",
    "model = NeuralNetwork(num_inputs=2, num_outputs=2)\n",
    "\n",
    "# 检测是否有可用的GPU，如果有则使用GPU，否则使用CPU\n",
    "device = torch.device(\"cuda\" if torch.cuda.is_available() else \"cpu\") # NEW\n",
    "# 将模型移动到指定设备(GPU/CPU)\n",
    "model = model.to(device) # NEW\n",
    "\n",
    "# 创建SGD优化器，学习率设为0.5\n",
    "optimizer = torch.optim.SGD(model.parameters(), lr=0.5)\n",
    "\n",
    "# 设置训练轮数为3\n",
    "num_epochs = 3\n",
    "\n",
    "# 开始训练循环，遍历每个epoch\n",
    "for epoch in range(num_epochs):\n",
    "\n",
    "    # 将模型设置为训练模式\n",
    "    model.train()\n",
    "    # 遍历训练数据加载器中的每个批次\n",
    "    for batch_idx, (features, labels) in enumerate(train_loader):\n",
    "\n",
    "        # 将特征和标签数据移动到指定设备\n",
    "        features, labels = features.to(device), labels.to(device) # NEW\n",
    "        # 前向传播，获得模型预测结果\n",
    "        logits = model(features)\n",
    "        # 计算交叉熵损失\n",
    "        loss = F.cross_entropy(logits, labels) # Loss function\n",
    "\n",
    "        # 清零梯度\n",
    "        optimizer.zero_grad()\n",
    "        # 反向传播计算梯度\n",
    "        loss.backward()\n",
    "        # 更新模型参数\n",
    "        optimizer.step()\n",
    "\n",
    "        # 打印训练进度和损失值\n",
    "        print(f\"Epoch: {epoch+1:03d}/{num_epochs:03d}\"\n",
    "              f\" | Batch {batch_idx:03d}/{len(train_loader):03d}\"\n",
    "              f\" | Train/Val Loss: {loss:.2f}\")\n",
    "\n",
    "    # 将模型设置为评估模式\n",
    "    model.eval()\n",
    "    # 可选的模型评估步骤"
   ]
  },
  {
   "cell_type": "code",
   "execution_count": 11,
   "metadata": {
    "id": "4qrlmnPPe7FO"
   },
   "outputs": [],
   "source": [
    "def compute_accuracy(model, dataloader, device):\n",
    "    \"\"\"计算模型在给定数据加载器上的准确率\n",
    "    \n",
    "    参数:\n",
    "        model: 神经网络模型\n",
    "        dataloader: 数据加载器\n",
    "        device: 计算设备(GPU/CPU)\n",
    "        \n",
    "    返回:\n",
    "        float: 准确率(0-1之间的浮点数)\n",
    "    \"\"\"\n",
    "    # 将模型设置为评估模式\n",
    "    model = model.eval()\n",
    "    # 初始化正确预测的样本数\n",
    "    correct = 0.0\n",
    "    # 初始化总样本数\n",
    "    total_examples = 0\n",
    "\n",
    "    # 遍历数据加载器中的每个批次\n",
    "    for idx, (features, labels) in enumerate(dataloader):\n",
    "        # 将特征和标签移动到指定设备\n",
    "        features, labels = features.to(device), labels.to(device)\n",
    "\n",
    "        # 在不计算梯度的情况下进行前向传播\n",
    "        with torch.no_grad():\n",
    "            logits = model(features)\n",
    "\n",
    "        # 获取每个样本的预测类别(概率最大的类别)\n",
    "        predictions = torch.argmax(logits, dim=1)\n",
    "        # 比较预测结果与真实标签\n",
    "        compare = labels == predictions\n",
    "        # 累加正确预测的样本数\n",
    "        correct += torch.sum(compare)\n",
    "        # 累加总样本数\n",
    "        total_examples += len(compare)\n",
    "\n",
    "    # 返回准确率\n",
    "    return (correct / total_examples).item()"
   ]
  },
  {
   "cell_type": "code",
   "execution_count": 12,
   "metadata": {
    "colab": {
     "base_uri": "https://localhost:8080/"
    },
    "id": "1_-BfkfEf4HX",
    "outputId": "9453154f-0a5b-4a44-a3c9-f010e08d5a2c"
   },
   "outputs": [
    {
     "data": {
      "text/plain": [
       "1.0"
      ]
     },
     "execution_count": 12,
     "metadata": {},
     "output_type": "execute_result"
    }
   ],
   "source": [
    "# 计算模型在训练集上的准确率\n",
    "compute_accuracy(model, train_loader, device=device)"
   ]
  },
  {
   "cell_type": "code",
   "execution_count": 13,
   "metadata": {
    "colab": {
     "base_uri": "https://localhost:8080/"
    },
    "id": "iYtXKBGEgKss",
    "outputId": "d6cc870a-34de-490e-e5d3-23e6956744bd"
   },
   "outputs": [
    {
     "data": {
      "text/plain": [
       "1.0"
      ]
     },
     "execution_count": 13,
     "metadata": {},
     "output_type": "execute_result"
    }
   ],
   "source": [
    "# 计算模型在测试集上的准确率\n",
    "compute_accuracy(model, test_loader, device=device)"
   ]
  },
  {
   "cell_type": "markdown",
   "metadata": {
    "id": "nc2LGFVbiAnB"
   },
   "source": [
    "### A.9.3 Training with multiple GPUs\n",
    "### A.9.3 使用多个GPU进行训练"
   ]
  },
  {
   "cell_type": "markdown",
   "metadata": {
    "id": "cOUza9iQiAnC"
   },
   "source": [
    "See [DDP-script.py](DDP-script.py)"
   ]
  },
  {
   "cell_type": "markdown",
   "metadata": {
    "id": "YOYk5Fh7iAnC"
   },
   "source": [
    "<img src=\"https://sebastianraschka.com/images/LLMs-from-scratch-images/appendix-a_compressed/12.webp\" width=\"600px\">\n",
    "<img src=\"https://sebastianraschka.com/images/LLMs-from-scratch-images/appendix-a_compressed/13.webp\" width=\"600px\">"
   ]
  }
 ],
 "metadata": {
  "accelerator": "GPU",
  "colab": {
   "gpuType": "T4",
   "provenance": []
  },
  "kernelspec": {
   "display_name": "Python 3 (ipykernel)",
   "language": "python",
   "name": "python3"
  },
  "language_info": {
   "codemirror_mode": {
    "name": "ipython",
    "version": 3
   },
   "file_extension": ".py",
   "mimetype": "text/x-python",
   "name": "python",
   "nbconvert_exporter": "python",
   "pygments_lexer": "ipython3",
   "version": "3.10.14"
  }
 },
 "nbformat": 4,
 "nbformat_minor": 4
}
