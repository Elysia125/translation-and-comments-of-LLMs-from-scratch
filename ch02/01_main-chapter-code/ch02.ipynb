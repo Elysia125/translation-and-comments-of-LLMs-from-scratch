{
 "cells": [
  {
   "cell_type": "markdown",
   "id": "d95f841a-63c9-41d4-aea1-496b3d2024dd",
   "metadata": {},
   "source": [
    "<table style=\"width:100%\">\n",
    "<tr>\n",
    "<td style=\"vertical-align:middle; text-align:left;\">\n",
    "<font size=\"2\">\n",
    "Supplementary code for the <a href=\"http://mng.bz/orYv\">Build a Large Language Model From Scratch</a> book by <a href=\"https://sebastianraschka.com\">Sebastian Raschka</a><br>\n",
    "<br>Code repository: <a href=\"https://github.com/rasbt/LLMs-from-scratch\">https://github.com/rasbt/LLMs-from-scratch</a>\n",
    "</font>\n",
    "</td>\n",
    "<td style=\"vertical-align:middle; text-align:left;\">\n",
    "<a href=\"http://mng.bz/orYv\"><img src=\"https://sebastianraschka.com/images/LLMs-from-scratch-images/cover-small.webp\" width=\"100px\"></a>\n",
    "</td>\n",
    "</tr>\n",
    "</table>\n"
   ]
  },
  {
   "cell_type": "markdown",
   "id": "25aa40e3-5109-433f-9153-f5770531fe94",
   "metadata": {},
   "source": [
    "# Chapter 2: Working with Text\n",
    "# 第二章：文本处理"
   ]
  },
  {
   "cell_type": "markdown",
   "id": "76d5d2c0-cba8-404e-9bf3-71a218cae3cf",
   "metadata": {},
   "source": [
    "Packages that are being used in this notebook:\n",
    "本章节使用的包："
   ]
  },
  {
   "cell_type": "code",
   "execution_count": 1,
   "id": "4d1305cf-12d5-46fe-a2c9-36fb71c5b3d3",
   "metadata": {
    "ExecuteTime": {
     "end_time": "2024-10-26T09:58:03.517552Z",
     "start_time": "2024-10-26T09:58:00.708952Z"
    }
   },
   "outputs": [
    {
     "name": "stdout",
     "output_type": "stream",
     "text": [
      "torch version: 2.5.0\n",
      "tiktoken version: 0.8.0\n"
     ]
    }
   ],
   "source": [
    "# 从importlib.metadata导入version函数\n",
    "from importlib.metadata import version\n",
    "\n",
    "# 打印torch包的版本号\n",
    "print(\"torch version:\", version(\"torch\"))\n",
    "# 打印tiktoken包的版本号 \n",
    "print(\"tiktoken version:\", version(\"tiktoken\"))\n",
    "\n"
   ]
  },
  {
   "cell_type": "markdown",
   "id": "5a42fbfd-e3c2-43c2-bc12-f5f870a0b10a",
   "metadata": {},
   "source": [
    "- This chapter covers data preparation and sampling to get input data \"ready\" for the LLM\n",
    "- 本章涵盖了数据准备和采样,以使输入数据为LLM做好\"准备\""
   ]
  },
  {
   "cell_type": "markdown",
   "id": "628b2922-594d-4ff9-bd82-04f1ebdf41f5",
   "metadata": {},
   "source": [
    "<img src=\"https://sebastianraschka.com/images/LLMs-from-scratch-images/ch02_compressed/01.webp?timestamp=1\" width=\"500px\">"
   ]
  },
  {
   "cell_type": "markdown",
   "id": "2417139b-2357-44d2-bd67-23f5d7f52ae7",
   "metadata": {},
   "source": [
    " ## 2.1 Understanding word embeddings\n",
    " ## 2.1 理解词嵌入"
   ]
  },
  {
   "cell_type": "markdown",
   "id": "0b6816ae-e927-43a9-b4dd-e47a9b0e1cf6",
   "metadata": {},
   "source": [
    " - No code in this section\n",
    " - 本节没有代码"
   ]
  },
  {
   "cell_type": "markdown",
   "id": "4f69dab7-a433-427a-9e5b-b981062d6296",
   "metadata": {},
   "source": [
    " - There are many forms of embeddings; we focus on text embeddings in this book\n",
    " - 嵌入有很多形式;在本书中我们专注于文本嵌入"
   ]
  },
  {
   "cell_type": "markdown",
   "id": "ba08d16f-f237-4166-bf89-0e9fe703e7b4",
   "metadata": {},
   "source": [
    "<img src=\"https://sebastianraschka.com/images/LLMs-from-scratch-images/ch02_compressed/02.webp\" width=\"500px\">"
   ]
  },
  {
   "cell_type": "markdown",
   "id": "288c4faf-b93a-4616-9276-7a4aa4b5e9ba",
   "metadata": {},
   "source": [
    " - LLMs work with embeddings in high-dimensional spaces (i.e., thousands of dimensions)\n",
    "  - LLM在高维空间中使用嵌入(即数千个维度)\n",
    " - Since we can't visualize such high-dimensional spaces (we humans think in 1, 2, or 3 dimensions), the figure below illustrates a 2-dimensional embedding space\n",
    " - 由于我们无法可视化如此高维的空间(我们人类只能思考1、2或3维),下图展示了一个二维嵌入空间"
   ]
  },
  {
   "cell_type": "markdown",
   "id": "d6b80160-1f10-4aad-a85e-9c79444de9e6",
   "metadata": {},
   "source": [
    "<img src=\"https://sebastianraschka.com/images/LLMs-from-scratch-images/ch02_compressed/03.webp\" width=\"300px\">"
   ]
  },
  {
   "cell_type": "markdown",
   "id": "eddbb984-8d23-40c5-bbfa-c3c379e7eec3",
   "metadata": {},
   "source": [
    "# ## 2.2 Tokenizing text\n",
    "# ## 2.2 文本分词"
   ]
  },
  {
   "cell_type": "markdown",
   "id": "f9c90731-7dc9-4cd3-8c4a-488e33b48e80",
   "metadata": {},
   "source": [
    " - In this section, we tokenize text, which means breaking text into smaller units, such as individual words and punctuation characters\n",
    "- 在本节中,我们对文本进行分词,这意味着将文本分解成更小的单位,如单个词和标点符号"
   ]
  },
  {
   "cell_type": "markdown",
   "id": "09872fdb-9d4e-40c4-949d-52a01a43ec4b",
   "metadata": {},
   "source": [
    "<img src=\"https://sebastianraschka.com/images/LLMs-from-scratch-images/ch02_compressed/04.webp\" width=\"300px\">"
   ]
  },
  {
   "cell_type": "markdown",
   "id": "8cceaa18-833d-46b6-b211-b20c53902805",
   "metadata": {},
   "source": [
    " - Load raw text we want to work with\n",
    " - 加载我们要处理的原始文本\n",
    "- [The Verdict by Edith Wharton](https://en.wikisource.org/wiki/The_Verdict) is a public domain short story\n",
    " - [The Verdict by Edith Wharton](https://en.wikisource.org/wiki/The_Verdict) 是一个公共领域的短篇小说"
   ]
  },
  {
   "cell_type": "code",
   "execution_count": 2,
   "id": "40f9d9b1-6d32-485a-825a-a95392a86d79",
   "metadata": {
    "ExecuteTime": {
     "end_time": "2024-10-26T09:58:59.777556Z",
     "start_time": "2024-10-26T09:58:59.749788Z"
    }
   },
   "outputs": [],
   "source": [
    "# 导入os模块用于文件和目录操作\n",
    "import os\n",
    "# 导入urllib.request模块用于从网络下载文件\n",
    "import urllib.request\n",
    "\n",
    "# 检查文件是否存在\n",
    "if not os.path.exists(\"the-verdict.txt\"):\n",
    "    # 设置文件的URL地址\n",
    "    url = (\"https://raw.githubusercontent.com/rasbt/\"\n",
    "           \"LLMs-from-scratch/main/ch02/01_main-chapter-code/\"\n",
    "           \"the-verdict.txt\")\n",
    "    # 设置本地保存的文件路径\n",
    "    file_path = \"the-verdict.txt\"\n",
    "    # 从URL下载文件并保存到本地\n",
    "    urllib.request.urlretrieve(url, file_path)"
   ]
  },
  {
   "cell_type": "markdown",
   "id": "56488f2c-a2b8-49f1-aaeb-461faad08dce",
   "metadata": {},
   "source": [
    " - (If you encounter an `ssl.SSLCertVerificationError` when executing the previous code cell, it might be due to using an outdated Python version; you can find [more information here on GitHub](https://github.com/rasbt/LLMs-from-scratch/pull/403))\n",
    " - (如果在执行前面的代码单元格时遇到 `ssl.SSLCertVerificationError` 错误,这可能是由于使用了过时的Python版本;你可以在[GitHub上找到更多信息](https://github.com/rasbt/LLMs-from-scratch/pull/403))"
   ]
  },
  {
   "cell_type": "code",
   "execution_count": 3,
   "id": "8a769e87-470a-48b9-8bdb-12841b416198",
   "metadata": {},
   "outputs": [
    {
     "name": "stdout",
     "output_type": "stream",
     "text": [
      "Total number of character: 20479\n",
      "I HAD always thought Jack Gisburn rather a cheap genius--though a good fellow enough--so it was no \n"
     ]
    }
   ],
   "source": [
    "# 以utf-8编码打开文件\n",
    "with open(\"the-verdict.txt\", \"r\", encoding=\"utf-8\") as f:\n",
    "    # 读取文件内容到raw_text变量\n",
    "    raw_text = f.read()\n",
    "    \n",
    "# 打印文本总字符数\n",
    "print(\"Total number of character:\", len(raw_text))\n",
    "# 打印文本的前99个字符\n",
    "print(raw_text[:99])"
   ]
  },
  {
   "cell_type": "markdown",
   "id": "9b971a46-ac03-4368-88ae-3f20279e8f4e",
   "metadata": {},
   "source": [
    " - The goal is to tokenize and embed this text for an LLM\n",
    " - 目标是对这段文本进行分词并嵌入到LLM中\n",
    " - Let's develop a simple tokenizer based on some simple sample text that we can then later apply to the text above  \n",
    " - 让我们基于一些简单的示例文本开发一个简单的分词器,然后将其应用到上面的文本中\n",
    " - The following regular expression will split on whitespaces\n",
    " - 下面的正则表达式将在空格处进行分割"
   ]
  },
  {
   "cell_type": "code",
   "execution_count": 4,
   "id": "737dd5b0-9dbb-4a97-9ae4-3482c8c04be7",
   "metadata": {},
   "outputs": [
    {
     "name": "stdout",
     "output_type": "stream",
     "text": [
      "['Hello,', ' ', 'world.', ' ', 'This,', ' ', 'is', ' ', 'a', ' ', 'test.']\n"
     ]
    }
   ],
   "source": [
    "# 导入正则表达式模块\n",
    "import re\n",
    "\n",
    "# 定义一个示例文本字符串\n",
    "text = \"Hello, world. This, is a test.\"\n",
    "# 使用正则表达式按空格分割文本,保留分隔符\n",
    "result = re.split(r'(\\s)', text)\n",
    "\n",
    "# 打印分割结果\n",
    "print(result)"
   ]
  },
  {
   "cell_type": "markdown",
   "id": "a8c40c18-a9d5-4703-bf71-8261dbcc5ee3",
   "metadata": {},
   "source": [
    " - We don't only want to split on whitespaces but also commas and periods, so let's modify the regular expression to do that as well\n",
    " - 我们不仅要在空格处分割,还要在逗号和句号处分割,所以让我们修改正则表达式来实现这一点"
   ]
  },
  {
   "cell_type": "code",
   "execution_count": 5,
   "id": "ea02489d-01f9-4247-b7dd-a0d63f62ef07",
   "metadata": {},
   "outputs": [
    {
     "name": "stdout",
     "output_type": "stream",
     "text": [
      "['Hello', ',', '', ' ', 'world', '.', '', ' ', 'This', ',', '', ' ', 'is', ' ', 'a', ' ', 'test', '.', '']\n"
     ]
    }
   ],
   "source": [
    "# 使用正则表达式按逗号、句号和空格分割文本,保留分隔符\n",
    "result = re.split(r'([,.]|\\s)', text)\n",
    "\n",
    "# 打印分割结果\n",
    "print(result)"
   ]
  },
  {
   "cell_type": "markdown",
   "id": "461d0c86-e3af-4f87-8fae-594a9ca9b6ad",
   "metadata": {},
   "source": [
    " - As we can see, this creates empty strings, let's remove them\n",
    " - 正如我们所看到的,这会创建空字符串,让我们把它们删除"
   ]
  },
  {
   "cell_type": "code",
   "execution_count": 6,
   "id": "4d8a6fb7-2e62-4a12-ad06-ccb04f25fed7",
   "metadata": {},
   "outputs": [
    {
     "name": "stdout",
     "output_type": "stream",
     "text": [
      "['Hello', ',', 'world', '.', 'This', ',', 'is', 'a', 'test', '.']\n"
     ]
    }
   ],
   "source": [
    "# 从每个项目中去除空白字符\n",
    "# 使用列表推导式过滤掉空字符串\n",
    "# 将结果存储在result变量中\n",
    "result = [item for item in result if item.strip()]\n",
    "# 打印处理后的结果\n",
    "print(result)"
   ]
  },
  {
   "cell_type": "markdown",
   "id": "250e8694-181e-496f-895d-7cb7d92b5562",
   "metadata": {},
   "source": [
    " - This looks pretty good, but let's also handle other types of punctuation, such as periods, question marks, and so on\n",
    " - 这看起来不错,但让我们也处理其他类型的标点符号,比如句号、问号等"
   ]
  },
  {
   "cell_type": "code",
   "execution_count": 7,
   "id": "ed3a9467-04b4-49d9-96c5-b8042bcf8374",
   "metadata": {},
   "outputs": [
    {
     "name": "stdout",
     "output_type": "stream",
     "text": [
      "['Hello', ',', 'world', '.', 'Is', 'this', '--', 'a', 'test', '?']\n"
     ]
    }
   ],
   "source": [
    "# 定义一个包含标点符号和特殊字符的示例文本\n",
    "text = \"Hello, world. Is this-- a test?\"\n",
    "\n",
    "# 使用正则表达式按标点符号、破折号和空格分割文本,保留分隔符\n",
    "result = re.split(r'([,.:;?_!\"()\\']|--|\\s)', text)\n",
    "# 从每个项目中去除空白字符并过滤掉空字符串\n",
    "result = [item.strip() for item in result if item.strip()]\n",
    "# 打印分割结果\n",
    "print(result)"
   ]
  },
  {
   "cell_type": "markdown",
   "id": "5bbea70b-c030-45d9-b09d-4318164c0bb4",
   "metadata": {},
   "source": [
    " - This is pretty good, and we are now ready to apply this tokenization to the raw text\n",
    " - 这个效果很好,现在我们可以将这个分词方法应用到原始文本了"
   ]
  },
  {
   "cell_type": "markdown",
   "id": "6cbe9330-b587-4262-be9f-497a84ec0e8a",
   "metadata": {},
   "source": [
    "<img src=\"https://sebastianraschka.com/images/LLMs-from-scratch-images/ch02_compressed/05.webp\" width=\"350px\">"
   ]
  },
  {
   "cell_type": "code",
   "execution_count": 8,
   "id": "8c567caa-8ff5-49a8-a5cc-d365b0a78a99",
   "metadata": {},
   "outputs": [
    {
     "name": "stdout",
     "output_type": "stream",
     "text": [
      "['I', 'HAD', 'always', 'thought', 'Jack', 'Gisburn', 'rather', 'a', 'cheap', 'genius', '--', 'though', 'a', 'good', 'fellow', 'enough', '--', 'so', 'it', 'was', 'no', 'great', 'surprise', 'to', 'me', 'to', 'hear', 'that', ',', 'in']\n"
     ]
    }
   ],
   "source": [
    "# 使用正则表达式按标点符号、破折号和空格分割原始文本,保留分隔符\n",
    "preprocessed = re.split(r'([,.:;?_!\"()\\']|--|\\s)', raw_text)\n",
    "# 从每个项目中去除空白字符并过滤掉空字符串\n",
    "preprocessed = [item.strip() for item in preprocessed if item.strip()]\n",
    "# 打印前30个分词结果\n",
    "print(preprocessed[:30])"
   ]
  },
  {
   "cell_type": "markdown",
   "id": "e2a19e1a-5105-4ddb-812a-b7d3117eab95",
   "metadata": {},
   "source": [
    " - Let's calculate the total number of tokens\n",
    " - 让我们计算总的词元数量"
   ]
  },
  {
   "cell_type": "code",
   "execution_count": 9,
   "id": "35db7b5e-510b-4c45-995f-f5ad64a8e19c",
   "metadata": {},
   "outputs": [
    {
     "name": "stdout",
     "output_type": "stream",
     "text": [
      "4690\n"
     ]
    }
   ],
   "source": [
    "# 打印词元数量\n",
    "print(len(preprocessed))"
   ]
  },
  {
   "cell_type": "markdown",
   "id": "0b5ce8fe-3a07-4f2a-90f1-a0321ce3a231",
   "metadata": {},
   "source": [
    " ## 2.3 Converting tokens into token IDs\n",
    " ## 2.3 将词元转换为词元ID"
   ]
  },
  {
   "cell_type": "markdown",
   "id": "a5204973-f414-4c0d-87b0-cfec1f06e6ff",
   "metadata": {},
   "source": [
    " - Next, we convert the text tokens into token IDs that we can process via embedding layers later\n",
    " - 接下来,我们将文本词元转换为词元ID,以便之后通过嵌入层进行处理"
   ]
  },
  {
   "cell_type": "markdown",
   "id": "177b041d-f739-43b8-bd81-0443ae3a7f8d",
   "metadata": {},
   "source": [
    "<img src=\"https://sebastianraschka.com/images/LLMs-from-scratch-images/ch02_compressed/06.webp\" width=\"500px\">"
   ]
  },
  {
   "cell_type": "markdown",
   "id": "b5973794-7002-4202-8b12-0900cd779720",
   "metadata": {},
   "source": [
    " - From these tokens, we can now build a vocabulary that consists of all the unique tokens\n",
    " - 从这些词元中,我们现在可以构建一个包含所有唯一词元的词汇表"
   ]
  },
  {
   "cell_type": "code",
   "execution_count": 10,
   "id": "7fdf0533-5ab6-42a5-83fa-a3b045de6396",
   "metadata": {},
   "outputs": [
    {
     "name": "stdout",
     "output_type": "stream",
     "text": [
      "1130\n"
     ]
    }
   ],
   "source": [
    "# 对预处理后的词元列表去重并排序,得到所有唯一词元\n",
    "all_words = sorted(set(preprocessed))\n",
    "# 计算词汇表大小\n",
    "vocab_size = len(all_words)\n",
    "\n",
    "# 打印词汇表大小\n",
    "print(vocab_size)"
   ]
  },
  {
   "cell_type": "code",
   "execution_count": 11,
   "id": "77d00d96-881f-4691-bb03-84fec2a75a26",
   "metadata": {},
   "outputs": [],
   "source": [
    "# 创建词汇表字典,将每个词元映射到一个唯一的整数ID\n",
    "# token作为键,integer作为值,使用enumerate生成整数序列\n",
    "vocab = {token:integer for integer,token in enumerate(all_words)}"
   ]
  },
  {
   "cell_type": "markdown",
   "id": "75bd1f81-3a8f-4dd9-9dd6-e75f32dacbe3",
   "metadata": {},
   "source": [
    " - Below are the first 50 entries in this vocabulary:\n",
    " - 以下是词汇表中的前50个条目:"
   ]
  },
  {
   "cell_type": "code",
   "execution_count": 12,
   "id": "e1c5de4a-aa4e-4aec-b532-10bb364039d6",
   "metadata": {},
   "outputs": [
    {
     "name": "stdout",
     "output_type": "stream",
     "text": [
      "('!', 0)\n",
      "('\"', 1)\n",
      "(\"'\", 2)\n",
      "('(', 3)\n",
      "(')', 4)\n",
      "(',', 5)\n",
      "('--', 6)\n",
      "('.', 7)\n",
      "(':', 8)\n",
      "(';', 9)\n",
      "('?', 10)\n",
      "('A', 11)\n",
      "('Ah', 12)\n",
      "('Among', 13)\n",
      "('And', 14)\n",
      "('Are', 15)\n",
      "('Arrt', 16)\n",
      "('As', 17)\n",
      "('At', 18)\n",
      "('Be', 19)\n",
      "('Begin', 20)\n",
      "('Burlington', 21)\n",
      "('But', 22)\n",
      "('By', 23)\n",
      "('Carlo', 24)\n",
      "('Chicago', 25)\n",
      "('Claude', 26)\n",
      "('Come', 27)\n",
      "('Croft', 28)\n",
      "('Destroyed', 29)\n",
      "('Devonshire', 30)\n",
      "('Don', 31)\n",
      "('Dubarry', 32)\n",
      "('Emperors', 33)\n",
      "('Florence', 34)\n",
      "('For', 35)\n",
      "('Gallery', 36)\n",
      "('Gideon', 37)\n",
      "('Gisburn', 38)\n",
      "('Gisburns', 39)\n",
      "('Grafton', 40)\n",
      "('Greek', 41)\n",
      "('Grindle', 42)\n",
      "('Grindles', 43)\n",
      "('HAD', 44)\n",
      "('Had', 45)\n",
      "('Hang', 46)\n",
      "('Has', 47)\n",
      "('He', 48)\n",
      "('Her', 49)\n",
      "('Hermia', 50)\n"
     ]
    }
   ],
   "source": [
    "# 遍历词汇表中的条目\n",
    "for i, item in enumerate(vocab.items()):\n",
    "    # 打印每个词元-ID对\n",
    "    print(item)\n",
    "    # 只打印前50个条目\n",
    "    if i >= 50:\n",
    "        break"
   ]
  },
  {
   "cell_type": "markdown",
   "id": "3b1dc314-351b-476a-9459-0ec9ddc29b19",
   "metadata": {},
   "source": [
    " - Below, we illustrate the tokenization of a short sample text using a small vocabulary:\n",
    " - 下面,我们使用一个小型词汇表来演示对短文本进行分词的过程:"
   ]
  },
  {
   "cell_type": "markdown",
   "id": "67407a9f-0202-4e7c-9ed7-1b3154191ebc",
   "metadata": {},
   "source": [
    "<img src=\"https://sebastianraschka.com/images/LLMs-from-scratch-images/ch02_compressed/07.webp?123\" width=\"500px\">"
   ]
  },
  {
   "cell_type": "markdown",
   "id": "4e569647-2589-4c9d-9a5c-aef1c88a0a9a",
   "metadata": {},
   "source": [
    " - Putting it now all together into a tokenizer class\n",
    " - 现在将所有内容整合到一个分词器类中"
   ]
  },
  {
   "cell_type": "code",
   "execution_count": 13,
   "id": "f531bf46-7c25-4ef8-bff8-0d27518676d5",
   "metadata": {},
   "outputs": [],
   "source": [
    "# 分词器类\n",
    "class SimpleTokenizerV1:\n",
    "    def __init__(self, vocab):\n",
    "        # 存储词汇表字典,将字符串映射到整数ID\n",
    "        self.str_to_int = vocab\n",
    "        # 创建反向映射字典,将整数ID映射回字符串\n",
    "        self.int_to_str = {i:s for s,i in vocab.items()}\n",
    "    \n",
    "    def encode(self, text):\n",
    "        # 使用正则表达式分割文本,保留标点符号和空格\n",
    "        preprocessed = re.split(r'([,.:;?_!\"()\\']|--|\\s)', text)\n",
    "                                \n",
    "        # 去除空白并过滤掉空字符串\n",
    "        preprocessed = [\n",
    "            item.strip() for item in preprocessed if item.strip()\n",
    "        ]\n",
    "        # 将每个词元转换为对应的整数ID\n",
    "        ids = [self.str_to_int[s] for s in preprocessed]\n",
    "        # 返回ids\n",
    "        return ids\n",
    "        \n",
    "    def decode(self, ids):\n",
    "        # 将整数ID序列转换回文本,用空格连接\n",
    "        text = \" \".join([self.int_to_str[i] for i in ids])\n",
    "        # 删除标点符号前的空格\n",
    "        text = re.sub(r'\\s+([,.?!\"()\\'])', r'\\1', text)\n",
    "        # 返回text\n",
    "        return text"
   ]
  },
  {
   "cell_type": "markdown",
   "id": "dee7a1e5-b54f-4ca1-87ef-3d663c4ee1e7",
   "metadata": {},
   "source": [
    " - The `encode` function turns text into token IDs\n",
    " - The `decode` function turns token IDs back into text\n",
    " - `encode` 函数将文本转换为词元ID\n",
    " - `decode` 函数将词元ID转换回文本"
   ]
  },
  {
   "cell_type": "markdown",
   "id": "cc21d347-ec03-4823-b3d4-9d686e495617",
   "metadata": {},
   "source": [
    "<img src=\"https://sebastianraschka.com/images/LLMs-from-scratch-images/ch02_compressed/08.webp?123\" width=\"500px\">"
   ]
  },
  {
   "cell_type": "markdown",
   "id": "c2950a94-6b0d-474e-8ed0-66d0c3c1a95c",
   "metadata": {},
   "source": [
    " - We can use the tokenizer to encode (that is, tokenize) texts into integers\n",
    " - These integers can then be embedded (later) as input of/for the LLM\n",
    " - 我们可以使用分词器将文本编码(即分词)为整数\n",
    " - 这些整数随后可以被嵌入(后面会讲到)作为LLM的输入"
   ]
  },
  {
   "cell_type": "code",
   "execution_count": 14,
   "id": "647364ec-7995-4654-9b4a-7607ccf5f1e4",
   "metadata": {},
   "outputs": [
    {
     "name": "stdout",
     "output_type": "stream",
     "text": [
      "[1, 56, 2, 850, 988, 602, 533, 746, 5, 1126, 596, 5, 1, 67, 7, 38, 851, 1108, 754, 793, 7]\n"
     ]
    }
   ],
   "source": [
    "# 创建一个SimpleTokenizerV1实例,使用vocab词汇表\n",
    "tokenizer = SimpleTokenizerV1(vocab)\n",
    "\n",
    "# 定义要编码的文本字符串\n",
    "text = \"\"\"\"It's the last he painted, you know,\" \n",
    "           Mrs. Gisburn said with pardonable pride.\"\"\"\n",
    "# 使用tokenizer将文本编码为整数ID序列\n",
    "ids = tokenizer.encode(text)\n",
    "# 打印编码后的整数ID序列\n",
    "print(ids)"
   ]
  },
  {
   "cell_type": "markdown",
   "id": "3201706e-a487-4b60-b99d-5765865f29a0",
   "metadata": {},
   "source": [
    " - We can decode the integers back into text\n",
    " - 我们可以将整数解码回文本"
   ]
  },
  {
   "cell_type": "code",
   "execution_count": 15,
   "id": "01d8c8fb-432d-4a49-b332-99f23b233746",
   "metadata": {},
   "outputs": [
    {
     "data": {
      "text/plain": [
       "'\" It\\' s the last he painted, you know,\" Mrs. Gisburn said with pardonable pride.'"
      ]
     },
     "execution_count": 15,
     "metadata": {},
     "output_type": "execute_result"
    }
   ],
   "source": [
    "# 使用tokenizer将整数ID序列解码回文本\n",
    "tokenizer.decode(ids)"
   ]
  },
  {
   "cell_type": "code",
   "execution_count": 16,
   "id": "54f6aa8b-9827-412e-9035-e827296ab0fe",
   "metadata": {},
   "outputs": [
    {
     "data": {
      "text/plain": [
       "'\" It\\' s the last he painted, you know,\" Mrs. Gisburn said with pardonable pride.'"
      ]
     },
     "execution_count": 16,
     "metadata": {},
     "output_type": "execute_result"
    }
   ],
   "source": [
    "# 先使用tokenizer.encode()将文本编码为整数ID序列\n",
    "# 然后使用tokenizer.decode()将整数ID序列解码回文本\n",
    "# 这个操作相当于对文本进行了一次编码和解码的往返转换\n",
    "tokenizer.decode(tokenizer.encode(text))"
   ]
  },
  {
   "cell_type": "markdown",
   "id": "4b821ef8-4d53-43b6-a2b2-aef808c343c7",
   "metadata": {},
   "source": [
    " ## 2.4 Adding special context tokens\n",
    " ## 2.4 添加特殊上下文标记"
   ]
  },
  {
   "cell_type": "markdown",
   "id": "863d6d15-a3e2-44e0-b384-bb37f17cf443",
   "metadata": {},
   "source": [
    " - It's useful to add some \"special\" tokens for unknown words and to denote the end of a text\n",
    " - 为未知词和标记文本结尾添加一些\"特殊\"标记是很有用的"
   ]
  },
  {
   "cell_type": "markdown",
   "id": "aa7fc96c-e1fd-44fb-b7f5-229d7c7922a4",
   "metadata": {},
   "source": [
    "<img src=\"https://sebastianraschka.com/images/LLMs-from-scratch-images/ch02_compressed/09.webp?123\" width=\"500px\">"
   ]
  },
  {
   "cell_type": "markdown",
   "id": "9d709d57-2486-4152-b7f9-d3e4bd8634cd",
   "metadata": {},
   "source": [
    " - Some tokenizers use special tokens to help the LLM with additional context\n",
    " - 一些分词器使用特殊标记来帮助LLM获取额外的上下文信息\n",
    " - Some of these special tokens are\n",
    " - 这些特殊标记包括:\n",
    "   - `[BOS]` (beginning of sequence) marks the beginning of text\n",
    "   - `[BOS]` (序列开始)标记文本的开始\n",
    "   - `[EOS]` (end of sequence) marks where the text ends (this is usually used to concatenate multiple unrelated texts, e.g., two different Wikipedia articles or two different books, and so on)\n",
    "   - `[EOS]` (序列结束)标记文本的结束(通常用于连接多个不相关的文本,例如两篇不同的维基百科文章或两本不同的书等)\n",
    "   - `[PAD]` (padding) if we train LLMs with a batch size greater than 1 (we may include multiple texts with different lengths; with the padding token we pad the shorter texts to the longest length so that all texts have an equal length)\n",
    "   - `[PAD]` (填充)如果我们使用大于1的批量大小训练LLM(我们可能包含多个不同长度的文本;使用填充标记,我们将较短的文本填充到最长长度,使所有文本长度相等)\n",
    " - `[UNK]` to represent words that are not included in the vocabulary\n",
    " - `[UNK]` 用于表示词汇表中不包含的词\n",
    " \n",
    " - Note that GPT-2 does not need any of these tokens mentioned above but only uses an `<|endoftext|>` token to reduce complexity\n",
    " - 注意,GPT-2不需要上述任何标记,而只使用`<|endoftext|>`标记来降低复杂性\n",
    " - The `<|endoftext|>` is analogous to the `[EOS]` token mentioned above\n",
    " - `<|endoftext|>`类似于上面提到的`[EOS]`标记\n",
    " - GPT also uses the `<|endoftext|>` for padding (since we typically use a mask when training on batched inputs, we would not attend padded tokens anyways, so it does not matter what these tokens are)\n",
    " - GPT也使用`<|endoftext|>`进行填充(因为我们在训练批量输入时通常使用掩码,所以无论如何都不会关注填充标记,因此这些标记是什么并不重要)\n",
    " - GPT-2 does not use an `<UNK>` token for out-of-vocabulary words; instead, GPT-2 uses a byte-pair encoding (BPE) tokenizer, which breaks down words into subword units which we will discuss in a later section\n",
    " - GPT-2不使用`<UNK>`标记来表示词汇表外的词;相反,GPT-2使用字节对编码(BPE)分词器,将词分解为子词单元,我们将在后面的章节中讨论这一点\n",
    "\n"
   ]
  },
  {
   "cell_type": "markdown",
   "id": "a336b43b-7173-49e7-bd80-527ad4efb271",
   "metadata": {},
   "source": [
    " - We use the `<|endoftext|>` tokens between two independent sources of text:\n",
    " - 我们在两个独立的文本源之间使用`<|endoftext|>`标记:"
   ]
  },
  {
   "cell_type": "markdown",
   "id": "52442951-752c-4855-9752-b121a17fef55",
   "metadata": {},
   "source": [
    "<img src=\"https://sebastianraschka.com/images/LLMs-from-scratch-images/ch02_compressed/10.webp\" width=\"500px\">"
   ]
  },
  {
   "cell_type": "markdown",
   "id": "c661a397-da06-4a86-ac27-072dbe7cb172",
   "metadata": {},
   "source": [
    " - Let's see what happens if we tokenize the following text:\n",
    " - 让我们看看对以下文本进行分词会发生什么:"
   ]
  },
  {
   "cell_type": "code",
   "execution_count": 17,
   "id": "d5767eff-440c-4de1-9289-f789349d6b85",
   "metadata": {},
   "outputs": [],
   "source": [
    "# 创建一个SimpleTokenizerV1实例,使用vocab词汇表\n",
    "tokenizer = SimpleTokenizerV1(vocab)\n",
    "\n",
    "# 定义要分词的测试文本\n",
    "text = \"Hello, do you like tea. Is this-- a test?\"\n",
    "\n",
    "# 使用tokenizer对文本进行编码(转换为token ID)\n",
    "# tokenizer.encode(text)"
   ]
  },
  {
   "cell_type": "markdown",
   "id": "dc53ee0c-fe2b-4cd8-a946-5471f7651acf",
   "metadata": {},
   "source": [
    " - The above produces an error because the word \"Hello\" is not contained in the vocabulary\n",
    " - 上面产生错误是因为词汇表中不包含\"Hello\"这个词\n",
    " - To deal with such cases, we can add special tokens like `\"<|unk|>\"` to the vocabulary to represent unknown words\n",
    " - 为了处理这种情况,我们可以在词汇表中添加特殊标记如`\"<|unk|>\"`来表示未知词\n",
    " - Since we are already extending the vocabulary, let's add another token called `\"<|endoftext|>\"` which is used in GPT-2 training to denote the end of a text (and it's also used between concatenated text, like if our training datasets consists of multiple articles, books, etc.)\n",
    " - 既然我们已经在扩展词汇表,让我们再添加一个叫做`\"<|endoftext|>\"`的标记,它在GPT-2训练中用于表示文本的结束(它也用于连接的文本之间,比如当我们的训练数据集包含多篇文章、书籍等)"
   ]
  },
  {
   "cell_type": "code",
   "execution_count": 18,
   "id": "ce9df29c-6c5b-43f1-8c1a-c7f7b79db78f",
   "metadata": {},
   "outputs": [],
   "source": [
    "# 对预处理后的token列表去重并排序\n",
    "all_tokens = sorted(list(set(preprocessed)))\n",
    "# 添加特殊标记 <|endoftext|> 和 <|unk|> 到token列表\n",
    "all_tokens.extend([\"<|endoftext|>\", \"<|unk|>\"])\n",
    "\n",
    "# 创建词汇表字典,将token映射到整数ID\n",
    "vocab = {token:integer for integer,token in enumerate(all_tokens)}"
   ]
  },
  {
   "cell_type": "code",
   "execution_count": 19,
   "id": "57c3143b-e860-4d3b-a22a-de22b547a6a9",
   "metadata": {},
   "outputs": [
    {
     "data": {
      "text/plain": [
       "1132"
      ]
     },
     "execution_count": 19,
     "metadata": {},
     "output_type": "execute_result"
    }
   ],
   "source": [
    "# 获取词汇表的大小\n",
    "len(vocab.items())"
   ]
  },
  {
   "cell_type": "code",
   "execution_count": 20,
   "id": "50e51bb1-ae05-4aa8-a9ff-455b65ed1959",
   "metadata": {},
   "outputs": [
    {
     "name": "stdout",
     "output_type": "stream",
     "text": [
      "('younger', 1127)\n",
      "('your', 1128)\n",
      "('yourself', 1129)\n",
      "('<|endoftext|>', 1130)\n",
      "('<|unk|>', 1131)\n"
     ]
    }
   ],
   "source": [
    "# 遍历词汇表中最后5个项目并打印\n",
    "# 使用enumerate获取索引和键值对\n",
    "# list(vocab.items())[-5:] 获取词汇表中最后5个项目\n",
    "for i, item in enumerate(list(vocab.items())[-5:]):\n",
    "    print(item)"
   ]
  },
  {
   "cell_type": "markdown",
   "id": "a1daa2b0-6e75-412b-ab53-1f6fb7b4d453",
   "metadata": {},
   "source": [
    " - We also need to adjust the tokenizer accordingly so that it knows when and how to use the new `<unk>` token\n",
    " - 我们还需要相应地调整分词器,使其知道何时以及如何使用新的`<unk>`标记"
   ]
  },
  {
   "cell_type": "code",
   "execution_count": 21,
   "id": "948861c5-3f30-4712-a234-725f20d26f68",
   "metadata": {},
   "outputs": [],
   "source": [
    "# 分词器V2版本\n",
    "class SimpleTokenizerV2:\n",
    "    # 初始化函数,接收词汇表作为参数\n",
    "    def __init__(self, vocab):\n",
    "        # 将词汇表存储为字符串到整数的映射\n",
    "        self.str_to_int = vocab\n",
    "        # 创建整数到字符串的反向映射\n",
    "        self.int_to_str = { i:s for s,i in vocab.items()}\n",
    "    \n",
    "    # 编码函数,将文本转换为token ID\n",
    "    def encode(self, text):\n",
    "        # 使用正则表达式分割文本,保留标点符号\n",
    "        preprocessed = re.split(r'([,.:;?_!\"()\\']|--|\\s)', text)\n",
    "        # 去除空白并过滤掉空字符串\n",
    "        preprocessed = [item.strip() for item in preprocessed if item.strip()]\n",
    "        # 将不在词汇表中的token替换为<|unk|>\n",
    "        preprocessed = [\n",
    "            item if item in self.str_to_int \n",
    "            else \"<|unk|>\" for item in preprocessed\n",
    "        ]\n",
    "\n",
    "        # 将token转换为对应的整数ID\n",
    "        ids = [self.str_to_int[s] for s in preprocessed]\n",
    "        return ids\n",
    "        \n",
    "    # 解码函数,将token ID转换回文本\n",
    "    def decode(self, ids):\n",
    "        # 将ID转换为对应的token并用空格连接\n",
    "        text = \" \".join([self.int_to_str[i] for i in ids])\n",
    "        # 删除标点符号前的空格\n",
    "        text = re.sub(r'\\s+([,.:;?!\"()\\'])', r'\\1', text)\n",
    "        return text"
   ]
  },
  {
   "cell_type": "markdown",
   "id": "aa728dd1-9d35-4ac7-938f-d411d73083f6",
   "metadata": {},
   "source": [
    " Let's try to tokenize text with the modified tokenizer:\n",
    " 让我们用修改后的分词器来尝试分词:"
   ]
  },
  {
   "cell_type": "code",
   "execution_count": 22,
   "id": "4133c502-18ac-4412-9f43-01caf4efa3dc",
   "metadata": {},
   "outputs": [
    {
     "name": "stdout",
     "output_type": "stream",
     "text": [
      "Hello, do you like tea? <|endoftext|> In the sunlit terraces of the palace.\n"
     ]
    }
   ],
   "source": [
    "# 创建SimpleTokenizerV2的实例,使用vocab作为词汇表\n",
    "tokenizer = SimpleTokenizerV2(vocab)\n",
    "\n",
    "# 定义第一个测试文本\n",
    "text1 = \"Hello, do you like tea?\"\n",
    "# 定义第二个测试文本\n",
    "text2 = \"In the sunlit terraces of the palace.\"\n",
    "\n",
    "# 使用<|endoftext|>标记将两个文本连接起来\n",
    "text = \" <|endoftext|> \".join((text1, text2))\n",
    "\n",
    "# 打印连接后的文本\n",
    "print(text)"
   ]
  },
  {
   "cell_type": "code",
   "execution_count": 23,
   "id": "7ed395fe-dc1b-4ed2-b85b-457cc35aab60",
   "metadata": {},
   "outputs": [
    {
     "data": {
      "text/plain": [
       "[1131, 5, 355, 1126, 628, 975, 10, 1130, 55, 988, 956, 984, 722, 988, 1131, 7]"
      ]
     },
     "execution_count": 23,
     "metadata": {},
     "output_type": "execute_result"
    }
   ],
   "source": [
    "# 使用分词器对文本进行编码,将返回token ID列表\n",
    "tokenizer.encode(text)"
   ]
  },
  {
   "cell_type": "code",
   "execution_count": 24,
   "id": "059367f9-7a60-4c0d-8a00-7c4c766d0ebc",
   "metadata": {},
   "outputs": [
    {
     "data": {
      "text/plain": [
       "'<|unk|>, do you like tea? <|endoftext|> In the sunlit terraces of the <|unk|>.'"
      ]
     },
     "execution_count": 24,
     "metadata": {},
     "output_type": "execute_result"
    }
   ],
   "source": [
    "# 先对文本进行编码得到token ID列表,再将token ID列表解码回文本\n",
    "tokenizer.decode(tokenizer.encode(text))"
   ]
  },
  {
   "cell_type": "markdown",
   "id": "5c4ba34b-170f-4e71-939b-77aabb776f14",
   "metadata": {},
   "source": [
    "## 2.5 BytePair encoding"
   ]
  },
  {
   "cell_type": "markdown",
   "id": "2309494c-79cf-4a2d-bc28-a94d602f050e",
   "metadata": {},
   "source": [
    " - GPT-2 used BytePair encoding (BPE) as its tokenizer\n",
    " - GPT-2使用字节对编码(BPE)作为其分词器\n",
    "\n",
    " - it allows the model to break down words that aren't in its predefined vocabulary into smaller subword units or even individual characters, enabling it to handle out-of-vocabulary words\n",
    " - 它允许模型将不在预定义词汇表中的单词分解成更小的子词单元甚至单个字符,从而能够处理词汇表外的单词\n",
    "\n",
    " - For instance, if GPT-2's vocabulary doesn't have the word \"unfamiliarword,\" it might tokenize it as [\"unfam\", \"iliar\", \"word\"] or some other subword breakdown, depending on its trained BPE merges\n",
    " - 例如,如果GPT-2的词汇表中没有\"unfamiliarword\"这个词,它可能会根据训练好的BPE合并规则将其分词为[\"unfam\", \"iliar\", \"word\"]或其他子词组合\n",
    "\n",
    " - The original BPE tokenizer can be found here: [https://github.com/openai/gpt-2/blob/master/src/encoder.py](https://github.com/openai/gpt-2/blob/master/src/encoder.py)\n",
    " - 原始的BPE分词器可以在这里找到: [https://github.com/openai/gpt-2/blob/master/src/encoder.py](https://github.com/openai/gpt-2/blob/master/src/encoder.py)\n",
    "\n",
    " - In this chapter, we are using the BPE tokenizer from OpenAI's open-source [tiktoken](https://github.com/openai/tiktoken) library, which implements its core algorithms in Rust to improve computational performance\n",
    " - 在本章中,我们使用OpenAI开源的[tiktoken](https://github.com/openai/tiktoken)库中的BPE分词器,该库使用Rust实现其核心算法以提高计算性能\n",
    "\n",
    " - I created a notebook in the [./bytepair_encoder](../02_bonus_bytepair-encoder) that compares these two implementations side-by-side (tiktoken was about 5x faster on the sample text)\n",
    " - 我在[./bytepair_encoder](../02_bonus_bytepair-encoder)中创建了一个notebook,对这两种实现进行了并排比较(在样本文本上tiktoken快了约5倍)"
   ]
  },
  {
   "cell_type": "code",
   "execution_count": 25,
   "id": "ede1d41f-934b-4bf4-8184-54394a257a94",
   "metadata": {},
   "outputs": [],
   "source": [
    "# 安装tiktoken库\n",
    "# pip install tiktoken"
   ]
  },
  {
   "cell_type": "code",
   "execution_count": 26,
   "id": "48967a77-7d17-42bf-9e92-fc619d63a59e",
   "metadata": {},
   "outputs": [
    {
     "name": "stdout",
     "output_type": "stream",
     "text": [
      "tiktoken version: 0.8.0\n"
     ]
    }
   ],
   "source": [
    "# 导入importlib模块用于获取包版本信息\n",
    "import importlib\n",
    "# 导入tiktoken分词器库\n",
    "import tiktoken\n",
    "\n",
    "# 打印tiktoken库的版本号\n",
    "print(\"tiktoken version:\", importlib.metadata.version(\"tiktoken\"))"
   ]
  },
  {
   "cell_type": "code",
   "execution_count": 27,
   "id": "6ad3312f-a5f7-4efc-9d7d-8ea09d7b5128",
   "metadata": {},
   "outputs": [],
   "source": [
    "# 使用tiktoken库获取GPT-2的分词器\n",
    "tokenizer = tiktoken.get_encoding(\"gpt2\")"
   ]
  },
  {
   "cell_type": "code",
   "execution_count": 28,
   "id": "5ff2cd85-7cfb-4325-b390-219938589428",
   "metadata": {},
   "outputs": [
    {
     "name": "stdout",
     "output_type": "stream",
     "text": [
      "[15496, 11, 466, 345, 588, 8887, 30, 220, 50256, 554, 262, 4252, 18250, 8812, 2114, 1659, 617, 34680, 27271, 13]\n"
     ]
    }
   ],
   "source": [
    "# 定义一个包含特殊标记<|endoftext|>的测试文本\n",
    "text = (\n",
    "    \"Hello, do you like tea? <|endoftext|> In the sunlit terraces\"\n",
    "     \"of someunknownPlace.\"\n",
    ")\n",
    "\n",
    "# 使用tokenizer将文本编码为整数序列\n",
    "# allowed_special参数指定允许的特殊标记\n",
    "integers = tokenizer.encode(text, allowed_special={\"<|endoftext|>\"})\n",
    "\n",
    "# 打印编码后的整数序列\n",
    "print(integers)"
   ]
  },
  {
   "cell_type": "code",
   "execution_count": 29,
   "id": "d26a48bb-f82e-41a8-a955-a1c9cf9d50ab",
   "metadata": {},
   "outputs": [
    {
     "name": "stdout",
     "output_type": "stream",
     "text": [
      "Hello, do you like tea? <|endoftext|> In the sunlit terracesof someunknownPlace.\n"
     ]
    }
   ],
   "source": [
    "# 使用tokenizer将整数序列解码回文本字符串\n",
    "strings = tokenizer.decode(integers)\n",
    "\n",
    "# 打印解码后的文本\n",
    "print(strings)"
   ]
  },
  {
   "cell_type": "markdown",
   "id": "e8c2e7b4-6a22-42aa-8e4d-901f06378d4a",
   "metadata": {},
   "source": [
    " - BPE tokenizers break down unknown words into subwords and individual characters:\n",
    " - BPE分词器会将未知词分解成子词和单个字符:"
   ]
  },
  {
   "cell_type": "markdown",
   "id": "c082d41f-33d7-4827-97d8-993d5a84bb3c",
   "metadata": {},
   "source": [
    "<img src=\"https://sebastianraschka.com/images/LLMs-from-scratch-images/ch02_compressed/11.webp\" width=\"300px\">"
   ]
  },
  {
   "cell_type": "markdown",
   "id": "abbd7c0d-70f8-4386-a114-907e96c950b0",
   "metadata": {},
   "source": [
    "## 2.6 Data sampling with a sliding window\n",
    "## 2.6 使用滑动窗口进行数据采样"
   ]
  },
  {
   "cell_type": "markdown",
   "id": "509d9826-6384-462e-aa8a-a7c73cd6aad0",
   "metadata": {},
   "source": [
    " - We train LLMs to generate one word at a time, so we want to prepare the training data accordingly where the next word in a sequence represents the target to predict:\n",
    " - 我们训练大语言模型时是一次生成一个词,所以我们需要相应地准备训练数据,其中序列中的下一个词代表要预测的目标:"
   ]
  },
  {
   "cell_type": "markdown",
   "id": "39fb44f4-0c43-4a6a-9c2f-9cf31452354c",
   "metadata": {},
   "source": [
    "<img src=\"https://sebastianraschka.com/images/LLMs-from-scratch-images/ch02_compressed/12.webp\" width=\"400px\">"
   ]
  },
  {
   "cell_type": "code",
   "execution_count": 30,
   "id": "848d5ade-fd1f-46c3-9e31-1426e315c71b",
   "metadata": {},
   "outputs": [
    {
     "name": "stdout",
     "output_type": "stream",
     "text": [
      "5145\n"
     ]
    }
   ],
   "source": [
    "# 以utf-8编码打开文件\"the-verdict.txt\"进行读取\n",
    "with open(\"the-verdict.txt\", \"r\", encoding=\"utf-8\") as f:\n",
    "    raw_text = f.read()\n",
    "\n",
    "# 使用tokenizer对原始文本进行编码\n",
    "enc_text = tokenizer.encode(raw_text)\n",
    "# 打印编码后的文本长度\n",
    "print(len(enc_text))"
   ]
  },
  {
   "cell_type": "markdown",
   "id": "cebd0657-5543-43ca-8011-2ae6bd0a5810",
   "metadata": {},
   "source": [
    " - For each text chunk, we want the inputs and targets\n",
    "- 对于每个文本块,我们需要输入和目标\n",
    " - Since we want the model to predict the next word, the targets are the inputs shifted by one position to the right  \n",
    "- 由于我们希望模型预测下一个词,目标是将输入向右移动一个位置"
   ]
  },
  {
   "cell_type": "code",
   "execution_count": 31,
   "id": "e84424a7-646d-45b6-99e3-80d15fb761f2",
   "metadata": {},
   "outputs": [],
   "source": [
    "# 从第50个位置开始截取编码后的文本作为样本\n",
    "enc_sample = enc_text[50:]"
   ]
  },
  {
   "cell_type": "code",
   "execution_count": 32,
   "id": "dfbff852-a92f-48c8-a46d-143a0f109f40",
   "metadata": {},
   "outputs": [
    {
     "name": "stdout",
     "output_type": "stream",
     "text": [
      "x: [290, 4920, 2241, 287]\n",
      "y:      [4920, 2241, 287, 257]\n"
     ]
    }
   ],
   "source": [
    "# 设置上下文窗口大小为4\n",
    "context_size = 4\n",
    "\n",
    "# 从enc_sample中获取前context_size个token作为输入x\n",
    "x = enc_sample[:context_size]\n",
    "# 从enc_sample中获取第2个到第context_size+1个token作为目标y\n",
    "y = enc_sample[1:context_size+1]\n",
    "\n",
    "# 打印输入x和目标y\n",
    "print(f\"x: {x}\")\n",
    "print(f\"y:      {y}\")"
   ]
  },
  {
   "cell_type": "markdown",
   "id": "815014ef-62f7-4476-a6ad-66e20e42b7c3",
   "metadata": {},
   "source": [
    " - One by one, the prediction would look like as follows:\n",
    " - 逐个来看,预测过程如下:"
   ]
  },
  {
   "cell_type": "code",
   "execution_count": 33,
   "id": "d97b031e-ed55-409d-95f2-aeb38c6fe366",
   "metadata": {},
   "outputs": [
    {
     "name": "stdout",
     "output_type": "stream",
     "text": [
      "[290] ----> 4920\n",
      "[290, 4920] ----> 2241\n",
      "[290, 4920, 2241] ----> 287\n",
      "[290, 4920, 2241, 287] ----> 257\n"
     ]
    }
   ],
   "source": [
    "# 遍历从1到context_size的范围\n",
    "for i in range(1, context_size+1):\n",
    "    # 获取从开始到第i个位置的上下文序列\n",
    "    context = enc_sample[:i]\n",
    "    # 获取第i个位置的目标token\n",
    "    desired = enc_sample[i]\n",
    "\n",
    "    # 打印上下文序列和目标token\n",
    "    print(context, \"---->\", desired)"
   ]
  },
  {
   "cell_type": "code",
   "execution_count": 34,
   "id": "f57bd746-dcbf-4433-8e24-ee213a8c34a1",
   "metadata": {},
   "outputs": [
    {
     "name": "stdout",
     "output_type": "stream",
     "text": [
      " and ---->  established\n",
      " and established ---->  himself\n",
      " and established himself ---->  in\n",
      " and established himself in ---->  a\n"
     ]
    }
   ],
   "source": [
    "# 遍历从1到context_size的范围\n",
    "for i in range(1, context_size+1):\n",
    "    # 获取从开始到第i个位置的上下文序列\n",
    "    context = enc_sample[:i]\n",
    "    # 获取第i个位置的目标token\n",
    "    desired = enc_sample[i]\n",
    "\n",
    "    # 将token ID解码回文本并打印上下文和目标\n",
    "    print(tokenizer.decode(context), \"---->\", tokenizer.decode([desired]))"
   ]
  },
  {
   "cell_type": "markdown",
   "id": "210d2dd9-fc20-4927-8d3d-1466cf41aae1",
   "metadata": {},
   "source": [
    " - We will take care of the next-word prediction in a later chapter after we covered the attention mechanism\n",
    " - 我们将在介绍注意力机制后的章节中处理下一个词的预测\n",
    " - For now, we implement a simple data loader that iterates over the input dataset and returns the inputs and targets shifted by one\n",
    " - 现在,我们实现一个简单的数据加载器,它遍历输入数据集并返回错位一位的输入和目标"
   ]
  },
  {
   "cell_type": "markdown",
   "id": "a1a1b47a-f646-49d1-bc70-fddf2c840796",
   "metadata": {},
   "source": [
    " - Install and import PyTorch (see Appendix A for installation tips)\n",
    " - 安装并导入PyTorch(安装提示请参考附录A)"
   ]
  },
  {
   "cell_type": "code",
   "execution_count": 35,
   "id": "e1770134-e7f3-4725-a679-e04c3be48cac",
   "metadata": {},
   "outputs": [
    {
     "name": "stdout",
     "output_type": "stream",
     "text": [
      "PyTorch version: 2.5.0+cpu\n"
     ]
    }
   ],
   "source": [
    "# 导入PyTorch库\n",
    "import torch\n",
    "# 打印PyTorch版本号\n",
    "print(\"PyTorch version:\", torch.__version__)"
   ]
  },
  {
   "cell_type": "markdown",
   "id": "0c9a3d50-885b-49bc-b791-9f5cc8bc7b7c",
   "metadata": {},
   "source": [
    " - We use a sliding window approach, changing the position by +1:\n",
    " - 我们使用滑动窗口方法,每次将位置向前移动1:\n",
    "\n",
    "<img src=\"https://sebastianraschka.com/images/LLMs-from-scratch-images/ch02_compressed/13.webp?123\" width=\"500px\">"
   ]
  },
  {
   "cell_type": "markdown",
   "id": "92ac652d-7b38-4843-9fbd-494cdc8ec12c",
   "metadata": {},
   "source": [
    " - Create dataset and dataloader that extract chunks from the input text dataset\n",
    " - 创建数据集和数据加载器,从输入文本数据集中提取文本块"
   ]
  },
  {
   "cell_type": "code",
   "execution_count": 36,
   "id": "74b41073-4c9f-46e2-a1bd-d38e4122b375",
   "metadata": {},
   "outputs": [],
   "source": [
    "# 从torch.utils.data导入Dataset和DataLoader类\n",
    "from torch.utils.data import Dataset, DataLoader\n",
    "\n",
    "\n",
    "# 定义GPTDatasetV1类,继承自Dataset\n",
    "class GPTDatasetV1(Dataset):\n",
    "    # 初始化函数,接收文本、分词器、最大长度和步长作为参数\n",
    "    def __init__(self, txt, tokenizer, max_length, stride):\n",
    "        # 初始化输入ID列表\n",
    "        self.input_ids = []\n",
    "        # 初始化目标ID列表 \n",
    "        self.target_ids = []\n",
    "\n",
    "        # 使用分词器对整个文本进行编码\n",
    "        token_ids = tokenizer.encode(txt, allowed_special={\"<|endoftext|>\"})\n",
    "\n",
    "        # 使用滑动窗口将文本分割成重叠的序列,每个序列长度为max_length\n",
    "        for i in range(0, len(token_ids) - max_length, stride):\n",
    "            # 获取输入序列片段\n",
    "            input_chunk = token_ids[i:i + max_length]\n",
    "            # 获取目标序列片段(比输入序列向后移动一位)\n",
    "            target_chunk = token_ids[i + 1: i + max_length + 1]\n",
    "            # 将输入序列转换为tensor(张量)并添加到input_ids列表\n",
    "            # tensor是PyTorch中的多维数组数据结构,类似numpy的ndarray,用于存储和计算深度学习中的数据\n",
    "            self.input_ids.append(torch.tensor(input_chunk))\n",
    "            # 将目标序列转换为tensor(张量)并添加到target_ids列表\n",
    "            self.target_ids.append(torch.tensor(target_chunk))\n",
    "\n",
    "    # 返回数据集长度\n",
    "    def __len__(self):\n",
    "        return len(self.input_ids)\n",
    "\n",
    "    # 根据索引返回一个数据样本\n",
    "    def __getitem__(self, idx):\n",
    "        return self.input_ids[idx], self.target_ids[idx]"
   ]
  },
  {
   "cell_type": "code",
   "execution_count": 37,
   "id": "5eb30ebe-97b3-43c5-9ff1-a97d621b3c4e",
   "metadata": {},
   "outputs": [],
   "source": [
    "def create_dataloader_v1(txt, batch_size=4, max_length=256, \n",
    "                         stride=128, shuffle=True, drop_last=True,\n",
    "                         num_workers=0):\n",
    "    \"\"\"\n",
    "    创建数据加载器的函数\n",
    "    \n",
    "    参数:\n",
    "        txt: 输入的原始文本\n",
    "        batch_size: 每个批次的样本数,默认为4\n",
    "        max_length: 每个序列的最大长度,默认为256\n",
    "        stride: 滑动窗口的步长,默认为128\n",
    "        shuffle: 是否打乱数据顺序,默认为True\n",
    "        drop_last: 是否丢弃最后不完整的批次,默认为True\n",
    "        num_workers: 用于数据加载的子进程数,默认为0\n",
    "        \n",
    "    返回:\n",
    "        dataloader: PyTorch的DataLoader对象\n",
    "    \"\"\"\n",
    "    \n",
    "    # 初始化GPT-2分词器\n",
    "    tokenizer = tiktoken.get_encoding(\"gpt2\")\n",
    "\n",
    "    # 创建数据集实例\n",
    "    # txt: 输入的原始文本\n",
    "    # tokenizer: 分词器对象\n",
    "    # max_length: 每个序列的最大长度\n",
    "    # stride: 滑动窗口的步长\n",
    "    dataset = GPTDatasetV1(txt, tokenizer, max_length, stride)\n",
    "\n",
    "    # 创建并返回数据加载器\n",
    "    # dataset: 上面创建的数据集实例\n",
    "    # batch_size: 每个批次的样本数\n",
    "    # shuffle: 是否打乱数据顺序\n",
    "    # drop_last: 是否丢弃最后不完整的批次\n",
    "    # num_workers: 用于数据加载的子进程数\n",
    "    dataloader = DataLoader(\n",
    "        dataset,\n",
    "        batch_size=batch_size,\n",
    "        shuffle=shuffle,\n",
    "        drop_last=drop_last,\n",
    "        num_workers=num_workers\n",
    "    )\n",
    "\n",
    "    return dataloader"
   ]
  },
  {
   "cell_type": "markdown",
   "id": "42dd68ef-59f7-45ff-ba44-e311c899ddcd",
   "metadata": {},
   "source": [
    " - Let's test the dataloader with a batch size of 1 for an LLM with a context size of 4:\n",
    " - 让我们用batch size=1测试数据加载器,用于上下文长度为4的LLM:"
   ]
  },
  {
   "cell_type": "code",
   "execution_count": 38,
   "id": "df31d96c-6bfd-4564-a956-6192242d7579",
   "metadata": {},
   "outputs": [],
   "source": [
    "with open(\"the-verdict.txt\", \"r\", encoding=\"utf-8\") as f:\n",
    "    raw_text = f.read()"
   ]
  },
  {
   "cell_type": "code",
   "execution_count": 39,
   "id": "9226d00c-ad9a-4949-a6e4-9afccfc7214f",
   "metadata": {},
   "outputs": [
    {
     "name": "stdout",
     "output_type": "stream",
     "text": [
      "[tensor([[  40,  367, 2885, 1464]]), tensor([[ 367, 2885, 1464, 1807]])]\n"
     ]
    }
   ],
   "source": [
    "dataloader = create_dataloader_v1(\n",
    "    raw_text, batch_size=1, max_length=4, stride=1, shuffle=False\n",
    ")\n",
    "\n",
    "data_iter = iter(dataloader)\n",
    "first_batch = next(data_iter)\n",
    "print(first_batch)"
   ]
  },
  {
   "cell_type": "code",
   "execution_count": 40,
   "id": "10deb4bc-4de1-4d20-921e-4b1c7a0e1a6d",
   "metadata": {},
   "outputs": [
    {
     "name": "stdout",
     "output_type": "stream",
     "text": [
      "[tensor([[ 367, 2885, 1464, 1807]]), tensor([[2885, 1464, 1807, 3619]])]\n"
     ]
    }
   ],
   "source": [
    "second_batch = next(data_iter)\n",
    "print(second_batch)"
   ]
  },
  {
   "cell_type": "markdown",
   "id": "b006212f-de45-468d-bdee-5806216d1679",
   "metadata": {},
   "source": [
    " - An example using stride equal to the context length (here: 4) as shown below:\n",
    " - 一个使用步长等于上下文长度(这里是4)的例子,如下所示:"
   ]
  },
  {
   "cell_type": "markdown",
   "id": "9cb467e0-bdcd-4dda-b9b0-a738c5d33ac3",
   "metadata": {},
   "source": [
    "<img src=\"https://sebastianraschka.com/images/LLMs-from-scratch-images/ch02_compressed/14.webp\" width=\"500px\">"
   ]
  },
  {
   "cell_type": "markdown",
   "id": "b1ae6d45-f26e-4b83-9c7b-cff55ffa7d16",
   "metadata": {},
   "source": [
    " - We can also create batched outputs\n",
    " - Note that we increase the stride here so that we don't have overlaps between the batches, since more overlap could lead to increased overfitting\n",
    " - 我们也可以创建批量输出\n",
    " - 注意这里我们增加了步长以避免批次之间的重叠,因为更多的重叠可能导致过拟合"
   ]
  },
  {
   "cell_type": "code",
   "execution_count": 41,
   "id": "1916e7a6-f03d-4f09-91a6-d0bdbac5a58c",
   "metadata": {},
   "outputs": [
    {
     "name": "stdout",
     "output_type": "stream",
     "text": [
      "Inputs:\n",
      " tensor([[   40,   367,  2885,  1464],\n",
      "        [ 1807,  3619,   402,   271],\n",
      "        [10899,  2138,   257,  7026],\n",
      "        [15632,   438,  2016,   257],\n",
      "        [  922,  5891,  1576,   438],\n",
      "        [  568,   340,   373,   645],\n",
      "        [ 1049,  5975,   284,   502],\n",
      "        [  284,  3285,   326,    11]])\n",
      "\n",
      "Targets:\n",
      " tensor([[  367,  2885,  1464,  1807],\n",
      "        [ 3619,   402,   271, 10899],\n",
      "        [ 2138,   257,  7026, 15632],\n",
      "        [  438,  2016,   257,   922],\n",
      "        [ 5891,  1576,   438,   568],\n",
      "        [  340,   373,   645,  1049],\n",
      "        [ 5975,   284,   502,   284],\n",
      "        [ 3285,   326,    11,   287]])\n"
     ]
    }
   ],
   "source": [
    "dataloader = create_dataloader_v1(raw_text, batch_size=8, max_length=4, stride=4, shuffle=False)\n",
    "\n",
    "data_iter = iter(dataloader)\n",
    "inputs, targets = next(data_iter)\n",
    "print(\"Inputs:\\n\", inputs)\n",
    "print(\"\\nTargets:\\n\", targets)"
   ]
  },
  {
   "cell_type": "markdown",
   "id": "2cd2fcda-2fda-4aa8-8bc8-de1e496f9db1",
   "metadata": {},
   "source": [
    " ## 2.7 Creating token embeddings\n",
    " ## 2.7 创建词元嵌入"
   ]
  },
  {
   "cell_type": "markdown",
   "id": "1a301068-6ab2-44ff-a915-1ba11688274f",
   "metadata": {},
   "source": [
    " - The data is already almost ready for an LLM\n",
    " - 数据已经几乎准备好用于LLM了\n",
    " - But lastly let us embed the tokens in a continuous vector representation using an embedding layer  \n",
    " - 但最后让我们使用嵌入层将词元嵌入到连续的向量表示中\n",
    " - Usually, these embedding layers are part of the LLM itself and are updated (trained) during model training\n",
    " - 通常,这些嵌入层是LLM本身的一部分,并在模型训练期间进行更新(训练)"
   ]
  },
  {
   "cell_type": "markdown",
   "id": "e85089aa-8671-4e5f-a2b3-ef252004ee4c",
   "metadata": {},
   "source": [
    "<img src=\"https://sebastianraschka.com/images/LLMs-from-scratch-images/ch02_compressed/15.webp\" width=\"400px\">"
   ]
  },
  {
   "cell_type": "markdown",
   "id": "44e014ca-1fc5-4b90-b6fa-c2097bb92c0b",
   "metadata": {},
   "source": [
    " - Suppose we have the following four input examples with input ids 2, 3, 5, and 1 (after tokenization):\n",
    " - 假设我们有以下四个输入示例,它们的输入ID分别是2、3、5和1(经过分词后):"
   ]
  },
  {
   "cell_type": "code",
   "execution_count": 42,
   "id": "15a6304c-9474-4470-b85d-3991a49fa653",
   "metadata": {},
   "outputs": [],
   "source": [
    "# 创建一个包含4个输入ID的张量\n",
    "# 这些ID代表了经过分词后的4个不同的词元\n",
    "input_ids = torch.tensor([2, 3, 5, 1])"
   ]
  },
  {
   "cell_type": "markdown",
   "id": "14da6344-2c71-4837-858d-dd120005ba05",
   "metadata": {},
   "source": [
    " - For the sake of simplicity, suppose we have a small vocabulary of only 6 words and we want to create embeddings of size 3:\n",
    " - 为了简单起见,假设我们有一个只包含6个词的小词汇表,并且我们想创建大小为3的嵌入:"
   ]
  },
  {
   "cell_type": "code",
   "execution_count": 43,
   "id": "93cb2cee-9aa6-4bb8-8977-c65661d16eda",
   "metadata": {},
   "outputs": [],
   "source": [
    "# 词汇表大小为6个词\n",
    "vocab_size = 6\n",
    "# 嵌入向量维度为3\n",
    "output_dim = 3\n",
    "\n",
    "# 设置随机种子以确保结果可复现\n",
    "torch.manual_seed(123)\n",
    "# 创建一个嵌入层,将词汇表中的词映射到3维向量空间\n",
    "embedding_layer = torch.nn.Embedding(vocab_size, output_dim)"
   ]
  },
  {
   "cell_type": "markdown",
   "id": "4ff241f6-78eb-4e4a-a55f-5b2b6196d5b0",
   "metadata": {},
   "source": [
    "- This would result in a 6x3 weight matrix:"
   ]
  },
  {
   "cell_type": "code",
   "execution_count": 44,
   "id": "a686eb61-e737-4351-8f1c-222913d47468",
   "metadata": {},
   "outputs": [
    {
     "name": "stdout",
     "output_type": "stream",
     "text": [
      "Parameter containing:\n",
      "tensor([[ 0.3374, -0.1778, -0.1690],\n",
      "        [ 0.9178,  1.5810,  1.3010],\n",
      "        [ 1.2753, -0.2010, -0.1606],\n",
      "        [-0.4015,  0.9666, -1.1481],\n",
      "        [-1.1589,  0.3255, -0.6315],\n",
      "        [-2.8400, -0.7849, -1.4096]], requires_grad=True)\n"
     ]
    }
   ],
   "source": [
    "# 打印嵌入层的权重矩阵\n",
    "# 这是一个6x3的矩阵,每一行代表词汇表中一个词的3维嵌入向量\n",
    "print(embedding_layer.weight)"
   ]
  },
  {
   "cell_type": "markdown",
   "id": "26fcf4f5-0801-4eb4-bb90-acce87935ac7",
   "metadata": {},
   "source": [
    "- For those who are familiar with one-hot encoding, the embedding layer approach above is essentially just a more efficient way of implementing one-hot encoding followed by matrix multiplication in a fully-connected layer, which is described in the supplementary code in [./embedding_vs_matmul](../03_bonus_embedding-vs-matmul)\n",
    " - 对于熟悉独热编码的人来说,上述嵌入层方法本质上只是实现独热编码后接全连接层矩阵乘法的一种更高效方式,这在补充代码[./embedding_vs_matmul](../03_bonus_embedding-vs-matmul)中有详细描述\n",
    " - Because the embedding layer is just a more efficient implementation that is equivalent to the one-hot encoding and matrix-multiplication approach it can be seen as a neural network layer that can be optimized via backpropagation\n",
    " - 由于嵌入层只是独热编码和矩阵乘法方法的一种更高效实现,它可以被视为一个可以通过反向传播优化的神经网络层"
   ]
  },
  {
   "cell_type": "markdown",
   "id": "4b0d58c3-83c0-4205-aca2-9c48b19fd4a7",
   "metadata": {},
   "source": [
    " - To convert a token with id 3 into a 3-dimensional vector, we do the following:\n",
    " - 要将ID为3的词元转换为3维向量,我们执行以下操作:"
   ]
  },
  {
   "cell_type": "code",
   "execution_count": 45,
   "id": "e43600ba-f287-4746-8ddf-d0f71a9023ca",
   "metadata": {},
   "outputs": [
    {
     "name": "stdout",
     "output_type": "stream",
     "text": [
      "tensor([[-0.4015,  0.9666, -1.1481]], grad_fn=<EmbeddingBackward0>)\n"
     ]
    }
   ],
   "source": [
    "print(embedding_layer(torch.tensor([3])))"
   ]
  },
  {
   "cell_type": "markdown",
   "id": "a7bbf625-4f36-491d-87b4-3969efb784b0",
   "metadata": {},
   "source": [
    " - Note that the above is the 4th row in the `embedding_layer` weight matrix\n",
    " - 注意上面的结果是`embedding_layer`权重矩阵的第4行\n",
    " - To embed all four `input_ids` values above, we do\n",
    " - 要嵌入上面的所有四个`input_ids`值,我们执行以下操作"
   ]
  },
  {
   "cell_type": "code",
   "execution_count": 46,
   "id": "50280ead-0363-44c8-8c35-bb885d92c8b7",
   "metadata": {},
   "outputs": [
    {
     "name": "stdout",
     "output_type": "stream",
     "text": [
      "tensor([[ 1.2753, -0.2010, -0.1606],\n",
      "        [-0.4015,  0.9666, -1.1481],\n",
      "        [-2.8400, -0.7849, -1.4096],\n",
      "        [ 0.9178,  1.5810,  1.3010]], grad_fn=<EmbeddingBackward0>)\n"
     ]
    }
   ],
   "source": [
    "print(embedding_layer(input_ids))"
   ]
  },
  {
   "cell_type": "markdown",
   "id": "be97ced4-bd13-42b7-866a-4d699a17e155",
   "metadata": {},
   "source": [
    " - An embedding layer is essentially a look-up operation:\n",
    " - 嵌入层本质上是一个查找操作:"
   ]
  },
  {
   "cell_type": "markdown",
   "id": "f33c2741-bf1b-4c60-b7fd-61409d556646",
   "metadata": {},
   "source": [
    "<img src=\"https://sebastianraschka.com/images/LLMs-from-scratch-images/ch02_compressed/16.webp?123\" width=\"500px\">"
   ]
  },
  {
   "cell_type": "markdown",
   "id": "08218d9f-aa1a-4afb-a105-72ff96a54e73",
   "metadata": {},
   "source": [
    " - **You may be interested in the bonus content comparing embedding layers with regular linear layers: [../03_bonus_embedding-vs-matmul](../03_bonus_embedding-vs-matmul)**\n",
    " - **你可能对比较嵌入层和常规线性层的补充内容感兴趣:[../03_bonus_embedding-vs-matmul](../03_bonus_embedding-vs-matmul)**"
   ]
  },
  {
   "cell_type": "markdown",
   "id": "c393d270-b950-4bc8-99ea-97d74f2ea0f6",
   "metadata": {},
   "source": [
    " ## 2.8 Encoding word positions\n",
    " ## 2.8 编码词位置"
   ]
  },
  {
   "cell_type": "markdown",
   "id": "24940068-1099-4698-bdc0-e798515e2902",
   "metadata": {},
   "source": [
    " - Embedding layer convert IDs into identical vector representations regardless of where they are located in the input sequence:\n",
    " - 嵌入层将ID转换为相同的向量表示,无论它们在输入序列中的位置如何:"
   ]
  },
  {
   "cell_type": "markdown",
   "id": "9e0b14a2-f3f3-490e-b513-f262dbcf94fa",
   "metadata": {},
   "source": [
    "<img src=\"https://sebastianraschka.com/images/LLMs-from-scratch-images/ch02_compressed/17.webp\" width=\"400px\">"
   ]
  },
  {
   "cell_type": "markdown",
   "id": "92a7d7fe-38a5-46e6-8db6-b688887b0430",
   "metadata": {},
   "source": [
    " - Positional embeddings are combined with the token embedding vector to form the input embeddings for a large language model:\n",
    " - 位置嵌入与词元嵌入向量相结合,形成大型语言模型的输入嵌入:"
   ]
  },
  {
   "cell_type": "markdown",
   "id": "48de37db-d54d-45c4-ab3e-88c0783ad2e4",
   "metadata": {},
   "source": [
    "<img src=\"https://sebastianraschka.com/images/LLMs-from-scratch-images/ch02_compressed/18.webp\" width=\"500px\">"
   ]
  },
  {
   "cell_type": "markdown",
   "id": "7f187f87-c1f8-4c2e-8050-350bbb972f55",
   "metadata": {},
   "source": [
    " - The BytePair encoder has a vocabulary size of 50,257:\n",
    " - BytePair编码器的词汇表大小为50257:\n",
    " - Suppose we want to encode the input tokens into a 256-dimensional vector representation:\n",
    " - 假设我们要将输入词元编码为256维的向量表示:"
   ]
  },
  {
   "cell_type": "code",
   "execution_count": 47,
   "id": "0b9e344d-03a6-4f2c-b723-67b6a20c5041",
   "metadata": {},
   "outputs": [],
   "source": [
    "vocab_size = 50257\n",
    "output_dim = 256\n",
    "\n",
    "token_embedding_layer = torch.nn.Embedding(vocab_size, output_dim)"
   ]
  },
  {
   "cell_type": "markdown",
   "id": "a2654722-24e4-4b0d-a43c-436a461eb70b",
   "metadata": {},
   "source": [
    " - If we sample data from the dataloader, we embed the tokens in each batch into a 256-dimensional vector\n",
    " - If we have a batch size of 8 with 4 tokens each, this results in a 8 x 4 x 256 tensor:\n",
    " - 如果我们从数据加载器中采样数据,我们将每个批次中的词元嵌入到256维向量中\n",
    " - 如果我们有一个批次大小为8,每个序列包含4个词元,这将得到一个8 x 4 x 256的张量:"
   ]
  },
  {
   "cell_type": "code",
   "execution_count": 48,
   "id": "ad56a263-3d2e-4d91-98bf-d0b68d3c7fc3",
   "metadata": {},
   "outputs": [],
   "source": [
    "max_length = 4\n",
    "dataloader = create_dataloader_v1(\n",
    "    raw_text, batch_size=8, max_length=max_length,\n",
    "    stride=max_length, shuffle=False\n",
    ")\n",
    "data_iter = iter(dataloader)\n",
    "inputs, targets = next(data_iter)"
   ]
  },
  {
   "cell_type": "code",
   "execution_count": 49,
   "id": "84416b60-3707-4370-bcbc-da0b62f2b64d",
   "metadata": {},
   "outputs": [
    {
     "name": "stdout",
     "output_type": "stream",
     "text": [
      "Token IDs:\n",
      " tensor([[   40,   367,  2885,  1464],\n",
      "        [ 1807,  3619,   402,   271],\n",
      "        [10899,  2138,   257,  7026],\n",
      "        [15632,   438,  2016,   257],\n",
      "        [  922,  5891,  1576,   438],\n",
      "        [  568,   340,   373,   645],\n",
      "        [ 1049,  5975,   284,   502],\n",
      "        [  284,  3285,   326,    11]])\n",
      "\n",
      "Inputs shape:\n",
      " torch.Size([8, 4])\n"
     ]
    }
   ],
   "source": [
    "print(\"Token IDs:\\n\", inputs)\n",
    "print(\"\\nInputs shape:\\n\", inputs.shape)"
   ]
  },
  {
   "cell_type": "code",
   "execution_count": 50,
   "id": "7766ec38-30d0-4128-8c31-f49f063c43d1",
   "metadata": {},
   "outputs": [
    {
     "name": "stdout",
     "output_type": "stream",
     "text": [
      "torch.Size([8, 4, 256])\n"
     ]
    }
   ],
   "source": [
    "token_embeddings = token_embedding_layer(inputs)\n",
    "print(token_embeddings.shape)"
   ]
  },
  {
   "cell_type": "markdown",
   "id": "fe2ae164-6f19-4e32-b9e5-76950fcf1c9f",
   "metadata": {},
   "source": [
    " - GPT-2 uses absolute position embeddings, so we just create another embedding layer:\n",
    " - GPT-2使用绝对位置嵌入,所以我们只需创建另一个嵌入层:"
   ]
  },
  {
   "cell_type": "code",
   "execution_count": 51,
   "id": "cc048e20-7ac8-417e-81f5-8fe6f9a4fe07",
   "metadata": {},
   "outputs": [],
   "source": [
    "context_length = max_length\n",
    "pos_embedding_layer = torch.nn.Embedding(context_length, output_dim)"
   ]
  },
  {
   "cell_type": "code",
   "execution_count": 52,
   "id": "c369a1e7-d566-4b53-b398-d6adafb44105",
   "metadata": {},
   "outputs": [
    {
     "name": "stdout",
     "output_type": "stream",
     "text": [
      "torch.Size([4, 256])\n"
     ]
    }
   ],
   "source": [
    "pos_embeddings = pos_embedding_layer(torch.arange(max_length))\n",
    "print(pos_embeddings.shape)"
   ]
  },
  {
   "cell_type": "markdown",
   "id": "870e9d9f-2935-461a-9518-6d1386b976d6",
   "metadata": {},
   "source": [
    " - To create the input embeddings used in an LLM, we simply add the token and the positional embeddings:\n",
    " - 要创建在LLM中使用的输入嵌入,我们只需将词元嵌入和位置嵌入相加:"
   ]
  },
  {
   "cell_type": "code",
   "execution_count": 53,
   "id": "b22fab89-526e-43c8-9035-5b7018e34288",
   "metadata": {},
   "outputs": [
    {
     "name": "stdout",
     "output_type": "stream",
     "text": [
      "torch.Size([8, 4, 256])\n"
     ]
    }
   ],
   "source": [
    "input_embeddings = token_embeddings + pos_embeddings\n",
    "print(input_embeddings.shape)"
   ]
  },
  {
   "cell_type": "markdown",
   "id": "1fbda581-6f9b-476f-8ea7-d244e6a4eaec",
   "metadata": {},
   "source": [
    " - In the initial phase of the input processing workflow, the input text is segmented into separate tokens\n",
    " - Following this segmentation, these tokens are transformed into token IDs based on a predefined vocabulary:\n",
    " - 在输入处理工作流的初始阶段,输入文本被分割成单独的词元\n",
    " - 在分割之后,这些词元根据预定义的词汇表被转换成词元ID:"
   ]
  },
  {
   "cell_type": "markdown",
   "id": "d1bb0f7e-460d-44db-b366-096adcd84fff",
   "metadata": {},
   "source": [
    "<img src=\"https://sebastianraschka.com/images/LLMs-from-scratch-images/ch02_compressed/19.webp\" width=\"400px\">"
   ]
  },
  {
   "cell_type": "markdown",
   "id": "63230f2e-258f-4497-9e2e-8deee4530364",
   "metadata": {},
   "source": [
    " # Summary and takeaways\n",
    " # 总结和要点"
   ]
  },
  {
   "cell_type": "markdown",
   "id": "8b3293a6-45a5-47cd-aa00-b23e3ca0a73f",
   "metadata": {},
   "source": [
    " See the [./dataloader.ipynb](./dataloader.ipynb) code notebook, which is a concise version of the data loader that we implemented in this chapter and will need for training the GPT model in upcoming chapters.\n",
    " \n",
    " 请查看[./dataloader.ipynb](./dataloader.ipynb)代码笔记本,这是我们在本章实现的数据加载器的简洁版本,在接下来的章节中训练GPT模型时会用到它。\n",
    " \n",
    " See [./exercise-solutions.ipynb](./exercise-solutions.ipynb) for the exercise solutions.\n",
    " \n",
    " 练习题解答请查看[./exercise-solutions.ipynb](./exercise-solutions.ipynb)。"
   ]
  }
 ],
 "metadata": {
  "kernelspec": {
   "display_name": "Python 3 (ipykernel)",
   "language": "python",
   "name": "python3"
  },
  "language_info": {
   "codemirror_mode": {
    "name": "ipython",
    "version": 3
   },
   "file_extension": ".py",
   "mimetype": "text/x-python",
   "name": "python",
   "nbconvert_exporter": "python",
   "pygments_lexer": "ipython3",
   "version": "3.10.15"
  }
 },
 "nbformat": 4,
 "nbformat_minor": 5
}
