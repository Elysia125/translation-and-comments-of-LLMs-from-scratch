{
 "cells": [
  {
   "cell_type": "markdown",
   "id": "ba450fb1-8a26-4894-ab7a-5d7bfefe90ce",
   "metadata": {},
   "source": [
    "<table style=\"width:100%\">\n",
    "<tr>\n",
    "<td style=\"vertical-align:middle; text-align:left;\">\n",
    "<font size=\"2\">\n",
    "Supplementary code for the <a href=\"http://mng.bz/orYv\">Build a Large Language Model From Scratch</a> book by <a href=\"https://sebastianraschka.com\">Sebastian Raschka</a><br>\n",
    "<br>Code repository: <a href=\"https://github.com/rasbt/LLMs-from-scratch\">https://github.com/rasbt/LLMs-from-scratch</a>\n",
    "</font>\n",
    "</td>\n",
    "<td style=\"vertical-align:middle; text-align:left;\">\n",
    "<a href=\"http://mng.bz/orYv\"><img src=\"https://sebastianraschka.com/images/LLMs-from-scratch-images/cover-small.webp\" width=\"100px\"></a>\n",
    "</td>\n",
    "</tr>\n",
    "</table>"
   ]
  },
  {
   "cell_type": "markdown",
   "id": "51c9672d-8d0c-470d-ac2d-1271f8ec3f14",
   "metadata": {},
   "source": [
    "# Chapter 4 Exercise solutions"
   ]
  },
  {
   "cell_type": "code",
   "execution_count": 1,
   "id": "5b2fac7a-fdcd-437c-b1c4-0b35a31cd489",
   "metadata": {},
   "outputs": [
    {
     "name": "stdout",
     "output_type": "stream",
     "text": [
      "torch version: 2.4.0\n"
     ]
    }
   ],
   "source": [
    "from importlib.metadata import version\n",
    "\n",
    "import torch\n",
    "print(\"torch version:\", version(\"torch\"))"
   ]
  },
  {
   "cell_type": "markdown",
   "id": "5fea8be3-30a1-4623-a6d7-b095c6c1092e",
   "metadata": {},
   "source": [
    "# Exercise 4.1: Parameters in the feed forward versus attention module\n",
    "# 练习 4.1：前馈层与注意力模块中的参数"
   ]
  },
  {
   "cell_type": "code",
   "execution_count": 2,
   "id": "2751b0e5-ffd3-4be2-8db3-e20dd4d61d69",
   "metadata": {},
   "outputs": [],
   "source": [
    "# 从gpt模块导入TransformerBlock类\n",
    "from gpt import TransformerBlock\n",
    "\n",
    "# GPT-2小型模型(124M参数)的配置\n",
    "GPT_CONFIG_124M = {\n",
    "    \"vocab_size\": 50257,      # 词表大小\n",
    "    \"context_length\": 1024,   # 上下文长度/序列长度\n",
    "    \"emb_dim\": 768,          # 嵌入维度\n",
    "    \"n_heads\": 12,           # 注意力头数\n",
    "    \"n_layers\": 12,          # Transformer层数\n",
    "    \"drop_rate\": 0.1,        # Dropout比率\n",
    "    \"qkv_bias\": False        # 是否在QKV投影中使用偏置\n",
    "}\n",
    "\n",
    "# 使用上述配置初始化一个Transformer块\n",
    "block = TransformerBlock(GPT_CONFIG_124M)"
   ]
  },
  {
   "cell_type": "code",
   "execution_count": 3,
   "id": "1bcaffd1-0cf6-4f8f-bd53-ab88a37f443e",
   "metadata": {},
   "outputs": [
    {
     "name": "stdout",
     "output_type": "stream",
     "text": [
      "Total number of parameters in feed forward module: 4,722,432\n"
     ]
    }
   ],
   "source": [
    "# 计算前馈层中的总参数量\n",
    "total_params = sum(p.numel() for p in block.ff.parameters())\n",
    "# 打印前馈层中的参数总数\n",
    "print(f\"Total number of parameters in feed forward module: {total_params:,}\")"
   ]
  },
  {
   "cell_type": "code",
   "execution_count": 4,
   "id": "c1dd06c1-ab6c-4df7-ba73-f9cd54b31138",
   "metadata": {},
   "outputs": [
    {
     "name": "stdout",
     "output_type": "stream",
     "text": [
      "Total number of parameters in attention module: 2,360,064\n"
     ]
    }
   ],
   "source": [
    "# 计算注意力模块中的总参数量\n",
    "total_params = sum(p.numel() for p in block.att.parameters())\n",
    "# 打印注意力模块中的参数总数\n",
    "print(f\"Total number of parameters in attention module: {total_params:,}\")"
   ]
  },
  {
   "cell_type": "markdown",
   "id": "15463dec-520a-47b4-b3ad-e180394fd076",
   "metadata": {},
   "source": [
    "- The results above are for a single transformer block\n",
    "- 上述结果是针对单个transformer块的\n",
    "- Optionally multiply by 12 to capture all transformer blocks in the 124M GPT model\n",
    "- 可以乘以12来获得124M GPT模型中所有transformer块的参数量"
   ]
  },
  {
   "cell_type": "markdown",
   "id": "0f7b7c7f-0fa1-4d30-ab44-e499edd55b6d",
   "metadata": {},
   "source": [
    "# Exercise 4.2: Initialize larger GPT models\n",
    "# 练习 4.2：初始化更大的GPT模型"
   ]
  },
  {
   "cell_type": "markdown",
   "id": "310b2e05-3ec8-47fc-afd9-83bf03d4aad8",
   "metadata": {},
   "source": [
    "- **GPT2-small** (the 124M configuration we already implemented):\n",
    "    - \"emb_dim\" = 768\n",
    "    - \"n_layers\" = 12\n",
    "    - \"n_heads\" = 12\n",
    "\n",
    "- **GPT2-medium:**\n",
    "    - \"emb_dim\" = 1024\n",
    "    - \"n_layers\" = 24\n",
    "    - \"n_heads\" = 16\n",
    "\n",
    "- **GPT2-large:**\n",
    "    - \"emb_dim\" = 1280\n",
    "    - \"n_layers\" = 36\n",
    "    - \"n_heads\" = 20\n",
    "\n",
    "- **GPT2-XL:**\n",
    "    - \"emb_dim\" = 1600\n",
    "    - \"n_layers\" = 48\n",
    "    - \"n_heads\" = 25"
   ]
  },
  {
   "cell_type": "code",
   "execution_count": 5,
   "id": "90185dea-81ca-4cdc-aef7-4aaf95cba946",
   "metadata": {},
   "outputs": [],
   "source": [
    "# 定义GPT-2小型模型的基础配置\n",
    "GPT_CONFIG_124M = {\n",
    "    \"vocab_size\": 50257,      # 词汇表大小\n",
    "    \"context_length\": 1024,   # 上下文长度(序列长度)\n",
    "    \"emb_dim\": 768,          # 嵌入维度\n",
    "    \"n_heads\": 12,           # 注意力头数\n",
    "    \"n_layers\": 12,          # transformer层数\n",
    "    \"drop_rate\": 0.1,        # dropout比率\n",
    "    \"qkv_bias\": False        # 是否在QKV变换中使用偏置项\n",
    "}\n",
    "\n",
    "\n",
    "def get_config(base_config, model_name=\"gpt2-small\"):\n",
    "    \"\"\"\n",
    "    根据模型名称获取对应的配置\n",
    "    Args:\n",
    "        base_config: 基础配置字典\n",
    "        model_name: 模型名称,默认为\"gpt2-small\"\n",
    "    Returns:\n",
    "        更新后的配置字典\n",
    "    \"\"\"\n",
    "    GPT_CONFIG = base_config.copy()  # 复制基础配置\n",
    "\n",
    "    if model_name == \"gpt2-small\":   # GPT2小型模型配置\n",
    "        GPT_CONFIG[\"emb_dim\"] = 768\n",
    "        GPT_CONFIG[\"n_layers\"] = 12\n",
    "        GPT_CONFIG[\"n_heads\"] = 12\n",
    "\n",
    "    elif model_name == \"gpt2-medium\": # GPT2中型模型配置\n",
    "        GPT_CONFIG[\"emb_dim\"] = 1024\n",
    "        GPT_CONFIG[\"n_layers\"] = 24\n",
    "        GPT_CONFIG[\"n_heads\"] = 16\n",
    "\n",
    "    elif model_name == \"gpt2-large\":  # GPT2大型模型配置\n",
    "        GPT_CONFIG[\"emb_dim\"] = 1280\n",
    "        GPT_CONFIG[\"n_layers\"] = 36\n",
    "        GPT_CONFIG[\"n_heads\"] = 20\n",
    "\n",
    "    elif model_name == \"gpt2-xl\":     # GPT2超大型模型配置\n",
    "        GPT_CONFIG[\"emb_dim\"] = 1600\n",
    "        GPT_CONFIG[\"n_layers\"] = 48\n",
    "        GPT_CONFIG[\"n_heads\"] = 25\n",
    "\n",
    "    else:\n",
    "        raise ValueError(f\"Incorrect model name {model_name}\")\n",
    "\n",
    "    return GPT_CONFIG\n",
    "\n",
    "\n",
    "def calculate_size(model): # 基于章节代码\n",
    "    \"\"\"\n",
    "    计算模型的参数量和大小\n",
    "    Args:\n",
    "        model: GPT模型实例\n",
    "    \"\"\"\n",
    "    # 计算模型总参数量\n",
    "    total_params = sum(p.numel() for p in model.parameters())\n",
    "    print(f\"Total number of parameters: {total_params:,}\")\n",
    "\n",
    "    # 考虑权重共享后的实际训练参数量\n",
    "    total_params_gpt2 =  total_params - sum(p.numel() for p in model.out_head.parameters())\n",
    "    print(f\"Number of trainable parameters considering weight tying: {total_params_gpt2:,}\")\n",
    "    \n",
    "    # 计算模型总大小(假设使用float32,每个参数4字节)\n",
    "    total_size_bytes = total_params * 4\n",
    "    \n",
    "    # 转换为MB\n",
    "    total_size_mb = total_size_bytes / (1024 * 1024)\n",
    "    \n",
    "    print(f\"Total size of the model: {total_size_mb:.2f} MB\")"
   ]
  },
  {
   "cell_type": "code",
   "execution_count": 6,
   "id": "2587e011-78a4-479c-a8fd-961cc40a5fd4",
   "metadata": {},
   "outputs": [
    {
     "name": "stdout",
     "output_type": "stream",
     "text": [
      "\n",
      "\n",
      "gpt2-small:\n",
      "Total number of parameters: 163,009,536\n",
      "Number of trainable parameters considering weight tying: 124,412,160\n",
      "Total size of the model: 621.83 MB\n",
      "\n",
      "\n",
      "gpt2-medium:\n",
      "Total number of parameters: 406,212,608\n",
      "Number of trainable parameters considering weight tying: 354,749,440\n",
      "Total size of the model: 1549.58 MB\n",
      "\n",
      "\n",
      "gpt2-large:\n",
      "Total number of parameters: 838,220,800\n",
      "Number of trainable parameters considering weight tying: 773,891,840\n",
      "Total size of the model: 3197.56 MB\n",
      "\n",
      "\n",
      "gpt2-xl:\n",
      "Total number of parameters: 1,637,792,000\n",
      "Number of trainable parameters considering weight tying: 1,557,380,800\n",
      "Total size of the model: 6247.68 MB\n"
     ]
    }
   ],
   "source": [
    "# 导入GPT模型类\n",
    "from gpt import GPTModel\n",
    "\n",
    "\n",
    "# 遍历不同规模的GPT2模型\n",
    "for model_abbrev in (\"small\", \"medium\", \"large\", \"xl\"):\n",
    "    # 构建完整的模型名称\n",
    "    model_name = f\"gpt2-{model_abbrev}\"\n",
    "    # 获取对应规模模型的配置\n",
    "    CONFIG = get_config(GPT_CONFIG_124M, model_name=model_name)\n",
    "    # 实例化GPT模型\n",
    "    model = GPTModel(CONFIG)\n",
    "    # 打印模型名称\n",
    "    print(f\"\\n\\n{model_name}:\")\n",
    "    # 计算并打印模型大小\n",
    "    calculate_size(model)"
   ]
  },
  {
   "cell_type": "markdown",
   "id": "f5f2306e-5dc8-498e-92ee-70ae7ec37ac1",
   "metadata": {},
   "source": [
    "# Exercise 4.3: Using separate dropout parameters\n",
    "# 练习 4.3: 使用独立的 dropout 参数"
   ]
  },
  {
   "cell_type": "code",
   "execution_count": 7,
   "id": "5fee2cf5-61c3-4167-81b5-44ea155bbaf2",
   "metadata": {},
   "outputs": [],
   "source": [
    "GPT_CONFIG_124M = {\n",
    "    \"vocab_size\": 50257,         # 词表大小\n",
    "    \"context_length\": 1024,      # 上下文长度(序列最大长度)\n",
    "    \"emb_dim\": 768,             # 词嵌入和位置嵌入的维度\n",
    "    \"n_heads\": 12,              # 注意力头数\n",
    "    \"n_layers\": 12,             # Transformer层数\n",
    "    \"drop_rate_emb\": 0.1,       # 词嵌入层的dropout比率\n",
    "    \"drop_rate_attn\": 0.1,      # 多头注意力层的dropout比率\n",
    "    \"drop_rate_shortcut\": 0.1,  # 残差连接的dropout比率\n",
    "    \"qkv_bias\": False           # 是否使用QKV的偏置项\n",
    "}"
   ]
  },
  {
   "cell_type": "code",
   "execution_count": 8,
   "id": "5aa1b0c1-d78a-48fc-ad08-4802458b43f7",
   "metadata": {},
   "outputs": [],
   "source": [
    "# 导入必要的PyTorch模块和自定义组件\n",
    "import torch.nn as nn\n",
    "from gpt import MultiHeadAttention, LayerNorm, FeedForward\n",
    "\n",
    "\n",
    "class TransformerBlock(nn.Module):\n",
    "    def __init__(self, cfg):\n",
    "        # 初始化Transformer块\n",
    "        super().__init__()\n",
    "        # 创建多头注意力层\n",
    "        self.att = MultiHeadAttention(\n",
    "            d_in=cfg[\"emb_dim\"],\n",
    "            d_out=cfg[\"emb_dim\"],\n",
    "            context_length=cfg[\"context_length\"],\n",
    "            num_heads=cfg[\"n_heads\"], \n",
    "            dropout=cfg[\"drop_rate_attn\"], # 为多头注意力设置dropout\n",
    "            qkv_bias=cfg[\"qkv_bias\"])\n",
    "        # 创建前馈网络层\n",
    "        self.ff = FeedForward(cfg)\n",
    "        # 创建两个层归一化层\n",
    "        self.norm1 = LayerNorm(cfg[\"emb_dim\"])\n",
    "        self.norm2 = LayerNorm(cfg[\"emb_dim\"])\n",
    "        # 创建残差连接的dropout层\n",
    "        self.drop_shortcut = nn.Dropout(cfg[\"drop_rate_shortcut\"])\n",
    "\n",
    "    def forward(self, x):\n",
    "        # 注意力块的残差连接\n",
    "        shortcut = x\n",
    "        # 第一个层归一化\n",
    "        x = self.norm1(x)\n",
    "        # 应用多头注意力\n",
    "        x = self.att(x)  # 形状 [batch_size, num_tokens, emb_size]\n",
    "        # 应用dropout\n",
    "        x = self.drop_shortcut(x)\n",
    "        # 添加残差连接\n",
    "        x = x + shortcut  # 加回原始输入\n",
    "\n",
    "        # 前馈网络块的残差连接\n",
    "        shortcut = x\n",
    "        # 第二个层归一化\n",
    "        x = self.norm2(x)\n",
    "        # 应用前馈网络\n",
    "        x = self.ff(x)\n",
    "        # 应用dropout\n",
    "        x = self.drop_shortcut(x)\n",
    "        # 添加残差连接\n",
    "        x = x + shortcut  # 加回原始输入\n",
    "\n",
    "        return x\n",
    "\n",
    "\n",
    "class GPTModel(nn.Module):\n",
    "    def __init__(self, cfg):\n",
    "        # 初始化GPT模型\n",
    "        super().__init__()\n",
    "        # 创建词嵌入层\n",
    "        self.tok_emb = nn.Embedding(cfg[\"vocab_size\"], cfg[\"emb_dim\"])\n",
    "        # 创建位置嵌入层\n",
    "        self.pos_emb = nn.Embedding(cfg[\"context_length\"], cfg[\"emb_dim\"])\n",
    "        # 创建嵌入层的dropout\n",
    "        self.drop_emb = nn.Dropout(cfg[\"drop_rate_emb\"]) # 为嵌入层设置dropout\n",
    "\n",
    "        # 创建多个Transformer块\n",
    "        self.trf_blocks = nn.Sequential(\n",
    "            *[TransformerBlock(cfg) for _ in range(cfg[\"n_layers\"])])\n",
    "\n",
    "        # 创建最终的层归一化\n",
    "        self.final_norm = LayerNorm(cfg[\"emb_dim\"])\n",
    "        # 创建输出层（线性层）\n",
    "        self.out_head = nn.Linear(cfg[\"emb_dim\"], cfg[\"vocab_size\"], bias=False)\n",
    "\n",
    "    def forward(self, in_idx):\n",
    "        # 获取输入的批次大小和序列长度\n",
    "        batch_size, seq_len = in_idx.shape\n",
    "        # 计算词嵌入\n",
    "        tok_embeds = self.tok_emb(in_idx)\n",
    "        # 计算位置嵌入\n",
    "        pos_embeds = self.pos_emb(torch.arange(seq_len, device=in_idx.device))\n",
    "        # 组合词嵌入和位置嵌入\n",
    "        x = tok_embeds + pos_embeds  # 形状 [batch_size, num_tokens, emb_size]\n",
    "        # 应用嵌入层dropout\n",
    "        x = self.drop_emb(x)\n",
    "        # 通过Transformer块\n",
    "        x = self.trf_blocks(x)\n",
    "        # 应用最终的层归一化\n",
    "        x = self.final_norm(x)\n",
    "        # 计算输出logits\n",
    "        logits = self.out_head(x)\n",
    "        return logits"
   ]
  },
  {
   "cell_type": "code",
   "execution_count": 9,
   "id": "1d013d32-c275-4f42-be21-9010f1537227",
   "metadata": {},
   "outputs": [],
   "source": [
    "# 导入PyTorch库\n",
    "import torch\n",
    "\n",
    "# 设置随机种子以确保结果可复现\n",
    "torch.manual_seed(123)\n",
    "# 使用124M参数配置初始化GPT模型\n",
    "model = GPTModel(GPT_CONFIG_124M)"
   ]
  }
 ],
 "metadata": {
  "kernelspec": {
   "display_name": "Python 3 (ipykernel)",
   "language": "python",
   "name": "python3"
  },
  "language_info": {
   "codemirror_mode": {
    "name": "ipython",
    "version": 3
   },
   "file_extension": ".py",
   "mimetype": "text/x-python",
   "name": "python",
   "nbconvert_exporter": "python",
   "pygments_lexer": "ipython3",
   "version": "3.10.15"
  }
 },
 "nbformat": 4,
 "nbformat_minor": 5
}
