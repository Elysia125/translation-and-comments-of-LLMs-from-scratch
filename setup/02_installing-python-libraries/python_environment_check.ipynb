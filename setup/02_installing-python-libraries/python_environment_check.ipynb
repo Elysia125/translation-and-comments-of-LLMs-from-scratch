{
 "cells": [
  {
   "cell_type": "markdown",
   "id": "c31e08b0-f551-4d67-b95e-41f49de3b392",
   "metadata": {},
   "source": [
    "<font size=\"1\">\n",
    "Supplementary code for \"Build a Large Language Model From Scratch\": <a href=\"https://www.manning.com/books/build-a-large-language-model-from-scratch\">https://www.manning.com/books/build-a-large-language-model-from-scratch</a> by <a href=\"https://sebastianraschka.com\">Sebastian Raschka</a><br>\n",
    "Code repository: <a href=\"https://github.com/rasbt/LLMs-from-scratch\">https://github.com/rasbt/LLMs-from-scratch</a>\n",
    "</font>"
   ]
  },
  {
   "cell_type": "code",
   "execution_count": 3,
   "id": "67f6f7ed-b67d-465b-bf6f-a99b0d996930",
   "metadata": {
    "ExecuteTime": {
     "end_time": "2024-10-26T09:56:28.857074Z",
     "start_time": "2024-10-26T09:56:28.798719Z"
    }
   },
   "outputs": [
    {
     "name": "stdout",
     "output_type": "stream",
     "text": [
      "[OK] torch 2.4.0+cu124\n",
      "[OK] jupyterlab 4.2.5\n",
      "[FAIL] tiktoken 0.0, please upgrade to >= 0.5.1\n",
      "[OK] matplotlib 3.9.1\n",
      "[FAIL] tensorflow 0.0, please upgrade to >= 2.15.0\n",
      "[OK] tqdm 4.66.4\n",
      "[OK] numpy 1.26.4\n",
      "[OK] pandas 2.2.2\n",
      "[FAIL] psutil 5.9.0, please upgrade to >= 5.9.5\n"
     ]
    }
   ],
   "source": [
    "from python_environment_check import check_packages, get_requirements_dict\n",
    "\n",
    "d = get_requirements_dict()\n",
    "check_packages(d)"
   ]
  }
 ],
 "metadata": {
  "kernelspec": {
   "display_name": "Python 3 (ipykernel)",
   "language": "python",
   "name": "python3"
  },
  "language_info": {
   "codemirror_mode": {
    "name": "ipython",
    "version": 3
   },
   "file_extension": ".py",
   "mimetype": "text/x-python",
   "name": "python",
   "nbconvert_exporter": "python",
   "pygments_lexer": "ipython3",
   "version": "3.10.6"
  }
 },
 "nbformat": 4,
 "nbformat_minor": 5
}
